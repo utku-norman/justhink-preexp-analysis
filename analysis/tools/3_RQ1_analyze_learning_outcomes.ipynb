{
 "cells": [
  {
   "cell_type": "markdown",
   "id": "96dac602",
   "metadata": {},
   "source": [
    "This notebook computes the learning outcomes from the pre-test and post-test responses.\n",
    "\n",
    "We consider two learning goals:\n",
    "* LG1: identify a (feasible) solution to the problem\n",
    "* LG2: construct a correct (i.e. optimal) solution.\n",
    "    \n",
    "For LG1, we check connectedness, i.e. if solutions are spanning or not\n",
    "out.\n",
    "\n",
    "For LG2, we check optimality, i.e. how close was the solution to the correct solution, quantified by the error.\n",
    "\n",
    "RQ1: How does the learners' performance in the task change after collaborating with the robot?\n",
    "\n",
    "H1: A learner performs better in the post-test than the pre-test."
   ]
  },
  {
   "cell_type": "markdown",
   "id": "b27aed65",
   "metadata": {},
   "source": [
    "## Initialization"
   ]
  },
  {
   "cell_type": "code",
   "execution_count": 1,
   "id": "85f6a679",
   "metadata": {},
   "outputs": [],
   "source": [
    "import copy\n",
    "import pickle\n",
    "\n",
    "import pathlib as pl\n",
    "import pandas as pd\n",
    "import numpy as np\n",
    "\n",
    "import matplotlib.pyplot as plt\n",
    "import seaborn as sns\n",
    "\n",
    "from scipy.stats import wilcoxon, shapiro, ttest_rel\n",
    "from effsize.effsize import two_group_difference\n",
    "\n",
    "from utils import plot_comparison"
   ]
  },
  {
   "cell_type": "code",
   "execution_count": 2,
   "id": "eed01e17",
   "metadata": {},
   "outputs": [],
   "source": [
    "# Visuals in paper theme, with larger font and thicker lines.\n",
    "# sns.set_theme()\n",
    "sns.set_style('whitegrid')\n",
    "sns.set_context('paper', font_scale=1.5, rc={\"lines.linewidth\": 2.5})"
   ]
  },
  {
   "cell_type": "markdown",
   "id": "ff5567db",
   "metadata": {},
   "source": [
    "### Define paths."
   ]
  },
  {
   "cell_type": "code",
   "execution_count": 3,
   "id": "bf6b3aa6",
   "metadata": {},
   "outputs": [],
   "source": [
    "# Inputs.\n",
    "transitions_pickle_file = pl.Path(\n",
    "    '../processed_data/justhink21_transitions.pickle')\n",
    "\n",
    "# Outputs.\n",
    "learning_file = pl.Path(\n",
    "    '../processed_data/justhink21_learning_outcomes.csv')\n",
    "all_submissions_file = pl.Path(\n",
    "    '../processed_data/justhink21_submissions.csv')\n",
    "submissions_pickle_file = pl.Path(\n",
    "    '../processed_data/justhink21_submissions.pickle')\n",
    "\n",
    "figs_dir = pl.Path('../figures')\n",
    "feasible_fig_file = figs_dir.joinpath('learning_outcomes_is_feasible.pdf')\n",
    "optimal_fig_file = figs_dir.joinpath('learning_outcomes_is_optimal.pdf')\n",
    "error_fig_file = figs_dir.joinpath('learning_outcomes_error.pdf')\n",
    "learning_fig_file = figs_dir.joinpath('learning_outcomes.pdf')\n",
    "\n",
    "\n",
    "# Create the output figures directory if it does not exist.\n",
    "figs_dir.mkdir(exist_ok=True)"
   ]
  },
  {
   "cell_type": "code",
   "execution_count": 4,
   "id": "ba2fe8c7",
   "metadata": {},
   "outputs": [],
   "source": [
    "# Number of items i.e. questions in a test.\n",
    "test_item_counts = {\n",
    "    'pretest': 5,\n",
    "    'posttest': 5,\n",
    "}"
   ]
  },
  {
   "cell_type": "markdown",
   "id": "3648c02e",
   "metadata": {},
   "source": [
    "### Load transition tables."
   ]
  },
  {
   "cell_type": "code",
   "execution_count": 5,
   "id": "9c93fbfd",
   "metadata": {},
   "outputs": [],
   "source": [
    "with transitions_pickle_file.open('rb') as handle:\n",
    "    transitions = pickle.load(handle)"
   ]
  },
  {
   "cell_type": "markdown",
   "id": "04ce49ea",
   "metadata": {},
   "source": [
    "<!-- ### Cleaning tables. -->"
   ]
  },
  {
   "cell_type": "markdown",
   "id": "2e474390",
   "metadata": {},
   "source": [
    "## Processing"
   ]
  },
  {
   "cell_type": "markdown",
   "id": "53095d59",
   "metadata": {},
   "source": [
    "### Filter for the submissions."
   ]
  },
  {
   "cell_type": "code",
   "execution_count": 6,
   "id": "c9fc9b44",
   "metadata": {
    "scrolled": true
   },
   "outputs": [
    {
     "name": "stdout",
     "output_type": "stream",
     "text": [
      "Filtering submissions for 1...\n",
      "Filtering submissions for 2...\n",
      "Filtering submissions for 3...\n",
      "Filtering submissions for 4...\n",
      "Filtering submissions for 5...\n",
      "Filtering submissions for 6...\n",
      "Filtering submissions for 7...\n",
      "Filtering submissions for 8...\n",
      "Filtering submissions for 9...\n",
      "Done!\n"
     ]
    }
   ],
   "source": [
    "def filter_submissions(transitions, verbose=False):\n",
    "    \"\"\"Get the submission states only, and drop the duplicates, \n",
    "    unused columns, keep state, activity, imported info.\"\"\"\n",
    "    tables = {}\n",
    "\n",
    "    for participant in sorted(transitions):\n",
    "        print('Filtering submissions for {}...'.format(participant))\n",
    "\n",
    "        df = transitions[participant].copy()\n",
    "\n",
    "        # Filter for the submission rows.\n",
    "        df = df[df['is_submission']]\n",
    "\n",
    "        # Remove duplicate rows from submission log and keeping the last submission.\n",
    "        df.drop_duplicates(\n",
    "            subset=['activity', 'attempt_no'], keep='last', inplace=True)\n",
    "\n",
    "        tables[participant] = df\n",
    "\n",
    "        if verbose:\n",
    "            display(df)\n",
    "\n",
    "    print('Done!')\n",
    "\n",
    "    return tables\n",
    "\n",
    "\n",
    "submissions = filter_submissions(transitions)\n",
    "\n",
    "# Sneak peek:\n",
    "# submissions[8]"
   ]
  },
  {
   "cell_type": "markdown",
   "id": "a55e69af",
   "metadata": {},
   "source": [
    "### Count feasible and optimal solutions in the tests."
   ]
  },
  {
   "cell_type": "code",
   "execution_count": 7,
   "id": "da9febd4",
   "metadata": {},
   "outputs": [
    {
     "name": "stdout",
     "output_type": "stream",
     "text": [
      " 1: feasible scores: pre-test 1.0, post-test 1.0\n",
      " 2: feasible scores: pre-test 0.8, post-test 1.0\n",
      " 3: feasible scores: pre-test 1.0, post-test 1.0\n",
      " 4: feasible scores: pre-test 0.8, post-test 1.0\n",
      " 5: feasible scores: pre-test 1.0, post-test 0.8\n",
      " 6: feasible scores: pre-test 1.0, post-test 0.8\n",
      " 7: feasible scores: pre-test 0.4, post-test 0.0\n",
      " 8: feasible scores: pre-test 1.0, post-test 1.0\n",
      " 9: feasible scores: pre-test 1.0, post-test 1.0\n"
     ]
    }
   ],
   "source": [
    "def count_feasible(df, test_name, total_count):\n",
    "    \"\"\"Count the number of feasible solutions given to a \n",
    "    pre-test or post-test.\"\"\"\n",
    "    count = 0\n",
    "    feas_count = 0\n",
    "    for index, row in df.iterrows():\n",
    "        if test_name in row['activity']:\n",
    "            count = count + 1\n",
    "            if row['is_spanning']:\n",
    "                feas_count = feas_count + 1\n",
    "\n",
    "    # Validity check.\n",
    "    if count != total_count:\n",
    "        print('Log of {} does not match with the number of items in {}'.format(\n",
    "            participant, test_name))\n",
    "        print(count, total_count)\n",
    "        raise ValueError\n",
    "\n",
    "    return feas_count\n",
    "\n",
    "\n",
    "def score_feasible(df, test_name, total_count):\n",
    "    return count_feasible(df, test_name, total_count) / total_count\n",
    "\n",
    "\n",
    "for participant, df in submissions.items():\n",
    "    print('{:2.0f}: feasible scores: pre-test {}, post-test {}'.format(\n",
    "        participant,\n",
    "        score_feasible(df, 'pretest', test_item_counts['pretest']),\n",
    "        score_feasible(df, 'posttest', test_item_counts['posttest'])))"
   ]
  },
  {
   "cell_type": "code",
   "execution_count": 8,
   "id": "1fa498fc",
   "metadata": {},
   "outputs": [
    {
     "name": "stdout",
     "output_type": "stream",
     "text": [
      " 1: optimal scores: pre-test 0.4, post-test 0.8\n",
      " 2: optimal scores: pre-test 0.0, post-test 0.8\n",
      " 3: optimal scores: pre-test 0.2, post-test 1.0\n",
      " 4: optimal scores: pre-test 0.0, post-test 0.0\n",
      " 5: optimal scores: pre-test 0.0, post-test 0.0\n",
      " 6: optimal scores: pre-test 0.0, post-test 0.0\n",
      " 7: optimal scores: pre-test 0.2, post-test 0.0\n",
      " 8: optimal scores: pre-test 0.0, post-test 0.0\n",
      " 9: optimal scores: pre-test 0.8, post-test 0.8\n"
     ]
    }
   ],
   "source": [
    "def count_optimal(df, test_name, total_count):\n",
    "    \"\"\"Count the number of optimal solutions given to a \n",
    "    pre-test or post-test.\"\"\"\n",
    "    count = 0\n",
    "    opt_count = 0\n",
    "    for index, row in df.iterrows():\n",
    "        if test_name in row['activity']:\n",
    "            count = count + 1\n",
    "            if row['is_mst']:\n",
    "                opt_count = opt_count + 1\n",
    "\n",
    "    # Validity check.\n",
    "    if count != total_count:\n",
    "        print('Log of {} does not match with the number of items in {}'.format(\n",
    "            participant, test_name))\n",
    "        print(count, total_count)\n",
    "        raise ValueError\n",
    "\n",
    "    return opt_count\n",
    "\n",
    "\n",
    "def score_optimal(df, test_name, total_count):\n",
    "    return count_optimal(df, test_name, total_count) / total_count\n",
    "\n",
    "\n",
    "for participant, df in submissions.items():\n",
    "    print('{:2.0f}: optimal scores: pre-test {}, post-test {}'.format(\n",
    "        participant,\n",
    "        score_optimal(df, 'pretest', test_item_counts['pretest']),\n",
    "        score_optimal(df, 'posttest', test_item_counts['posttest'])))"
   ]
  },
  {
   "cell_type": "markdown",
   "id": "ea7897f0",
   "metadata": {},
   "source": [
    "### Compute average error in the tests."
   ]
  },
  {
   "cell_type": "code",
   "execution_count": 9,
   "id": "92fac912",
   "metadata": {},
   "outputs": [
    {
     "name": "stdout",
     "output_type": "stream",
     "text": [
      " 1: average errors: pre-test 0.16952380952380955, post-test 0.013333333333333332\n",
      " 2: average errors: pre-test 0.31047619047619046, post-test 0.009523809523809523\n",
      " 3: average errors: pre-test 0.040634920634920635, post-test 0.0\n",
      " 4: average errors: pre-test 0.3898412698412698, post-test 0.3555555555555555\n",
      " 5: average errors: pre-test 0.3003174603174603, post-test 0.16698412698412696\n",
      " 6: average errors: pre-test 0.30984126984126986, post-test 0.14984126984126983\n",
      " 7: average errors: pre-test 0.04, post-test None\n",
      " 8: average errors: pre-test 0.9257142857142858, post-test 0.1034920634920635\n",
      " 9: average errors: pre-test 0.013333333333333332, post-test 0.009523809523809523\n"
     ]
    }
   ],
   "source": [
    "def compute_average_error(df, test_name, total_count):\n",
    "    \"\"\"Compute average error for a test.\"\"\"\n",
    "    total_error = 0\n",
    "    count = 0\n",
    "    valid_count = 0\n",
    "    for index, row in df.iterrows():\n",
    "        error = row['error']\n",
    "        if test_name in row['activity']:\n",
    "            count = count + 1\n",
    "            # Not computing the error for submissions that are not feasible/spanning.\n",
    "            if not np.isnan(error):\n",
    "                valid_count = valid_count + 1\n",
    "                total_error = total_error + error\n",
    "\n",
    "    # Validity check.\n",
    "    if count != total_count:\n",
    "        print('Log of {} does not match with the number of items in {}'.format(\n",
    "            participant, test_name))\n",
    "        print(count, total_count)\n",
    "        raise ValueError\n",
    "\n",
    "    # Compute average, handling if no valid responses.\n",
    "    if valid_count > 0:\n",
    "        average_error = total_error / total_count\n",
    "    else:\n",
    "        average_error = None\n",
    "    return average_error\n",
    "\n",
    "\n",
    "for participant, df in submissions.items():\n",
    "    print('{:2.0f}: average errors: pre-test {}, post-test {}'.format(\n",
    "        participant,\n",
    "        compute_average_error(df, 'pretest', test_item_counts['pretest']),\n",
    "        compute_average_error(df, 'posttest', test_item_counts['posttest'])))"
   ]
  },
  {
   "cell_type": "markdown",
   "id": "b06703fd",
   "metadata": {},
   "source": [
    "### Make the learning outcomes table."
   ]
  },
  {
   "cell_type": "code",
   "execution_count": 10,
   "id": "68fa49e7",
   "metadata": {},
   "outputs": [
    {
     "data": {
      "text/html": [
       "<div>\n",
       "<style scoped>\n",
       "    .dataframe tbody tr th:only-of-type {\n",
       "        vertical-align: middle;\n",
       "    }\n",
       "\n",
       "    .dataframe tbody tr th {\n",
       "        vertical-align: top;\n",
       "    }\n",
       "\n",
       "    .dataframe thead th {\n",
       "        text-align: right;\n",
       "    }\n",
       "</style>\n",
       "<table border=\"1\" class=\"dataframe\">\n",
       "  <thead>\n",
       "    <tr style=\"text-align: right;\">\n",
       "      <th></th>\n",
       "      <th>participant</th>\n",
       "      <th>time</th>\n",
       "      <th>activity</th>\n",
       "      <th>state</th>\n",
       "      <th>next_state</th>\n",
       "      <th>action</th>\n",
       "      <th>attempt_no</th>\n",
       "      <th>cost</th>\n",
       "      <th>opt_cost</th>\n",
       "      <th>error</th>\n",
       "      <th>is_submission</th>\n",
       "      <th>is_mst</th>\n",
       "      <th>is_spanning</th>\n",
       "    </tr>\n",
       "  </thead>\n",
       "  <tbody>\n",
       "    <tr>\n",
       "      <th>11</th>\n",
       "      <td>9</td>\n",
       "      <td>173.172581</td>\n",
       "      <td>pretest-1</td>\n",
       "      <td>Situation(Network(|E'|=6 in G(|V|=7, |E|=12)) ...</td>\n",
       "      <td>Situation(Network(|E'|=6 in G(|V|=7, |E|=12)) ...</td>\n",
       "      <td>Action(submit,Human)</td>\n",
       "      <td>1</td>\n",
       "      <td>16</td>\n",
       "      <td>15</td>\n",
       "      <td>0.066667</td>\n",
       "      <td>True</td>\n",
       "      <td>False</td>\n",
       "      <td>True</td>\n",
       "    </tr>\n",
       "    <tr>\n",
       "      <th>39</th>\n",
       "      <td>9</td>\n",
       "      <td>388.881071</td>\n",
       "      <td>pretest-2</td>\n",
       "      <td>Situation(Network(|E'|=6 in G(|V|=7, |E|=12)) ...</td>\n",
       "      <td>Situation(Network(|E'|=6 in G(|V|=7, |E|=12)) ...</td>\n",
       "      <td>Action(submit,Human)</td>\n",
       "      <td>1</td>\n",
       "      <td>30</td>\n",
       "      <td>30</td>\n",
       "      <td>0.000000</td>\n",
       "      <td>True</td>\n",
       "      <td>True</td>\n",
       "      <td>True</td>\n",
       "    </tr>\n",
       "    <tr>\n",
       "      <th>47</th>\n",
       "      <td>9</td>\n",
       "      <td>485.844014</td>\n",
       "      <td>pretest-3</td>\n",
       "      <td>Situation(Network(|E'|=6 in G(|V|=7, |E|=12)) ...</td>\n",
       "      <td>Situation(Network(|E'|=6 in G(|V|=7, |E|=12)) ...</td>\n",
       "      <td>Action(submit,Human)</td>\n",
       "      <td>1</td>\n",
       "      <td>21</td>\n",
       "      <td>21</td>\n",
       "      <td>0.000000</td>\n",
       "      <td>True</td>\n",
       "      <td>True</td>\n",
       "      <td>True</td>\n",
       "    </tr>\n",
       "    <tr>\n",
       "      <th>55</th>\n",
       "      <td>9</td>\n",
       "      <td>553.860019</td>\n",
       "      <td>pretest-4</td>\n",
       "      <td>Situation(Network(|E'|=6 in G(|V|=7, |E|=12)) ...</td>\n",
       "      <td>Situation(Network(|E'|=6 in G(|V|=7, |E|=12)) ...</td>\n",
       "      <td>Action(submit,Human)</td>\n",
       "      <td>1</td>\n",
       "      <td>45</td>\n",
       "      <td>45</td>\n",
       "      <td>0.000000</td>\n",
       "      <td>True</td>\n",
       "      <td>True</td>\n",
       "      <td>True</td>\n",
       "    </tr>\n",
       "    <tr>\n",
       "      <th>63</th>\n",
       "      <td>9</td>\n",
       "      <td>599.246740</td>\n",
       "      <td>pretest-5</td>\n",
       "      <td>Situation(Network(|E'|=6 in G(|V|=7, |E|=12)) ...</td>\n",
       "      <td>Situation(Network(|E'|=6 in G(|V|=7, |E|=12)) ...</td>\n",
       "      <td>Action(submit,Human)</td>\n",
       "      <td>1</td>\n",
       "      <td>15</td>\n",
       "      <td>15</td>\n",
       "      <td>0.000000</td>\n",
       "      <td>True</td>\n",
       "      <td>True</td>\n",
       "      <td>True</td>\n",
       "    </tr>\n",
       "    <tr>\n",
       "      <th>97</th>\n",
       "      <td>9</td>\n",
       "      <td>1102.227356</td>\n",
       "      <td>collaboration-1</td>\n",
       "      <td>Situation(Network(|E'|=9 in G(|V|=10, |E|=20))...</td>\n",
       "      <td>Situation(Network(|E'|=9 in G(|V|=10, |E|=20))...</td>\n",
       "      <td>Action(submit,Human)</td>\n",
       "      <td>1</td>\n",
       "      <td>22</td>\n",
       "      <td>22</td>\n",
       "      <td>0.000000</td>\n",
       "      <td>True</td>\n",
       "      <td>True</td>\n",
       "      <td>True</td>\n",
       "    </tr>\n",
       "    <tr>\n",
       "      <th>123</th>\n",
       "      <td>9</td>\n",
       "      <td>1466.594902</td>\n",
       "      <td>collaboration-2</td>\n",
       "      <td>Situation(Network(|E'|=9 in G(|V|=10, |E|=20))...</td>\n",
       "      <td>Situation(Network(|E'|=9 in G(|V|=10, |E|=20))...</td>\n",
       "      <td>Action(submit,Human)</td>\n",
       "      <td>1</td>\n",
       "      <td>35</td>\n",
       "      <td>35</td>\n",
       "      <td>0.000000</td>\n",
       "      <td>True</td>\n",
       "      <td>True</td>\n",
       "      <td>True</td>\n",
       "    </tr>\n",
       "    <tr>\n",
       "      <th>131</th>\n",
       "      <td>9</td>\n",
       "      <td>1695.049428</td>\n",
       "      <td>posttest-1</td>\n",
       "      <td>Situation(Network(|E'|=6 in G(|V|=7, |E|=12)) ...</td>\n",
       "      <td>Situation(Network(|E'|=6 in G(|V|=7, |E|=12)) ...</td>\n",
       "      <td>Action(submit,Human)</td>\n",
       "      <td>1</td>\n",
       "      <td>15</td>\n",
       "      <td>15</td>\n",
       "      <td>0.000000</td>\n",
       "      <td>True</td>\n",
       "      <td>True</td>\n",
       "      <td>True</td>\n",
       "    </tr>\n",
       "    <tr>\n",
       "      <th>141</th>\n",
       "      <td>9</td>\n",
       "      <td>1778.932197</td>\n",
       "      <td>posttest-2</td>\n",
       "      <td>Situation(Network(|E'|=6 in G(|V|=7, |E|=12)) ...</td>\n",
       "      <td>Situation(Network(|E'|=6 in G(|V|=7, |E|=12)) ...</td>\n",
       "      <td>Action(submit,Human)</td>\n",
       "      <td>1</td>\n",
       "      <td>30</td>\n",
       "      <td>30</td>\n",
       "      <td>0.000000</td>\n",
       "      <td>True</td>\n",
       "      <td>True</td>\n",
       "      <td>True</td>\n",
       "    </tr>\n",
       "    <tr>\n",
       "      <th>149</th>\n",
       "      <td>9</td>\n",
       "      <td>1852.988724</td>\n",
       "      <td>posttest-3</td>\n",
       "      <td>Situation(Network(|E'|=6 in G(|V|=7, |E|=12)) ...</td>\n",
       "      <td>Situation(Network(|E'|=6 in G(|V|=7, |E|=12)) ...</td>\n",
       "      <td>Action(submit,Human)</td>\n",
       "      <td>1</td>\n",
       "      <td>22</td>\n",
       "      <td>21</td>\n",
       "      <td>0.047619</td>\n",
       "      <td>True</td>\n",
       "      <td>False</td>\n",
       "      <td>True</td>\n",
       "    </tr>\n",
       "    <tr>\n",
       "      <th>157</th>\n",
       "      <td>9</td>\n",
       "      <td>1905.474198</td>\n",
       "      <td>posttest-4</td>\n",
       "      <td>Situation(Network(|E'|=6 in G(|V|=7, |E|=12)) ...</td>\n",
       "      <td>Situation(Network(|E'|=6 in G(|V|=7, |E|=12)) ...</td>\n",
       "      <td>Action(submit,Human)</td>\n",
       "      <td>1</td>\n",
       "      <td>45</td>\n",
       "      <td>45</td>\n",
       "      <td>0.000000</td>\n",
       "      <td>True</td>\n",
       "      <td>True</td>\n",
       "      <td>True</td>\n",
       "    </tr>\n",
       "    <tr>\n",
       "      <th>165</th>\n",
       "      <td>9</td>\n",
       "      <td>1973.571260</td>\n",
       "      <td>posttest-5</td>\n",
       "      <td>Situation(Network(|E'|=6 in G(|V|=7, |E|=12)) ...</td>\n",
       "      <td>Situation(Network(|E'|=6 in G(|V|=7, |E|=12)) ...</td>\n",
       "      <td>Action(submit,Human)</td>\n",
       "      <td>1</td>\n",
       "      <td>15</td>\n",
       "      <td>15</td>\n",
       "      <td>0.000000</td>\n",
       "      <td>True</td>\n",
       "      <td>True</td>\n",
       "      <td>True</td>\n",
       "    </tr>\n",
       "  </tbody>\n",
       "</table>\n",
       "</div>"
      ],
      "text/plain": [
       "     participant         time         activity  \\\n",
       "11             9   173.172581        pretest-1   \n",
       "39             9   388.881071        pretest-2   \n",
       "47             9   485.844014        pretest-3   \n",
       "55             9   553.860019        pretest-4   \n",
       "63             9   599.246740        pretest-5   \n",
       "97             9  1102.227356  collaboration-1   \n",
       "123            9  1466.594902  collaboration-2   \n",
       "131            9  1695.049428       posttest-1   \n",
       "141            9  1778.932197       posttest-2   \n",
       "149            9  1852.988724       posttest-3   \n",
       "157            9  1905.474198       posttest-4   \n",
       "165            9  1973.571260       posttest-5   \n",
       "\n",
       "                                                 state  \\\n",
       "11   Situation(Network(|E'|=6 in G(|V|=7, |E|=12)) ...   \n",
       "39   Situation(Network(|E'|=6 in G(|V|=7, |E|=12)) ...   \n",
       "47   Situation(Network(|E'|=6 in G(|V|=7, |E|=12)) ...   \n",
       "55   Situation(Network(|E'|=6 in G(|V|=7, |E|=12)) ...   \n",
       "63   Situation(Network(|E'|=6 in G(|V|=7, |E|=12)) ...   \n",
       "97   Situation(Network(|E'|=9 in G(|V|=10, |E|=20))...   \n",
       "123  Situation(Network(|E'|=9 in G(|V|=10, |E|=20))...   \n",
       "131  Situation(Network(|E'|=6 in G(|V|=7, |E|=12)) ...   \n",
       "141  Situation(Network(|E'|=6 in G(|V|=7, |E|=12)) ...   \n",
       "149  Situation(Network(|E'|=6 in G(|V|=7, |E|=12)) ...   \n",
       "157  Situation(Network(|E'|=6 in G(|V|=7, |E|=12)) ...   \n",
       "165  Situation(Network(|E'|=6 in G(|V|=7, |E|=12)) ...   \n",
       "\n",
       "                                            next_state                action  \\\n",
       "11   Situation(Network(|E'|=6 in G(|V|=7, |E|=12)) ...  Action(submit,Human)   \n",
       "39   Situation(Network(|E'|=6 in G(|V|=7, |E|=12)) ...  Action(submit,Human)   \n",
       "47   Situation(Network(|E'|=6 in G(|V|=7, |E|=12)) ...  Action(submit,Human)   \n",
       "55   Situation(Network(|E'|=6 in G(|V|=7, |E|=12)) ...  Action(submit,Human)   \n",
       "63   Situation(Network(|E'|=6 in G(|V|=7, |E|=12)) ...  Action(submit,Human)   \n",
       "97   Situation(Network(|E'|=9 in G(|V|=10, |E|=20))...  Action(submit,Human)   \n",
       "123  Situation(Network(|E'|=9 in G(|V|=10, |E|=20))...  Action(submit,Human)   \n",
       "131  Situation(Network(|E'|=6 in G(|V|=7, |E|=12)) ...  Action(submit,Human)   \n",
       "141  Situation(Network(|E'|=6 in G(|V|=7, |E|=12)) ...  Action(submit,Human)   \n",
       "149  Situation(Network(|E'|=6 in G(|V|=7, |E|=12)) ...  Action(submit,Human)   \n",
       "157  Situation(Network(|E'|=6 in G(|V|=7, |E|=12)) ...  Action(submit,Human)   \n",
       "165  Situation(Network(|E'|=6 in G(|V|=7, |E|=12)) ...  Action(submit,Human)   \n",
       "\n",
       "     attempt_no  cost  opt_cost     error  is_submission  is_mst  is_spanning  \n",
       "11            1    16        15  0.066667           True   False         True  \n",
       "39            1    30        30  0.000000           True    True         True  \n",
       "47            1    21        21  0.000000           True    True         True  \n",
       "55            1    45        45  0.000000           True    True         True  \n",
       "63            1    15        15  0.000000           True    True         True  \n",
       "97            1    22        22  0.000000           True    True         True  \n",
       "123           1    35        35  0.000000           True    True         True  \n",
       "131           1    15        15  0.000000           True    True         True  \n",
       "141           1    30        30  0.000000           True    True         True  \n",
       "149           1    22        21  0.047619           True   False         True  \n",
       "157           1    45        45  0.000000           True    True         True  \n",
       "165           1    15        15  0.000000           True    True         True  "
      ]
     },
     "execution_count": 10,
     "metadata": {},
     "output_type": "execute_result"
    }
   ],
   "source": [
    "submissions[9]"
   ]
  },
  {
   "cell_type": "code",
   "execution_count": 11,
   "id": "7b378b5a",
   "metadata": {
    "scrolled": true
   },
   "outputs": [
    {
     "data": {
      "text/html": [
       "<div>\n",
       "<style scoped>\n",
       "    .dataframe tbody tr th:only-of-type {\n",
       "        vertical-align: middle;\n",
       "    }\n",
       "\n",
       "    .dataframe tbody tr th {\n",
       "        vertical-align: top;\n",
       "    }\n",
       "\n",
       "    .dataframe thead th {\n",
       "        text-align: right;\n",
       "    }\n",
       "</style>\n",
       "<table border=\"1\" class=\"dataframe\">\n",
       "  <thead>\n",
       "    <tr style=\"text-align: right;\">\n",
       "      <th></th>\n",
       "      <th>pretest_feasible</th>\n",
       "      <th>posttest_feasible</th>\n",
       "      <th>pretest_optimal</th>\n",
       "      <th>posttest_optimal</th>\n",
       "      <th>pretest_error</th>\n",
       "      <th>posttest_error</th>\n",
       "      <th>pretest_errors</th>\n",
       "      <th>posttest_errors</th>\n",
       "    </tr>\n",
       "    <tr>\n",
       "      <th>participant</th>\n",
       "      <th></th>\n",
       "      <th></th>\n",
       "      <th></th>\n",
       "      <th></th>\n",
       "      <th></th>\n",
       "      <th></th>\n",
       "      <th></th>\n",
       "      <th></th>\n",
       "    </tr>\n",
       "  </thead>\n",
       "  <tbody>\n",
       "    <tr>\n",
       "      <th>1</th>\n",
       "      <td>1.0</td>\n",
       "      <td>1.0</td>\n",
       "      <td>0.4</td>\n",
       "      <td>0.8</td>\n",
       "      <td>0.169524</td>\n",
       "      <td>0.013333</td>\n",
       "      <td>[0.5333333333333333, 0.26666666666666666, 0.04...</td>\n",
       "      <td>[0.0, 0.0, 0.0, 0.0, 0.06666666666666667]</td>\n",
       "    </tr>\n",
       "    <tr>\n",
       "      <th>2</th>\n",
       "      <td>0.8</td>\n",
       "      <td>1.0</td>\n",
       "      <td>0.0</td>\n",
       "      <td>0.8</td>\n",
       "      <td>0.310476</td>\n",
       "      <td>0.009524</td>\n",
       "      <td>[nan, 0.6, 0.2857142857142857, 0.2, 0.46666666...</td>\n",
       "      <td>[0.0, 0.0, 0.047619047619047616, 0.0, 0.0]</td>\n",
       "    </tr>\n",
       "    <tr>\n",
       "      <th>3</th>\n",
       "      <td>1.0</td>\n",
       "      <td>1.0</td>\n",
       "      <td>0.2</td>\n",
       "      <td>1.0</td>\n",
       "      <td>0.040635</td>\n",
       "      <td>0.000000</td>\n",
       "      <td>[0.06666666666666667, 0.06666666666666667, 0.0...</td>\n",
       "      <td>[0.0, 0.0, 0.0, 0.0, 0.0]</td>\n",
       "    </tr>\n",
       "    <tr>\n",
       "      <th>4</th>\n",
       "      <td>0.8</td>\n",
       "      <td>1.0</td>\n",
       "      <td>0.0</td>\n",
       "      <td>0.0</td>\n",
       "      <td>0.389841</td>\n",
       "      <td>0.355556</td>\n",
       "      <td>[nan, 1.2666666666666666, 0.23809523809523808,...</td>\n",
       "      <td>[0.2, 0.4, 0.3333333333333333, 0.5111111111111...</td>\n",
       "    </tr>\n",
       "    <tr>\n",
       "      <th>5</th>\n",
       "      <td>1.0</td>\n",
       "      <td>0.8</td>\n",
       "      <td>0.0</td>\n",
       "      <td>0.0</td>\n",
       "      <td>0.300317</td>\n",
       "      <td>0.166984</td>\n",
       "      <td>[0.4666666666666667, 0.26666666666666666, 0.19...</td>\n",
       "      <td>[0.26666666666666666, nan, 0.19047619047619047...</td>\n",
       "    </tr>\n",
       "    <tr>\n",
       "      <th>6</th>\n",
       "      <td>1.0</td>\n",
       "      <td>0.8</td>\n",
       "      <td>0.0</td>\n",
       "      <td>0.0</td>\n",
       "      <td>0.309841</td>\n",
       "      <td>0.149841</td>\n",
       "      <td>[0.26666666666666666, 0.5333333333333333, 0.23...</td>\n",
       "      <td>[nan, 0.26666666666666666, 0.23809523809523808...</td>\n",
       "    </tr>\n",
       "    <tr>\n",
       "      <th>7</th>\n",
       "      <td>0.4</td>\n",
       "      <td>0.0</td>\n",
       "      <td>0.2</td>\n",
       "      <td>0.0</td>\n",
       "      <td>0.040000</td>\n",
       "      <td>NaN</td>\n",
       "      <td>[0.2, 0.0, nan, nan, nan]</td>\n",
       "      <td>[nan, nan, nan, nan, nan]</td>\n",
       "    </tr>\n",
       "    <tr>\n",
       "      <th>8</th>\n",
       "      <td>1.0</td>\n",
       "      <td>1.0</td>\n",
       "      <td>0.0</td>\n",
       "      <td>0.0</td>\n",
       "      <td>0.925714</td>\n",
       "      <td>0.103492</td>\n",
       "      <td>[0.2, 1.6, 1.4285714285714286, 1.2, 0.2]</td>\n",
       "      <td>[0.13333333333333333, 0.2, 0.09523809523809523...</td>\n",
       "    </tr>\n",
       "    <tr>\n",
       "      <th>9</th>\n",
       "      <td>1.0</td>\n",
       "      <td>1.0</td>\n",
       "      <td>0.8</td>\n",
       "      <td>0.8</td>\n",
       "      <td>0.013333</td>\n",
       "      <td>0.009524</td>\n",
       "      <td>[0.06666666666666667, 0.0, 0.0, 0.0, 0.0]</td>\n",
       "      <td>[0.0, 0.0, 0.047619047619047616, 0.0, 0.0]</td>\n",
       "    </tr>\n",
       "  </tbody>\n",
       "</table>\n",
       "</div>"
      ],
      "text/plain": [
       "             pretest_feasible  posttest_feasible  pretest_optimal  \\\n",
       "participant                                                         \n",
       "1                         1.0                1.0              0.4   \n",
       "2                         0.8                1.0              0.0   \n",
       "3                         1.0                1.0              0.2   \n",
       "4                         0.8                1.0              0.0   \n",
       "5                         1.0                0.8              0.0   \n",
       "6                         1.0                0.8              0.0   \n",
       "7                         0.4                0.0              0.2   \n",
       "8                         1.0                1.0              0.0   \n",
       "9                         1.0                1.0              0.8   \n",
       "\n",
       "             posttest_optimal  pretest_error  posttest_error  \\\n",
       "participant                                                    \n",
       "1                         0.8       0.169524        0.013333   \n",
       "2                         0.8       0.310476        0.009524   \n",
       "3                         1.0       0.040635        0.000000   \n",
       "4                         0.0       0.389841        0.355556   \n",
       "5                         0.0       0.300317        0.166984   \n",
       "6                         0.0       0.309841        0.149841   \n",
       "7                         0.0       0.040000             NaN   \n",
       "8                         0.0       0.925714        0.103492   \n",
       "9                         0.8       0.013333        0.009524   \n",
       "\n",
       "                                                pretest_errors  \\\n",
       "participant                                                      \n",
       "1            [0.5333333333333333, 0.26666666666666666, 0.04...   \n",
       "2            [nan, 0.6, 0.2857142857142857, 0.2, 0.46666666...   \n",
       "3            [0.06666666666666667, 0.06666666666666667, 0.0...   \n",
       "4            [nan, 1.2666666666666666, 0.23809523809523808,...   \n",
       "5            [0.4666666666666667, 0.26666666666666666, 0.19...   \n",
       "6            [0.26666666666666666, 0.5333333333333333, 0.23...   \n",
       "7                                    [0.2, 0.0, nan, nan, nan]   \n",
       "8                     [0.2, 1.6, 1.4285714285714286, 1.2, 0.2]   \n",
       "9                    [0.06666666666666667, 0.0, 0.0, 0.0, 0.0]   \n",
       "\n",
       "                                               posttest_errors  \n",
       "participant                                                     \n",
       "1                    [0.0, 0.0, 0.0, 0.0, 0.06666666666666667]  \n",
       "2                   [0.0, 0.0, 0.047619047619047616, 0.0, 0.0]  \n",
       "3                                    [0.0, 0.0, 0.0, 0.0, 0.0]  \n",
       "4            [0.2, 0.4, 0.3333333333333333, 0.5111111111111...  \n",
       "5            [0.26666666666666666, nan, 0.19047619047619047...  \n",
       "6            [nan, 0.26666666666666666, 0.23809523809523808...  \n",
       "7                                    [nan, nan, nan, nan, nan]  \n",
       "8            [0.13333333333333333, 0.2, 0.09523809523809523...  \n",
       "9                   [0.0, 0.0, 0.047619047619047616, 0.0, 0.0]  "
      ]
     },
     "execution_count": 11,
     "metadata": {},
     "output_type": "execute_result"
    }
   ],
   "source": [
    "participants = sorted(submissions.keys())\n",
    "tests = ['pretest', 'posttest']\n",
    "\n",
    "learning_df = pd.DataFrame(index=participants)\n",
    "learning_df.index.name = 'participant'\n",
    "for test in tests:\n",
    "    # Get feasible score (% valid) per participant.\n",
    "    count = test_item_counts[test]\n",
    "    learning_df['{}_feasible'.format(test)] = \\\n",
    "        [score_feasible(submissions[p], test, count)\n",
    "         for p in learning_df.index]\n",
    "\n",
    "for test in tests:\n",
    "    # Get optimal score (% correct) per participant.\n",
    "    count = test_item_counts[test]\n",
    "    learning_df['{}_optimal'.format(test)] = \\\n",
    "        [score_optimal(submissions[p], test, count)\n",
    "         for p in learning_df.index]\n",
    "\n",
    "for test in tests:\n",
    "    # Get average error per participant.\n",
    "    count = test_item_counts[test]\n",
    "    learning_df['{}_error'.format(test)] = \\\n",
    "        [compute_average_error(submissions[p], test, count)\n",
    "         for p in learning_df.index]\n",
    "    \n",
    "for test in tests:\n",
    "    # Get the list of errors per participant.\n",
    "    error_lists = list()\n",
    "    for p in learning_df.index:\n",
    "        df = submissions[p].copy()\n",
    "        df = df[[test in a for a in df.activity]]\n",
    "        error_lists.append(list(df['error']))\n",
    "    learning_df['{}_errors'.format(test)] = error_lists\n",
    "\n",
    "learning_df"
   ]
  },
  {
   "cell_type": "markdown",
   "id": "d1c88ed4",
   "metadata": {},
   "source": [
    "### Compute relative learning gain for feasible and optimal responses [1].\n",
    "$$ \n",
    "RLG = \\begin{cases} \n",
    "      \\frac{posttest - pretest}{Max - pretest} & posttest \\geq pretest \\\\\n",
    "      \\frac{posttest - pretest}{pretest} & posttest < pretest.\n",
    "\\end{cases}\n",
    "$$\n",
    "\n",
    "\n",
    "[1] M. Sangin, G. Molinari, M.-A. Nüssli, and P. Dillenbourg, “Facilitating peer knowledge modeling: Effects of a knowledge awareness tool on collaborative learning outcomes and processes,” Computers in Human Behavior, vol. 27, no. 3, pp. 1059–1067, May 2011, doi: 10.1016/j.chb.2010.05.032."
   ]
  },
  {
   "cell_type": "code",
   "execution_count": 12,
   "id": "7e31da8d",
   "metadata": {},
   "outputs": [],
   "source": [
    "for suffix in ['feasible', 'optimal']:\n",
    "    pre_col = 'pretest_{}'.format(suffix)\n",
    "    post_col = 'posttest_{}'.format(suffix)\n",
    "    result_col = 'gain_{}'.format(suffix)\n",
    "    \n",
    "    values = list()\n",
    "    for participant in learning_df.index:\n",
    "        pre = learning_df.loc[participant, pre_col]\n",
    "        post = learning_df.loc[participant, post_col]\n",
    "        if post == 0 and pre == 0:\n",
    "            v = np.nan\n",
    "        elif post > pre:\n",
    "            v = 1.0 * (post - pre) / (1 - pre)\n",
    "        else:\n",
    "            v = 1.0 * (post - pre) / pre\n",
    "        values.append(v)\n",
    "\n",
    "    learning_df[result_col] = values"
   ]
  },
  {
   "cell_type": "markdown",
   "id": "99855c1d",
   "metadata": {},
   "source": [
    "### Compute learning gain in performance, by change in error."
   ]
  },
  {
   "cell_type": "code",
   "execution_count": 13,
   "id": "df422d98",
   "metadata": {},
   "outputs": [],
   "source": [
    "learning_df['learning_gain'] = \\\n",
    "    - (learning_df['posttest_error'] - learning_df['pretest_error'])"
   ]
  },
  {
   "cell_type": "markdown",
   "id": "3a09ed8f",
   "metadata": {},
   "source": [
    "### Merge the submission tables."
   ]
  },
  {
   "cell_type": "code",
   "execution_count": 14,
   "id": "7fdb91b1",
   "metadata": {},
   "outputs": [
    {
     "data": {
      "text/html": [
       "<div>\n",
       "<style scoped>\n",
       "    .dataframe tbody tr th:only-of-type {\n",
       "        vertical-align: middle;\n",
       "    }\n",
       "\n",
       "    .dataframe tbody tr th {\n",
       "        vertical-align: top;\n",
       "    }\n",
       "\n",
       "    .dataframe thead th {\n",
       "        text-align: right;\n",
       "    }\n",
       "</style>\n",
       "<table border=\"1\" class=\"dataframe\">\n",
       "  <thead>\n",
       "    <tr style=\"text-align: right;\">\n",
       "      <th></th>\n",
       "      <th>participant</th>\n",
       "      <th>time</th>\n",
       "      <th>activity</th>\n",
       "      <th>state</th>\n",
       "      <th>next_state</th>\n",
       "      <th>action</th>\n",
       "      <th>attempt_no</th>\n",
       "      <th>cost</th>\n",
       "      <th>opt_cost</th>\n",
       "      <th>error</th>\n",
       "      <th>is_mst</th>\n",
       "      <th>is_spanning</th>\n",
       "    </tr>\n",
       "  </thead>\n",
       "  <tbody>\n",
       "    <tr>\n",
       "      <th>0</th>\n",
       "      <td>1</td>\n",
       "      <td>161.277439</td>\n",
       "      <td>pretest-1</td>\n",
       "      <td>Situation(Network(|E'|=7 in G(|V|=7, |E|=12)) ...</td>\n",
       "      <td>Situation(Network(|E'|=7 in G(|V|=7, |E|=12)) ...</td>\n",
       "      <td>Action(submit,Human)</td>\n",
       "      <td>1</td>\n",
       "      <td>23</td>\n",
       "      <td>15</td>\n",
       "      <td>0.533333</td>\n",
       "      <td>False</td>\n",
       "      <td>True</td>\n",
       "    </tr>\n",
       "    <tr>\n",
       "      <th>1</th>\n",
       "      <td>1</td>\n",
       "      <td>251.009743</td>\n",
       "      <td>pretest-2</td>\n",
       "      <td>Situation(Network(|E'|=7 in G(|V|=7, |E|=12)) ...</td>\n",
       "      <td>Situation(Network(|E'|=7 in G(|V|=7, |E|=12)) ...</td>\n",
       "      <td>Action(submit,Human)</td>\n",
       "      <td>1</td>\n",
       "      <td>38</td>\n",
       "      <td>30</td>\n",
       "      <td>0.266667</td>\n",
       "      <td>False</td>\n",
       "      <td>True</td>\n",
       "    </tr>\n",
       "    <tr>\n",
       "      <th>2</th>\n",
       "      <td>1</td>\n",
       "      <td>319.224974</td>\n",
       "      <td>pretest-3</td>\n",
       "      <td>Situation(Network(|E'|=6 in G(|V|=7, |E|=12)) ...</td>\n",
       "      <td>Situation(Network(|E'|=6 in G(|V|=7, |E|=12)) ...</td>\n",
       "      <td>Action(submit,Human)</td>\n",
       "      <td>1</td>\n",
       "      <td>22</td>\n",
       "      <td>21</td>\n",
       "      <td>0.047619</td>\n",
       "      <td>False</td>\n",
       "      <td>True</td>\n",
       "    </tr>\n",
       "    <tr>\n",
       "      <th>3</th>\n",
       "      <td>1</td>\n",
       "      <td>386.282414</td>\n",
       "      <td>pretest-4</td>\n",
       "      <td>Situation(Network(|E'|=6 in G(|V|=7, |E|=12)) ...</td>\n",
       "      <td>Situation(Network(|E'|=6 in G(|V|=7, |E|=12)) ...</td>\n",
       "      <td>Action(submit,Human)</td>\n",
       "      <td>1</td>\n",
       "      <td>45</td>\n",
       "      <td>45</td>\n",
       "      <td>0.000000</td>\n",
       "      <td>True</td>\n",
       "      <td>True</td>\n",
       "    </tr>\n",
       "    <tr>\n",
       "      <th>4</th>\n",
       "      <td>1</td>\n",
       "      <td>435.368411</td>\n",
       "      <td>pretest-5</td>\n",
       "      <td>Situation(Network(|E'|=6 in G(|V|=7, |E|=12)) ...</td>\n",
       "      <td>Situation(Network(|E'|=6 in G(|V|=7, |E|=12)) ...</td>\n",
       "      <td>Action(submit,Human)</td>\n",
       "      <td>1</td>\n",
       "      <td>15</td>\n",
       "      <td>15</td>\n",
       "      <td>0.000000</td>\n",
       "      <td>True</td>\n",
       "      <td>True</td>\n",
       "    </tr>\n",
       "  </tbody>\n",
       "</table>\n",
       "</div>"
      ],
      "text/plain": [
       "   participant        time   activity  \\\n",
       "0            1  161.277439  pretest-1   \n",
       "1            1  251.009743  pretest-2   \n",
       "2            1  319.224974  pretest-3   \n",
       "3            1  386.282414  pretest-4   \n",
       "4            1  435.368411  pretest-5   \n",
       "\n",
       "                                               state  \\\n",
       "0  Situation(Network(|E'|=7 in G(|V|=7, |E|=12)) ...   \n",
       "1  Situation(Network(|E'|=7 in G(|V|=7, |E|=12)) ...   \n",
       "2  Situation(Network(|E'|=6 in G(|V|=7, |E|=12)) ...   \n",
       "3  Situation(Network(|E'|=6 in G(|V|=7, |E|=12)) ...   \n",
       "4  Situation(Network(|E'|=6 in G(|V|=7, |E|=12)) ...   \n",
       "\n",
       "                                          next_state                action  \\\n",
       "0  Situation(Network(|E'|=7 in G(|V|=7, |E|=12)) ...  Action(submit,Human)   \n",
       "1  Situation(Network(|E'|=7 in G(|V|=7, |E|=12)) ...  Action(submit,Human)   \n",
       "2  Situation(Network(|E'|=6 in G(|V|=7, |E|=12)) ...  Action(submit,Human)   \n",
       "3  Situation(Network(|E'|=6 in G(|V|=7, |E|=12)) ...  Action(submit,Human)   \n",
       "4  Situation(Network(|E'|=6 in G(|V|=7, |E|=12)) ...  Action(submit,Human)   \n",
       "\n",
       "   attempt_no  cost  opt_cost     error  is_mst  is_spanning  \n",
       "0           1    23        15  0.533333   False         True  \n",
       "1           1    38        30  0.266667   False         True  \n",
       "2           1    22        21  0.047619   False         True  \n",
       "3           1    45        45  0.000000    True         True  \n",
       "4           1    15        15  0.000000    True         True  "
      ]
     },
     "execution_count": 14,
     "metadata": {},
     "output_type": "execute_result"
    }
   ],
   "source": [
    "table_list = list()\n",
    "for participant in sorted(submissions):\n",
    "    df = submissions[participant].copy()\n",
    "    table_list.append(df)\n",
    "\n",
    "all_submissions_df = pd.concat(table_list)\n",
    "all_submissions_df.reset_index(drop=True, inplace=True)\n",
    "all_submissions_df.drop(columns=['is_submission'], inplace=True)\n",
    "\n",
    "all_submissions_df.head()"
   ]
  },
  {
   "cell_type": "markdown",
   "id": "3b1db51b",
   "metadata": {},
   "source": [
    "### Add the merged table to the submission tables."
   ]
  },
  {
   "cell_type": "code",
   "execution_count": 15,
   "id": "dda89fe4",
   "metadata": {},
   "outputs": [],
   "source": [
    "submissions['all'] = all_submissions_df"
   ]
  },
  {
   "cell_type": "markdown",
   "id": "e25edd9f",
   "metadata": {},
   "source": [
    "### Export the submissions tables in pickle format."
   ]
  },
  {
   "cell_type": "code",
   "execution_count": 16,
   "id": "76c1216e",
   "metadata": {},
   "outputs": [
    {
     "name": "stdout",
     "output_type": "stream",
     "text": [
      "Saved the submission tables to ../processed_data/justhink21_submissions.pickle\n"
     ]
    }
   ],
   "source": [
    "with submissions_pickle_file.open('wb') as handle:\n",
    "    pickle.dump(submissions, handle, protocol=pickle.HIGHEST_PROTOCOL)\n",
    "\n",
    "print('Saved the submission tables to {}'.format(submissions_pickle_file))"
   ]
  },
  {
   "cell_type": "markdown",
   "id": "4b027d5e",
   "metadata": {},
   "source": [
    "### Export the merged submissions table in CSV data format."
   ]
  },
  {
   "cell_type": "code",
   "execution_count": 17,
   "id": "3bd2a953",
   "metadata": {},
   "outputs": [
    {
     "name": "stdout",
     "output_type": "stream",
     "text": [
      "Saved all submissions table to ../processed_data/justhink21_submissions.csv\n"
     ]
    }
   ],
   "source": [
    "all_submissions_df.to_csv(all_submissions_file, index=False)\n",
    "print('Saved all submissions table to {}'.format(all_submissions_file))"
   ]
  },
  {
   "cell_type": "markdown",
   "id": "91f04c5a",
   "metadata": {},
   "source": [
    "### Export the learning outcomes table in CSV data format."
   ]
  },
  {
   "cell_type": "code",
   "execution_count": 18,
   "id": "c6d8ad04",
   "metadata": {},
   "outputs": [
    {
     "name": "stdout",
     "output_type": "stream",
     "text": [
      "Saved learning outcomes table to ../processed_data/justhink21_learning_outcomes.csv\n"
     ]
    }
   ],
   "source": [
    "learning_df.to_csv(learning_file)\n",
    "print('Saved learning outcomes table to {}'.format(learning_file))"
   ]
  },
  {
   "cell_type": "markdown",
   "id": "0a3620a0",
   "metadata": {},
   "source": [
    "## Hypothesis Testing"
   ]
  },
  {
   "cell_type": "markdown",
   "id": "10fbb4e8",
   "metadata": {},
   "source": [
    "### Test H1: A learner performs better in the post-test than the pre-test.\n",
    "We perform Wilcoxon signed-rank test and compute the effect size (estimated by Cliff's delta)."
   ]
  },
  {
   "cell_type": "code",
   "execution_count": 19,
   "id": "587a0a67",
   "metadata": {
    "scrolled": false
   },
   "outputs": [
    {
     "name": "stdout",
     "output_type": "stream",
     "text": [
      "## Checking feasible:\n",
      "Detected a tie for 1: 1.0 = 1.0\n",
      "Detected a tie for 3: 1.0 = 1.0\n",
      "Detected a tie for 8: 1.0 = 1.0\n",
      "Detected a tie for 9: 1.0 = 1.0\n",
      "# Shapiro:\n",
      "r(9): ShapiroResult(statistic=0.6369239091873169, pvalue=0.0002593619574327022)\n",
      "o(9): ShapiroResult(statistic=0.5572351217269897, pvalue=3.0105429686955176e-05)\n",
      "# t-test of related samples\n",
      "Can not do paired t-test: the distributions are not normal.\n",
      "# Wilcoxon signed-rank test for 5 samples (removed ties):\n",
      "r values: 0.800, 0.800, 1.000, 1.000, 0.400\n",
      "o values: 1.000, 1.000, 0.800, 0.800, 0.000\n",
      "Test result (Exact): W=5.0, p=0.625\n",
      "# Cliff's delta (9 samples) = -0.012345679012345734\n",
      "\n",
      "## Checking optimal:\n",
      "Detected a tie for 4: 0.0 = 0.0\n",
      "Detected a tie for 5: 0.0 = 0.0\n",
      "Detected a tie for 6: 0.0 = 0.0\n",
      "Detected a tie for 8: 0.0 = 0.0\n",
      "Detected a tie for 9: 0.8 = 0.8\n",
      "# Shapiro:\n",
      "r(9): ShapiroResult(statistic=0.7298680543899536, pvalue=0.0031641931273043156)\n",
      "o(9): ShapiroResult(statistic=0.7167351245880127, pvalue=0.002224899595603347)\n",
      "# t-test of related samples\n",
      "Can not do paired t-test: the distributions are not normal.\n",
      "# Wilcoxon signed-rank test for 4 samples (removed ties):\n",
      "r values: 0.400, 0.000, 0.200, 0.200\n",
      "o values: 0.800, 0.800, 1.000, 0.000\n",
      "Test result (Exact): W=1.0, p=0.25\n",
      "# Cliff's delta (9 samples) = 0.16049382716049387\n",
      "\n",
      "## Checking error:\n",
      "# Shapiro:\n",
      "r(8): ShapiroResult(statistic=0.8358798623085022, pvalue=0.0683099776506424)\n",
      "o(8): ShapiroResult(statistic=0.817490816116333, pvalue=0.043910637497901917)\n",
      "# t-test of related samples\n",
      "Can not do paired t-test: the distributions are not normal.\n",
      "# Wilcoxon signed-rank test for 8 samples (removed ties):\n",
      "r values: 0.170, 0.310, 0.041, 0.390, 0.300, 0.310, 0.926, 0.013\n",
      "o values: 0.013, 0.010, 0.000, 0.356, 0.167, 0.150, 0.103, 0.010\n",
      "Test result (Exact): W=0.0, p=0.0078125\n",
      "# Cliff's delta (8 samples) = -0.609375\n",
      "\n"
     ]
    }
   ],
   "source": [
    "for category in ['feasible', 'optimal', 'error']:\n",
    "    print('## Checking {}:'.format(category))\n",
    "\n",
    "    pre_col = 'pretest_{}'.format(category)\n",
    "    post_col = 'posttest_{}'.format(category)\n",
    "\n",
    "    df = learning_df.dropna(subset=[post_col, post_col])\n",
    "\n",
    "    r, o = list(), list()\n",
    "    r_noties, o_noties = list(), list()\n",
    "    for i, row in df.iterrows():\n",
    "        v1, v2 = row[pre_col], row[post_col]\n",
    "        if v1 == v2:\n",
    "            print('Detected a tie for {}: {} = {}'.format(\n",
    "                i, v1, v2))\n",
    "        else:\n",
    "            r_noties.append(v1)\n",
    "            o_noties.append(v2)\n",
    "        r.append(v1)\n",
    "        o.append(v2)\n",
    "\n",
    "    print('# Shapiro:')\n",
    "    r_shapiro_result = shapiro(r)\n",
    "    o_shapiro_result = shapiro(o)\n",
    "    print('r({}): {}'.format(len(r), r_shapiro_result))\n",
    "    print('o({}): {}'.format(len(o), o_shapiro_result))\n",
    "\n",
    "    print('# t-test of related samples')\n",
    "    if r_shapiro_result.pvalue < .05 or o_shapiro_result.pvalue < .05:\n",
    "        print('Can not do paired t-test: the distributions are not normal.')\n",
    "    else:\n",
    "        t, p = ttest_rel(r, o)\n",
    "        print('Exact: t={}, p={}'.format(t, p))\n",
    "\n",
    "    print('# Wilcoxon signed-rank test for {} samples (removed ties):'.format(len(r_noties)))\n",
    "    print('r values:', ', '.join(['{:.3f}'.format(val) for val in r_noties]))\n",
    "    print('o values:', ', '.join(['{:.3f}'.format(val) for val in o_noties]))\n",
    "    # Null hypothesis says they are the same:\n",
    "    # if p val less than threshold, reject hypothesis and\n",
    "    # conclude that post and pre are different.\n",
    "    w, p = wilcoxon(r_noties, o_noties, mode='exact')\n",
    "    print('Test result (Exact): W={}, p={}'.format(w, p))\n",
    "\n",
    "    # Estimate effect size by Cliff's Delta.\n",
    "    d = two_group_difference(control=r, test=o, effect_size='cliffs_delta')\n",
    "    print(\"# Cliff's delta ({} samples) = {}\".format(len(r), d))\n",
    "\n",
    "    print()"
   ]
  },
  {
   "cell_type": "markdown",
   "id": "a90d8047",
   "metadata": {},
   "source": [
    "## Visualizations"
   ]
  },
  {
   "cell_type": "markdown",
   "id": "8e5ab5b6",
   "metadata": {},
   "source": [
    "### Visualize feasible solutions in the tests."
   ]
  },
  {
   "cell_type": "code",
   "execution_count": 20,
   "id": "b3ec0d54",
   "metadata": {},
   "outputs": [],
   "source": [
    "test_xvalues = ['pre-test', 'post-test']"
   ]
  },
  {
   "cell_type": "code",
   "execution_count": 21,
   "id": "6137f806",
   "metadata": {
    "scrolled": false
   },
   "outputs": [
    {
     "name": "stdout",
     "output_type": "stream",
     "text": [
      "7 (0.4, 0.0) 0.4 0.0\n",
      "1 (1.0, 1.0) 1.0 1.0\n",
      "3 (1.0, 1.0) 0.99 0.99\n",
      "8 (1.0, 1.0) 0.98 0.98\n",
      "9 (1.0, 1.0) 0.97 0.97\n",
      "2 (0.8, 1.0) 0.8 0.96\n",
      "4 (0.8, 1.0) 0.79 0.95\n",
      "5 (1.0, 0.8) 0.96 0.8\n",
      "6 (1.0, 0.8) 0.95 0.79\n",
      "../figures/learning_outcomes_is_feasible.pdf\n"
     ]
    },
    {
     "data": {
      "image/png": "[encoded data removed]",
      "text/plain": [
       "<Figure size 360x504 with 1 Axes>"
      ]
     },
     "metadata": {},
     "output_type": "display_data"
    }
   ],
   "source": [
    "def plot_feasible(learning_df, ax=None, save=True, verbose=False):\n",
    "    # Order participants to have aligned offsets of repeating values.\n",
    "    participants = [7, 1, 3, 8, 9, 2, 4, 5, 6]\n",
    "\n",
    "    # Define function to retrieve and plot the feasible scores.\n",
    "    def get_values_from_row(row):\n",
    "        return (row.pretest_feasible, row.posttest_feasible)\n",
    "\n",
    "    # Plot the changes from pre-test to post-test.\n",
    "    plot_comparison(\n",
    "        learning_df, participants=participants, xvalues=test_xvalues,\n",
    "        ylabel='% feasible solutions', title='% Valid in Tests (H1.1)',\n",
    "        export_file=feasible_fig_file,  getter=get_values_from_row,\n",
    "        ax=ax, save=save, verbose=verbose)\n",
    "\n",
    "\n",
    "plot_feasible(learning_df, verbose=True)"
   ]
  },
  {
   "cell_type": "markdown",
   "id": "82bc208c",
   "metadata": {},
   "source": [
    "### Visualize optimal solutions by count in the tests."
   ]
  },
  {
   "cell_type": "code",
   "execution_count": 22,
   "id": "c0abac14",
   "metadata": {
    "code_folding": []
   },
   "outputs": [
    {
     "name": "stdout",
     "output_type": "stream",
     "text": [
      "../figures/learning_outcomes_is_optimal.pdf\n"
     ]
    },
    {
     "data": {
      "image/png": "[encoded data removed]",
      "text/plain": [
       "<Figure size 360x504 with 1 Axes>"
      ]
     },
     "metadata": {},
     "output_type": "display_data"
    }
   ],
   "source": [
    "def plot_optimal(learning_df, ax=None, save=True, verbose=False):\n",
    "    # Order participants to have aligned offsets of repeating values.\n",
    "    participants = [9, 1, 2, 3, 7, 4, 8, 5, 6]\n",
    "\n",
    "    # Define function to retrieve and plot the optimal scores.\n",
    "    def get_values_from_row(row):\n",
    "        return (row.pretest_optimal, row.posttest_optimal)\n",
    "\n",
    "    # Plot the changes from pre-test to post-test.\n",
    "    plot_comparison(\n",
    "        learning_df, participants=participants, xvalues=test_xvalues,\n",
    "        ylabel='% optimal solutions', title='% Correct in Tests (H1.2)',\n",
    "        export_file=optimal_fig_file, getter=get_values_from_row, ax=ax,\n",
    "        save=save, zero_offset=+0.025)\n",
    "\n",
    "\n",
    "plot_optimal(learning_df, verbose=True)"
   ]
  },
  {
   "cell_type": "markdown",
   "id": "036b8418",
   "metadata": {},
   "source": [
    "### Visualize optimal solutions by error in the tests."
   ]
  },
  {
   "cell_type": "code",
   "execution_count": 23,
   "id": "a7483365",
   "metadata": {},
   "outputs": [
    {
     "data": {
      "text/plain": [
       "False"
      ]
     },
     "execution_count": 23,
     "metadata": {},
     "output_type": "execute_result"
    }
   ],
   "source": [
    "# Define function to retrieve and plot the average errors.\n",
    "def get_values_from_row(row):\n",
    "    return (row.pretest_error, row.posttest_error)\n",
    "\n",
    "row = learning_df.loc[7]\n",
    "position = get_values_from_row(row)\n",
    "position\n",
    "np.isnan(position[0]) or np.isnan(position[0])"
   ]
  },
  {
   "cell_type": "code",
   "execution_count": 24,
   "id": "71afaccb",
   "metadata": {},
   "outputs": [
    {
     "name": "stdout",
     "output_type": "stream",
     "text": [
      "2 (0.31047619047619046, 0.009523809523809523) 0.31047619047619046 0.009523809523809523\n",
      "6 (0.30984126984126986, 0.14984126984126983) 0.30984126984126986 0.14984126984126983\n",
      "5 (0.3003174603174603, 0.16698412698412696) 0.3003174603174603 0.16698412698412696\n",
      "7 (0.04, nan) 0.04 nan\n",
      "4 (0.3898412698412698, 0.3555555555555555) 0.3898412698412698 0.3555555555555555\n",
      "8 (0.9257142857142858, 0.1034920634920635) 0.9257142857142858 0.1034920634920635\n",
      "3 (0.040634920634920635, 0.0) 0.040634920634920635 0.0\n",
      "9 (0.013333333333333332, 0.009523809523809523) 0.013333333333333332 0.009523809523809523\n",
      "1 (0.16952380952380955, 0.013333333333333332) 0.16952380952380955 0.013333333333333332\n",
      "../figures/learning_outcomes_error.pdf\n"
     ]
    },
    {
     "data": {
      "image/png": "[encoded data removed]",
      "text/plain": [
       "<Figure size 360x504 with 1 Axes>"
      ]
     },
     "metadata": {},
     "output_type": "display_data"
    }
   ],
   "source": [
    "def plot_error(learning_df, ax=None, save=True, verbose=False):\n",
    "    # Order participants to have aligned offsets of repeating values.\n",
    "    participants = [2, 6, 5, 7, 4, 8, 3, 9, 1]\n",
    "\n",
    "    # Define function to retrieve and plot the average errors.\n",
    "    def get_values_from_row(row):\n",
    "        return (row.pretest_error, row.posttest_error)\n",
    "\n",
    "    # Plot the changes from pre-test to post-test.\n",
    "    plot_comparison(\n",
    "        learning_df, participants=participants,\n",
    "        ylabel='average error', title='Error in Tests (H1.3)',\n",
    "        xvalues=test_xvalues, export_file=error_fig_file,\n",
    "        yticks=True, offset=0, ygrid=True, verbose=verbose,\n",
    "        getter=get_values_from_row, ax=ax, save=save)\n",
    "\n",
    "\n",
    "plot_error(learning_df, verbose=True)"
   ]
  },
  {
   "cell_type": "markdown",
   "id": "874e54d5",
   "metadata": {},
   "source": [
    "### Visualize all in one figure."
   ]
  },
  {
   "cell_type": "code",
   "execution_count": 25,
   "id": "7563f093",
   "metadata": {
    "code_folding": []
   },
   "outputs": [
    {
     "name": "stdout",
     "output_type": "stream",
     "text": [
      "../figures/learning_outcomes.pdf\n"
     ]
    },
    {
     "data": {
      "image/png": "[encoded data removed]",
      "text/plain": [
       "<Figure size 1152x288 with 3 Axes>"
      ]
     },
     "metadata": {},
     "output_type": "display_data"
    }
   ],
   "source": [
    "fig, axes = plt.subplots(1, 3, figsize=(16, 4))\n",
    "\n",
    "plot_feasible(learning_df, ax=axes[0], save=False)\n",
    "plot_optimal(learning_df, ax=axes[1], save=False)\n",
    "plot_error(learning_df, ax=axes[2], save=False)\n",
    "\n",
    "fig.tight_layout(pad=-0.1)\n",
    "plt.savefig(learning_fig_file, bbox_inches='tight')\n",
    "\n",
    "print(learning_fig_file)"
   ]
  }
 ],
 "metadata": {
  "kernelspec": {
   "display_name": "Python (JUSThink-preexp)",
   "language": "python",
   "name": "justhink-preexp-env"
  },
  "language_info": {
   "codemirror_mode": {
    "name": "ipython",
    "version": 3
   },
   "file_extension": ".py",
   "mimetype": "text/x-python",
   "name": "python",
   "nbconvert_exporter": "python",
   "pygments_lexer": "ipython3",
   "version": "3.8.10"
  },
  "toc": {
   "base_numbering": 1,
   "nav_menu": {},
   "number_sections": false,
   "sideBar": true,
   "skip_h1_title": false,
   "title_cell": "Table of Contents",
   "title_sidebar": "Contents",
   "toc_cell": false,
   "toc_position": {
    "height": "calc(100% - 180px)",
    "left": "10px",
    "top": "150px",
    "width": "274px"
   },
   "toc_section_display": true,
   "toc_window_display": true
  }
 },
 "nbformat": 4,
 "nbformat_minor": 5
}
