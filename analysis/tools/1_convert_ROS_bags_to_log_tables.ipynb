{
 "cells": [
  {
   "cell_type": "markdown",
   "id": "25f80949",
   "metadata": {},
   "source": [
    "This notebook converts the the logs in [ROS bag format](http://wiki.ros.org/rosbag), that were used to log the events in the application and robot actions, to tables in CSV data format.\n",
    "\n",
    "Tables are organised as per event type (i.e. per ROS topic) and per participant and exported to CSV files."
   ]
  },
  {
   "cell_type": "code",
   "execution_count": 1,
   "id": "23ede901",
   "metadata": {},
   "outputs": [],
   "source": [
    "import os\n",
    "import shutil\n",
    "\n",
    "import pandas as pd\n",
    "import pathlib as pl\n",
    "import bagpy"
   ]
  },
  {
   "cell_type": "markdown",
   "id": "70a80d3b",
   "metadata": {},
   "source": [
    "### Define paths."
   ]
  },
  {
   "cell_type": "code",
   "execution_count": 2,
   "id": "8e1b75c8",
   "metadata": {},
   "outputs": [],
   "source": [
    "data_dir = pl.Path('../../data/venue_2')\n",
    "processed_dir = pl.Path('../processed_data/logs')\n",
    "\n",
    "# Create output directories if they do not exist.\n",
    "for folder in [processed_dir]:\n",
    "    if not folder.exists():\n",
    "        folder.mkdir(parents=True)"
   ]
  },
  {
   "cell_type": "markdown",
   "id": "f1dd767b",
   "metadata": {},
   "source": [
    "### Make a temporary copy of the bag files.\n",
    "The bagpy module creates tables at the place of the bag file. Therefore, we make a temporary copy of each bag file, then delete them not to modify the original data folder."
   ]
  },
  {
   "cell_type": "code",
   "execution_count": 3,
   "id": "62018bca",
   "metadata": {},
   "outputs": [
    {
     "name": "stdout",
     "output_type": "stream",
     "text": [
      "9 bag files found:\n",
      "../../data/venue_2/1_2021-06-07_08-50-35.bag\n",
      "../../data/venue_2/2_2021-06-07_10-23-50.bag\n",
      "../../data/venue_2/3_2021-06-07_12-42-01.bag\n",
      "../../data/venue_2/4_2021-06-07_14-27-51.bag\n",
      "../../data/venue_2/5_2021-06-09_08-41-13.bag\n",
      "../../data/venue_2/6_2021-06-09_10-10-24.bag\n",
      "../../data/venue_2/7_2021-06-09_12-43-33.bag\n",
      "../../data/venue_2/8_2021-06-11_12-41-21.bag\n",
      "../../data/venue_2/9_2021-06-11_14-31-27.bag\n",
      "Copying ../../data/venue_2/1_2021-06-07_08-50-35.bag to ../processed_data/logs/justhink21_log_1.bag\n",
      "Copying ../../data/venue_2/2_2021-06-07_10-23-50.bag to ../processed_data/logs/justhink21_log_2.bag\n",
      "Copying ../../data/venue_2/3_2021-06-07_12-42-01.bag to ../processed_data/logs/justhink21_log_3.bag\n",
      "Copying ../../data/venue_2/4_2021-06-07_14-27-51.bag to ../processed_data/logs/justhink21_log_4.bag\n",
      "Copying ../../data/venue_2/5_2021-06-09_08-41-13.bag to ../processed_data/logs/justhink21_log_5.bag\n",
      "Copying ../../data/venue_2/6_2021-06-09_10-10-24.bag to ../processed_data/logs/justhink21_log_6.bag\n",
      "Copying ../../data/venue_2/7_2021-06-09_12-43-33.bag to ../processed_data/logs/justhink21_log_7.bag\n",
      "Copying ../../data/venue_2/8_2021-06-11_12-41-21.bag to ../processed_data/logs/justhink21_log_8.bag\n",
      "Copying ../../data/venue_2/9_2021-06-11_14-31-27.bag to ../processed_data/logs/justhink21_log_9.bag\n"
     ]
    }
   ],
   "source": [
    "# List of all bag files in the data directory.\n",
    "bag_files = sorted(data_dir.glob('*.bag'))\n",
    "print('{} bag files found:'.format(len(bag_files)))\n",
    "for file in sorted(bag_files):\n",
    "    print(file)\n",
    "\n",
    "# Make a map for the temporary copies.\n",
    "temp_map = {}\n",
    "for f in sorted(bag_files):\n",
    "    index = f.name.split('_')[0]\n",
    "    new_name = 'justhink21_log_{}.bag'.format(int(index))\n",
    "    temp_map[f] = processed_dir.joinpath(new_name)   \n",
    "\n",
    "# Copy each file to its temporary position.\n",
    "for original in sorted(temp_map):\n",
    "    temp = temp_map[original]\n",
    "    print('Copying {} to {}'.format(original, temp))\n",
    "    shutil.copy(original, temp)"
   ]
  },
  {
   "cell_type": "markdown",
   "id": "ac0bf1fe",
   "metadata": {},
   "source": [
    "### Convert bag files to csv files per topic and per participant."
   ]
  },
  {
   "cell_type": "code",
   "execution_count": 4,
   "id": "f5a1ef86",
   "metadata": {
    "scrolled": false
   },
   "outputs": [
    {
     "name": "stdout",
     "output_type": "stream",
     "text": [
      "Reading ../processed_data/logs/justhink21_log_1.bag\n",
      "[INFO]  Successfully created the data folder ../processed_data/logs/justhink21_log_1.\n",
      "Written participant log to ../processed_data/logs/justhink21_log_1.csv\n",
      "Reading ../processed_data/logs/justhink21_log_2.bag\n",
      "[INFO]  Successfully created the data folder ../processed_data/logs/justhink21_log_2.\n",
      "Written participant log to ../processed_data/logs/justhink21_log_2.csv\n",
      "Reading ../processed_data/logs/justhink21_log_3.bag\n",
      "[INFO]  Successfully created the data folder ../processed_data/logs/justhink21_log_3.\n",
      "Written participant log to ../processed_data/logs/justhink21_log_3.csv\n",
      "Reading ../processed_data/logs/justhink21_log_4.bag\n",
      "[INFO]  Successfully created the data folder ../processed_data/logs/justhink21_log_4.\n",
      "Written participant log to ../processed_data/logs/justhink21_log_4.csv\n",
      "Reading ../processed_data/logs/justhink21_log_5.bag\n",
      "[INFO]  Successfully created the data folder ../processed_data/logs/justhink21_log_5.\n",
      "Written participant log to ../processed_data/logs/justhink21_log_5.csv\n",
      "Reading ../processed_data/logs/justhink21_log_6.bag\n",
      "[INFO]  Successfully created the data folder ../processed_data/logs/justhink21_log_6.\n",
      "Written participant log to ../processed_data/logs/justhink21_log_6.csv\n",
      "Reading ../processed_data/logs/justhink21_log_7.bag\n",
      "[INFO]  Successfully created the data folder ../processed_data/logs/justhink21_log_7.\n",
      "Written participant log to ../processed_data/logs/justhink21_log_7.csv\n",
      "Reading ../processed_data/logs/justhink21_log_8.bag\n",
      "[INFO]  Successfully created the data folder ../processed_data/logs/justhink21_log_8.\n",
      "Written participant log to ../processed_data/logs/justhink21_log_8.csv\n",
      "Reading ../processed_data/logs/justhink21_log_9.bag\n",
      "[INFO]  Successfully created the data folder ../processed_data/logs/justhink21_log_9.\n",
      "Written participant log to ../processed_data/logs/justhink21_log_9.csv\n"
     ]
    }
   ],
   "source": [
    "# For each temporary bag file.\n",
    "for temp_bag_file in sorted(temp_map.values()):\n",
    "    participant_file = temp_bag_file.with_suffix('.csv')\n",
    "    print('Reading', str(temp_bag_file))\n",
    "\n",
    "    # Create a reader for the bag.\n",
    "    bag = bagpy.bagreader(str(temp_bag_file), verbose=True)\n",
    "\n",
    "    # Make a csv file for every topic in the bag:\n",
    "    # bagreader implicitly writes to csv files in a folder.\n",
    "    csvfiles = []\n",
    "    for topic in bag.topics:\n",
    "        file = bag.message_by_topic(topic)\n",
    "        csvfiles.append(file)\n",
    "\n",
    "    # Put all the logs of a participant into one table.\n",
    "    # table_list = list()\n",
    "    participant_df = pd.DataFrame()\n",
    "    # For each topic\n",
    "    for file in csvfiles:\n",
    "        # Construct a shorter name.\n",
    "        topic_name = str(file.split('/')[-1].split('.')[0])\n",
    "\n",
    "        participant_df = pd.concat(\n",
    "            [participant_df,\n",
    "             pd.DataFrame([[topic_name], []], columns=[\"Topic\"]),\n",
    "             ])\n",
    "        df = pd.read_csv(file)\n",
    "        \n",
    "        # Reset time to have duration in the time column.\n",
    "        df['Time'] -= df.iloc[0]['Time']\n",
    "\n",
    "        # Drop the header time columns.\n",
    "        l = ['header.stamp.secs', 'header.stamp.nsecs']\n",
    "        for col in l:\n",
    "            if col in df.columns:\n",
    "                df.drop(col, axis=1, inplace=True)\n",
    "\n",
    "        # Append the table from each topic into one table.\n",
    "        df['topic'] = topic_name\n",
    "        \n",
    "        participant_df = pd.concat([participant_df, df])\n",
    "    \n",
    "    # Make a csv file for the participant (all topics).\n",
    "    # participant_df.sort_values('Time', inplace=True)\n",
    "    participant_df.to_csv(participant_file, index=False)\n",
    "    print('Written participant log to {}'.format(participant_file))"
   ]
  },
  {
   "cell_type": "markdown",
   "id": "4bd9451c",
   "metadata": {},
   "source": [
    "### Delete the temporary bag files."
   ]
  },
  {
   "cell_type": "code",
   "execution_count": 5,
   "id": "6f42a31c",
   "metadata": {
    "scrolled": true
   },
   "outputs": [
    {
     "name": "stdout",
     "output_type": "stream",
     "text": [
      "Removed temporary bag file ../processed_data/logs/justhink21_log_1.bag\n",
      "Removed temporary bag file ../processed_data/logs/justhink21_log_2.bag\n",
      "Removed temporary bag file ../processed_data/logs/justhink21_log_3.bag\n",
      "Removed temporary bag file ../processed_data/logs/justhink21_log_4.bag\n",
      "Removed temporary bag file ../processed_data/logs/justhink21_log_5.bag\n",
      "Removed temporary bag file ../processed_data/logs/justhink21_log_6.bag\n",
      "Removed temporary bag file ../processed_data/logs/justhink21_log_7.bag\n",
      "Removed temporary bag file ../processed_data/logs/justhink21_log_8.bag\n",
      "Removed temporary bag file ../processed_data/logs/justhink21_log_9.bag\n"
     ]
    }
   ],
   "source": [
    "for temp in sorted(temp_map.values()):\n",
    "    os.remove(str(temp))\n",
    "    print(\"Removed temporary bag file {}\".format(temp))"
   ]
  }
 ],
 "metadata": {
  "kernelspec": {
   "display_name": "Python (JUSThink-preexp)",
   "language": "python",
   "name": "justhink-preexp-env"
  },
  "language_info": {
   "codemirror_mode": {
    "name": "ipython",
    "version": 3
   },
   "file_extension": ".py",
   "mimetype": "text/x-python",
   "name": "python",
   "nbconvert_exporter": "python",
   "pygments_lexer": "ipython3",
   "version": "3.8.10"
  },
  "toc": {
   "base_numbering": 1,
   "nav_menu": {},
   "number_sections": false,
   "sideBar": true,
   "skip_h1_title": false,
   "title_cell": "Table of Contents",
   "title_sidebar": "Contents",
   "toc_cell": false,
   "toc_position": {},
   "toc_section_display": true,
   "toc_window_display": true
  }
 },
 "nbformat": 4,
 "nbformat_minor": 5
}
