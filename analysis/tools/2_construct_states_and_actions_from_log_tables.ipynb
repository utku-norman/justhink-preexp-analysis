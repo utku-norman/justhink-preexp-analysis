{
 "cells": [
  {
   "cell_type": "markdown",
   "metadata": {},
   "source": [
    "This notebook constructs state and action objects from the log tables, and exports them as transition tables and lists in [pickle](https://docs.python.org/3/library/pickle.html) format."
   ]
  },
  {
   "cell_type": "code",
   "execution_count": null,
   "metadata": {
    "code_folding": []
   },
   "outputs": [],
   "source": [
    "import pickle\n",
    "\n",
    "import pathlib as pl\n",
    "import pandas as pd\n",
    "import networkx as nx\n",
    "\n",
    "from justhink_world import create_all_worlds\n",
    "from justhink_world.domain.state import NetworkState, EnvironmentState\n",
    "from justhink_world.agent import Human, Robot\n",
    "from justhink_world.domain.action import *"
   ]
  },
  {
   "cell_type": "markdown",
   "metadata": {},
   "source": [
    "### Define paths."
   ]
  },
  {
   "cell_type": "code",
   "execution_count": null,
   "metadata": {},
   "outputs": [],
   "source": [
    "resources_dir = pl.Path('resources')\n",
    "networks_dir = resources_dir.joinpath('networks')\n",
    "tables_dir = pl.Path('../processed_data/log_tables')\n",
    "\n",
    "transition_tables_pickle_file = pl.Path(\n",
    "    '../processed_data/justhink_spring21_transition_tables.pickle')\n",
    "transitions_pickle_file = pl.Path(\n",
    "    '../processed_data/justhink_spring21_transition_lists.pickle')"
   ]
  },
  {
   "cell_type": "markdown",
   "metadata": {},
   "source": [
    "### Create activity instances.\n",
    "Activities are represented in 'justhink_world' as worlds."
   ]
  },
  {
   "cell_type": "code",
   "execution_count": null,
   "metadata": {},
   "outputs": [],
   "source": [
    "worlds = create_all_worlds()\n",
    "\n",
    "# Print information on the activities.\n",
    "# The name of the activity.\n",
    "# name = 'pretest-1'\n",
    "name = 'collaboration-1'\n",
    "\n",
    "# Background network connections and costs for that activity.\n",
    "print(worlds[name].env.state.network.graph.edges(data=True))"
   ]
  },
  {
   "cell_type": "code",
   "execution_count": null,
   "metadata": {},
   "outputs": [],
   "source": [
    "# Construct an activity name map from the names in the logs\n",
    "# the latest names in the justhink_world representation package.\n",
    "world_renamer = {name: name for name in worlds}\n",
    "world_renamer['indiv-illustrate'] = 'tutorial'\n",
    "world_renamer['collab-activity'] = 'collaboration-1'\n",
    "world_renamer['collab-activity-2'] = 'collaboration-2'\n",
    "world_renamer['debriefing'] = 'bye'\n",
    "\n",
    "world_renamer"
   ]
  },
  {
   "cell_type": "markdown",
   "metadata": {},
   "source": [
    "### Read the state transition log files."
   ]
  },
  {
   "cell_type": "code",
   "execution_count": null,
   "metadata": {},
   "outputs": [],
   "source": [
    "# Discover the sate transition files.\n",
    "file_list = tables_dir.glob(\n",
    "    'justhink21_log_*/justhink_app-state_transition.csv')\n",
    "\n",
    "# Make a map from participant to log file path.\n",
    "files = {}\n",
    "for f in file_list:\n",
    "    i = int(str(f.parent).split('_')[-1])\n",
    "    files[i] = f\n",
    "\n",
    "# Read the log files.\n",
    "tables = {}\n",
    "for participant in files:\n",
    "    df = pd.read_csv(files[participant])\n",
    "    tables[participant] = df"
   ]
  },
  {
   "cell_type": "markdown",
   "metadata": {},
   "source": [
    "### Construct a state object from a log table row."
   ]
  },
  {
   "cell_type": "code",
   "execution_count": null,
   "metadata": {},
   "outputs": [],
   "source": [
    "def construct_state(row, graph, state_name='state', verbose=False):\n",
    "    \"\"\"Construct a state object from a log table row.\n",
    "\n",
    "    Note: The argument state_name='state' for the current state, \n",
    "    state_name='next_state' for the next state in\n",
    "    the 3-tuple logs of <state, action, next_state>\n",
    "    \"\"\"\n",
    "    # Reconstruct the list of selected edges from string.\n",
    "    edge_list_text = str(row['{}.edges'.format(state_name)])\n",
    "    edge_list = edge_list_text.strip('[').strip(']').split(',')\n",
    "    edges = list()\n",
    "    for edge_text in edge_list:\n",
    "        # if the edge list is empty, no edges are selected.\n",
    "        if edge_list[0] == '':\n",
    "            break\n",
    "        l = edge_text.split()\n",
    "        edge = (int(l[1]), int(l[3]))\n",
    "        edges.append(edge)\n",
    "    # Represent the selected edges as a subgraph.\n",
    "    subgraph = nx.Graph()\n",
    "    for u, v in edges:\n",
    "        subgraph.add_edge(u, v)\n",
    "\n",
    "    # Construct the suggested edge.\n",
    "    suggested_edge = (int(row['{}.suggested.u'.format(state_name)]),\n",
    "                      int(row['{}.suggested.v'.format(state_name)]))\n",
    "    if suggested_edge == (-1, -1):\n",
    "        suggested_edge = None\n",
    "\n",
    "    # Construct the terminal/not and submitting/not information.\n",
    "    is_terminal = bool(row['{}.terminal'.format(state_name)])\n",
    "    is_submitting = bool(row['{}.submit_suggested'.format(state_name)])\n",
    "\n",
    "    # Construct the set of active agents (indicating the turn at that state).\n",
    "    if row['turn_agent'] == 'human':\n",
    "        agents = frozenset({Human})\n",
    "    elif row['turn_agent'] == 'robot':\n",
    "        agents = frozenset({Robot})\n",
    "    else:\n",
    "        agents = frozenset()\n",
    "\n",
    "    # Create the network state object.\n",
    "    network = NetworkState(graph, subgraph, suggested_edge)\n",
    "\n",
    "    # Create the environment state object.\n",
    "    state = EnvironmentState(\n",
    "        network, agents=agents, is_submitting=is_submitting, is_terminal=is_terminal)\n",
    "\n",
    "    if verbose:\n",
    "        print(state)\n",
    "\n",
    "    return state\n",
    "\n",
    "\n",
    "# Example / try out:\n",
    "world = worlds['pretest-1']\n",
    "df = tables[1].copy()\n",
    "row_index = 10\n",
    "construct_state(df.iloc[row_index],\n",
    "                world.env.state.network.graph, verbose=True)"
   ]
  },
  {
   "cell_type": "markdown",
   "metadata": {},
   "source": [
    "### Construct an action object from a log table row."
   ]
  },
  {
   "cell_type": "code",
   "execution_count": null,
   "metadata": {},
   "outputs": [],
   "source": [
    "def construct_action(row, graph, verbose=False):\n",
    "    \"\"\"Construct an action object from a log table row.\"\"\"\n",
    "    action_type = row['action.type']\n",
    "    if row['action.agent_name'] == 'human':\n",
    "        agent = Human\n",
    "    elif row['action.agent_name'] == 'robot':\n",
    "        agent = Robot\n",
    "    else:\n",
    "        raise NotImplementedError\n",
    "\n",
    "    if action_type == 0:\n",
    "        return SuggestPickAction((row['action.edge.u'], row['action.edge.v']), agent)\n",
    "    if action_type == 1:\n",
    "        return PickAction((row['action.edge.u'], row['action.edge.v']), agent)\n",
    "    if action_type == 2:\n",
    "        return UnpickAction((row['action.edge.u'], row['action.edge.v']), agent)\n",
    "    if action_type == 3:\n",
    "        return SubmitAction(agent)\n",
    "    if action_type == 4:\n",
    "        return AttemptSubmitAction(agent)\n",
    "    if action_type == 5:\n",
    "        return ContinueAction(agent)\n",
    "    if action_type == 6:\n",
    "        return AgreeAction(agent)\n",
    "    if action_type == 7:\n",
    "        return DisagreeAction(agent)\n",
    "    if action_type == 8:\n",
    "        return ClearAction()\n",
    "    if action_type == 9:\n",
    "        print(\"TYPE_GUESS\")\n",
    "    return None\n",
    "\n",
    "\n",
    "# Example / try out:\n",
    "world = worlds['pretest-1']\n",
    "df = tables[1].copy()\n",
    "row_index = 10\n",
    "construct_action(\n",
    "    df.iloc[row_index], world.env.state.network.graph, verbose=True)"
   ]
  },
  {
   "cell_type": "markdown",
   "metadata": {},
   "source": [
    "### Construct all states and actions for a log table.\n",
    "\n",
    "Iterate through the rows.\n",
    "Also append world_state, action, is_submission, cost, and is_mst columns to the table."
   ]
  },
  {
   "cell_type": "code",
   "execution_count": null,
   "metadata": {},
   "outputs": [],
   "source": [
    "def construct_state_from_table(df, state_name='state', verbose=False):\n",
    "    \"\"\"Construct all states and action for a log table.\n",
    "\n",
    "    Note: The argument state_name='state' for the current state, \n",
    "    state_name='next_state' for the next state in\n",
    "    the 3-tuple logs of <state, action, next_state>\n",
    "    \"\"\"\n",
    "    state_list = []\n",
    "    attempt_numbers = dict()\n",
    "    for i, row in df.iterrows():\n",
    "        # Rename the activity to match with the updated representation package.\n",
    "        activity = row['header.frame_id']\n",
    "        activity = world_renamer[activity]\n",
    "        world = worlds[activity]\n",
    "\n",
    "        if activity not in attempt_numbers:\n",
    "            attempt_numbers[activity] = 1\n",
    "\n",
    "        state = construct_state(\n",
    "            row, world.env.state.network.graph, state_name=state_name)\n",
    "\n",
    "        is_submission = identify_submission_state(row)\n",
    "\n",
    "        # Update the attempt number.\n",
    "        if is_submission:\n",
    "            attempt_numbers[activity] = attempt_numbers[activity] + 1\n",
    "        state.attempt_no = attempt_numbers[activity]\n",
    "\n",
    "        # Update the max attempts.\n",
    "        if 'collab' in activity:\n",
    "            state.max_attempts = 4\n",
    "\n",
    "        state_list.append(state)\n",
    "\n",
    "    df[state_name] = state_list\n",
    "\n",
    "    return df"
   ]
  },
  {
   "cell_type": "code",
   "execution_count": null,
   "metadata": {
    "scrolled": true
   },
   "outputs": [],
   "source": [
    "def construct_actions_and_metadata_from_table(df, verbose=False):\n",
    "    \"\"\"Construct all states and action for a log table.\n",
    "\n",
    "    Note: The argument state_name='state' for the current state, \n",
    "    state_name='next_state' for the next state in\n",
    "    the 3-tuple logs of <state, action, next_state>\n",
    "    \"\"\"\n",
    "    is_submission_list = []\n",
    "    cost_list = []\n",
    "    is_mst_list = []\n",
    "    is_spanning_list = []\n",
    "    action_list = []\n",
    "\n",
    "    for i, row in df.iterrows():\n",
    "        # Rename the activity to match with the updated representation package.\n",
    "        activity = row['header.frame_id']\n",
    "        activity = world_renamer[activity]\n",
    "        world = worlds[activity]\n",
    "\n",
    "        action = construct_action(row, world.env.state.network.graph)\n",
    "        action_list.append(action)\n",
    "\n",
    "        state = row['state']\n",
    "\n",
    "        is_submission = identify_submission_state(row)\n",
    "        is_submission_list.append(is_submission)\n",
    "        if verbose and is_submission:\n",
    "            print('Submitted', activity, state)\n",
    "\n",
    "        cost_list.append(state.network.get_cost())\n",
    "        is_mst_list.append(state.network.is_mst())\n",
    "        is_spanning_list.append(state.network.is_spanning())\n",
    "\n",
    "    df['action'] = action_list\n",
    "    df['cost'] = cost_list\n",
    "    df['is_submission'] = is_submission_list\n",
    "    df['is_mst'] = is_mst_list\n",
    "    df['is_spanning'] = is_spanning_list\n",
    "\n",
    "    return df"
   ]
  },
  {
   "cell_type": "markdown",
   "metadata": {},
   "source": [
    "### Identify a submission action and the associated submitted state."
   ]
  },
  {
   "cell_type": "code",
   "execution_count": null,
   "metadata": {},
   "outputs": [],
   "source": [
    "def identify_submission_state(row):\n",
    "    \"\"\"Identify which problem state has been submitted\"\"\"\n",
    "    # check if the last state's action type is submit type 3 or 4\n",
    "    problem_name = row['header.frame_id']\n",
    "\n",
    "    # Renamed activities.\n",
    "    problem_name = world_renamer[problem_name]\n",
    "\n",
    "    action_type = row['action.type']\n",
    "\n",
    "    if 'test' in problem_name:\n",
    "        return action_type == 4\n",
    "\n",
    "    # For collaborative activities check for 3 only.\n",
    "    elif 'collab' in problem_name:\n",
    "        return action_type == 3\n",
    "\n",
    "    else:\n",
    "        return False\n",
    "    \n",
    "\n",
    "# Example / try out:\n",
    "# name = 'collab-activity'\n",
    "name = 'pretest-1'\n",
    "df = tables[1].copy()\n",
    "df = construct_state_from_table(df, state_name='next_state')\n",
    "df = construct_state_from_table(df, verbose=True)\n",
    "\n",
    "pd.options.display.max_columns = None\n",
    "# df"
   ]
  },
  {
   "cell_type": "markdown",
   "metadata": {},
   "source": [
    "### Construct a transition table from the log table for each participant."
   ]
  },
  {
   "cell_type": "code",
   "execution_count": null,
   "metadata": {
    "scrolled": true
   },
   "outputs": [],
   "source": [
    "transition_tables = {}\n",
    "for participant in sorted(tables):\n",
    "    df = tables[participant].copy()\n",
    "    \n",
    "    df = construct_state_from_table(df, state_name='state')\n",
    "    df = construct_state_from_table(df, state_name='next_state')\n",
    "    df = construct_actions_and_metadata_from_table(df)\n",
    "\n",
    "    transition_tables[participant] = df\n",
    "    print('Processed participant', participant)"
   ]
  },
  {
   "cell_type": "markdown",
   "metadata": {},
   "source": [
    "### Clean the tables, drop/rename columns."
   ]
  },
  {
   "cell_type": "code",
   "execution_count": null,
   "metadata": {},
   "outputs": [],
   "source": [
    "clean_transition_tables = dict()\n",
    "for participant in sorted(transition_tables):\n",
    "    df = transition_tables[participant].copy()\n",
    "\n",
    "    # Reset time to have duration in the time column.\n",
    "    df['Time'] -= df.iloc[0]['Time']\n",
    "    \n",
    "    name_map = {\n",
    "            'Time': 'time',\n",
    "            'header.frame_id': 'activity',\n",
    "        }\n",
    "    df.rename(columns=name_map, inplace=True)\n",
    "    \n",
    "    # Rename.\n",
    "    df['activity'] = [world_renamer[a] for a in df['activity']]\n",
    "\n",
    "    # Remove state element columns.\n",
    "    df.drop(\n",
    "        ['header.seq', \n",
    "         'header.stamp.secs', \n",
    "         'header.stamp.nsecs',\n",
    "         'action.agent_name',\n",
    "         'state.edges', \n",
    "         'state.suggested.u',\n",
    "         'state.suggested.v', \n",
    "         'state.terminal',\n",
    "         'state.submit_suggested', \n",
    "         'action.type',\n",
    "         'action.edge.u', \n",
    "         'action.edge.v',\n",
    "         'turn_agent', \n",
    "         'next_state.edges',\n",
    "         'next_state.suggested.u', \n",
    "         'next_state.suggested.v',\n",
    "            'next_state.terminal',\n",
    "         'next_state.submit_suggested', \n",
    "         'action_no', \n",
    "         'step_no'],\n",
    "        axis=1, inplace=True)\n",
    "\n",
    "    clean_transition_tables[participant] = df"
   ]
  },
  {
   "cell_type": "code",
   "execution_count": null,
   "metadata": {},
   "outputs": [],
   "source": [
    "# clean_transition_tables[1]"
   ]
  },
  {
   "cell_type": "markdown",
   "metadata": {},
   "source": [
    "### Export the transition tables in CSV data format."
   ]
  },
  {
   "cell_type": "code",
   "execution_count": null,
   "metadata": {},
   "outputs": [],
   "source": [
    "with transition_tables_pickle_file.open('wb') as handle:\n",
    "    pickle.dump(clean_transition_tables, handle, protocol=pickle.HIGHEST_PROTOCOL)\n",
    "\n",
    "print('Saved transition tables to {}'.format(transition_tables_pickle_file))"
   ]
  },
  {
   "cell_type": "markdown",
   "metadata": {},
   "source": [
    "### Construct state transition lists per activity."
   ]
  },
  {
   "cell_type": "code",
   "execution_count": null,
   "metadata": {
    "scrolled": false
   },
   "outputs": [],
   "source": [
    "# List of transitions, indexed by participant and then the activity name.\n",
    "transition_lists = dict()\n",
    "\n",
    "for participant, log_df in transition_tables.items():\n",
    "    print('Processing participant {}:'.format(participant))\n",
    "    transition_lists[participant] = dict()\n",
    "\n",
    "    for name in world_renamer:\n",
    "\n",
    "        df = log_df[log_df['header.frame_id'] == name].reset_index()\n",
    "\n",
    "        trans_list = []\n",
    "        for i, row in df.iterrows():\n",
    "            if i == 0:\n",
    "                trans_list.append(row['state'])\n",
    "            trans_list.append(row['action'])\n",
    "            trans_list.append(row['next_state'])\n",
    "\n",
    "        if len(trans_list) != 0:\n",
    "            print('  Added {} states for {} at {}'.format(\n",
    "                len(trans_list)+1//2, participant, name))\n",
    "            transition_lists[participant][world_renamer[name]] = trans_list"
   ]
  },
  {
   "cell_type": "markdown",
   "metadata": {},
   "source": [
    "### Export state transition lists."
   ]
  },
  {
   "cell_type": "code",
   "execution_count": null,
   "metadata": {},
   "outputs": [],
   "source": [
    "with transitions_pickle_file.open('wb') as handle:\n",
    "    pickle.dump(transition_lists, handle, protocol=pickle.HIGHEST_PROTOCOL)\n",
    "\n",
    "print('Saved transition lists to {}'.format(transitions_pickle_file))"
   ]
  }
 ],
 "metadata": {
  "kernelspec": {
   "display_name": "justhink_world",
   "language": "python",
   "name": "justhink_world"
  },
  "language_info": {
   "codemirror_mode": {
    "name": "ipython",
    "version": 3
   },
   "file_extension": ".py",
   "mimetype": "text/x-python",
   "name": "python",
   "nbconvert_exporter": "python",
   "pygments_lexer": "ipython3",
   "version": "3.8.10"
  },
  "toc": {
   "base_numbering": 1,
   "nav_menu": {},
   "number_sections": false,
   "sideBar": true,
   "skip_h1_title": false,
   "title_cell": "Table of Contents",
   "title_sidebar": "Contents",
   "toc_cell": false,
   "toc_position": {},
   "toc_section_display": true,
   "toc_window_display": false
  }
 },
 "nbformat": 4,
 "nbformat_minor": 5
}
