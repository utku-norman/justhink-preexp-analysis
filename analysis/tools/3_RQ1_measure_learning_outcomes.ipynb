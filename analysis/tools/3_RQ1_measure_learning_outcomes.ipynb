{
 "cells": [
  {
   "cell_type": "markdown",
   "metadata": {},
   "source": [
    "This notebook computes the learning outcomes from the pre-test and post-test responses.\n",
    "\n",
    "We consider two learning goals:\n",
    "* LG1: identify a (feasible) solution to the problem\n",
    "* LG2: construct a correct (i.e. optimal) solution.\n",
    "    \n",
    "For LG1, we check connectedness, i.e. if solutions are spanning or not\n",
    "out.\n",
    "\n",
    "For LG2, we check optimality, i.e. how close was the solution to the correct solution, quantified by the error."
   ]
  },
  {
   "cell_type": "code",
   "execution_count": 1,
   "metadata": {},
   "outputs": [],
   "source": [
    "import math\n",
    "import copy\n",
    "import pickle\n",
    "\n",
    "import pathlib as pl\n",
    "import pandas as pd\n",
    "\n",
    "import matplotlib.pyplot as plt\n",
    "import matplotlib.ticker as mtick\n",
    "import seaborn as sns\n",
    "\n",
    "from scipy.stats import wilcoxon, shapiro, ttest_rel\n",
    "from effsize.effsize import two_group_difference"
   ]
  },
  {
   "cell_type": "code",
   "execution_count": 2,
   "metadata": {},
   "outputs": [],
   "source": [
    "# Visuals in paper theme, with larger font and thicker lines.\n",
    "sns.set_theme()\n",
    "sns.set_context('paper', font_scale=1.5, rc={\"lines.linewidth\": 2.5})"
   ]
  },
  {
   "cell_type": "markdown",
   "metadata": {},
   "source": [
    "### Define paths."
   ]
  },
  {
   "cell_type": "code",
   "execution_count": 3,
   "metadata": {},
   "outputs": [],
   "source": [
    "# Inputs.\n",
    "transitions_pickle_file = pl.Path(\n",
    "    '../processed_data/justhink21_transitions.pickle')\n",
    "\n",
    "# Outputs.\n",
    "learning_file = pl.Path(\n",
    "    '../processed_data/justhink21_learning_outcomes.csv')\n",
    "all_submissions_file = pl.Path(\n",
    "    '../processed_data/justhink21_submissions.csv')\n",
    "submissions_pickle_file = pl.Path(\n",
    "    '../processed_data/justhink21_submissions.pickle')\n",
    "\n",
    "figs_dir = pl.Path('../figures')\n",
    "\n",
    "# Create the output figures directory if it does not exist.\n",
    "figs_dir.mkdir(exist_ok=True)"
   ]
  },
  {
   "cell_type": "code",
   "execution_count": 4,
   "metadata": {},
   "outputs": [],
   "source": [
    "# Number of items i.e. questions in a test.\n",
    "test_item_counts = {\n",
    "    'pretest': 5,\n",
    "    'posttest': 5,\n",
    "}"
   ]
  },
  {
   "cell_type": "markdown",
   "metadata": {},
   "source": [
    "### Load transition tables."
   ]
  },
  {
   "cell_type": "code",
   "execution_count": 5,
   "metadata": {},
   "outputs": [],
   "source": [
    "with transitions_pickle_file.open('rb') as handle:\n",
    "    transitions = pickle.load(handle)"
   ]
  },
  {
   "cell_type": "markdown",
   "metadata": {},
   "source": [
    "<!-- ### Cleaning tables. -->"
   ]
  },
  {
   "cell_type": "markdown",
   "metadata": {},
   "source": [
    "### Filter for the submissions."
   ]
  },
  {
   "cell_type": "code",
   "execution_count": 6,
   "metadata": {
    "scrolled": true
   },
   "outputs": [
    {
     "name": "stdout",
     "output_type": "stream",
     "text": [
      "Filtering submissions for 1...\n",
      "Filtering submissions for 2...\n",
      "Filtering submissions for 3...\n",
      "Filtering submissions for 4...\n",
      "Filtering submissions for 5...\n",
      "Filtering submissions for 6...\n",
      "Filtering submissions for 7...\n",
      "Filtering submissions for 8...\n",
      "Filtering submissions for 9...\n",
      "Done!\n"
     ]
    }
   ],
   "source": [
    "def filter_submissions(transitions, verbose=False):\n",
    "    \"\"\"Get the submission states only, and drop the duplicates, \n",
    "    unused columns, keep state, activity, imported info.\"\"\"\n",
    "    tables = {}\n",
    "\n",
    "    for participant in sorted(transitions):\n",
    "        print('Filtering submissions for {}...'.format(participant))\n",
    "\n",
    "        df = transitions[participant].copy()\n",
    "\n",
    "        # Filter for the submission rows.\n",
    "        df = df[df['is_submission']]\n",
    "\n",
    "        # Remove duplicate rows from submission log and keeping the last submission.\n",
    "        df.drop_duplicates(\n",
    "            subset=['activity', 'attempt_no'], keep='last', inplace=True)\n",
    "\n",
    "        tables[participant] = df\n",
    "\n",
    "        if verbose:\n",
    "            display(df)\n",
    "\n",
    "    print('Done!')\n",
    "\n",
    "    return tables\n",
    "\n",
    "\n",
    "submissions = filter_submissions(transitions)\n",
    "\n",
    "# Sneak peek:\n",
    "# submissions[8]"
   ]
  },
  {
   "cell_type": "markdown",
   "metadata": {},
   "source": [
    "### Count feasible and optimal solutions in the tests."
   ]
  },
  {
   "cell_type": "code",
   "execution_count": 7,
   "metadata": {},
   "outputs": [
    {
     "name": "stdout",
     "output_type": "stream",
     "text": [
      " 1: feasible scores: pre-test 1.0, post-test 1.0\n",
      " 2: feasible scores: pre-test 0.8, post-test 1.0\n",
      " 3: feasible scores: pre-test 1.0, post-test 1.0\n",
      " 4: feasible scores: pre-test 0.8, post-test 1.0\n",
      " 5: feasible scores: pre-test 1.0, post-test 0.8\n",
      " 6: feasible scores: pre-test 1.0, post-test 0.8\n",
      " 7: feasible scores: pre-test 0.4, post-test 0.0\n",
      " 8: feasible scores: pre-test 1.0, post-test 1.0\n",
      " 9: feasible scores: pre-test 1.0, post-test 1.0\n"
     ]
    }
   ],
   "source": [
    "def count_feasible(df, test_name, total_count):\n",
    "    \"\"\"Count the number of feasible solutions given to a \n",
    "    pre-test or post-test.\"\"\"\n",
    "    count = 0\n",
    "    feas_count = 0\n",
    "    for index, row in df.iterrows():\n",
    "        if test_name in row['activity']:\n",
    "            count = count + 1\n",
    "            if row['is_spanning']:\n",
    "                feas_count = feas_count + 1\n",
    "\n",
    "    # Validity check.\n",
    "    if count != total_count:\n",
    "        print('Log of {} does not match with the number of items in {}'.format(\n",
    "            participant, test_name))\n",
    "        print(count, total_count)\n",
    "        raise ValueError\n",
    "\n",
    "    return feas_count\n",
    "\n",
    "\n",
    "def score_feasible(df, test_name, total_count):\n",
    "    return count_feasible(df, test_name, total_count) / total_count\n",
    "\n",
    "\n",
    "for participant, df in submissions.items():\n",
    "    print('{:2.0f}: feasible scores: pre-test {}, post-test {}'.format(\n",
    "        participant,\n",
    "        score_feasible(df, 'pretest', test_item_counts['pretest']),\n",
    "        score_feasible(df, 'posttest', test_item_counts['posttest'])))"
   ]
  },
  {
   "cell_type": "code",
   "execution_count": 8,
   "metadata": {},
   "outputs": [
    {
     "name": "stdout",
     "output_type": "stream",
     "text": [
      " 1: optimal scores: pre-test 0.4, post-test 0.8\n",
      " 2: optimal scores: pre-test 0.0, post-test 0.8\n",
      " 3: optimal scores: pre-test 0.2, post-test 1.0\n",
      " 4: optimal scores: pre-test 0.0, post-test 0.0\n",
      " 5: optimal scores: pre-test 0.0, post-test 0.0\n",
      " 6: optimal scores: pre-test 0.0, post-test 0.0\n",
      " 7: optimal scores: pre-test 0.2, post-test 0.0\n",
      " 8: optimal scores: pre-test 0.0, post-test 0.0\n",
      " 9: optimal scores: pre-test 0.8, post-test 0.8\n"
     ]
    }
   ],
   "source": [
    "def count_optimal(df, test_name, total_count):\n",
    "    \"\"\"Count the number of optimal solutions given to a \n",
    "    pre-test or post-test.\"\"\"\n",
    "    count = 0\n",
    "    opt_count = 0\n",
    "    for index, row in df.iterrows():\n",
    "        if test_name in row['activity']:\n",
    "            count = count + 1\n",
    "            if row['is_mst']:\n",
    "                opt_count = opt_count + 1\n",
    "\n",
    "    # Validity check.\n",
    "    if count != total_count:\n",
    "        print('Log of {} does not match with the number of items in {}'.format(\n",
    "            participant, test_name))\n",
    "        print(count, total_count)\n",
    "        raise ValueError\n",
    "\n",
    "    return opt_count\n",
    "\n",
    "\n",
    "def score_optimal(df, test_name, total_count):\n",
    "    return count_optimal(df, test_name, total_count) / total_count\n",
    "\n",
    "\n",
    "for participant, df in submissions.items():\n",
    "    print('{:2.0f}: optimal scores: pre-test {}, post-test {}'.format(\n",
    "        participant,\n",
    "        score_optimal(df, 'pretest', test_item_counts['pretest']),\n",
    "        score_optimal(df, 'posttest', test_item_counts['posttest'])))"
   ]
  },
  {
   "cell_type": "markdown",
   "metadata": {},
   "source": [
    "### Compute average error in the tests."
   ]
  },
  {
   "cell_type": "code",
   "execution_count": 9,
   "metadata": {},
   "outputs": [
    {
     "name": "stdout",
     "output_type": "stream",
     "text": [
      " 1: average errors: pre-test 0.16952380952380955, post-test 0.013333333333333332\n",
      " 2: average errors: pre-test 0.31047619047619046, post-test 0.009523809523809523\n",
      " 3: average errors: pre-test 0.040634920634920635, post-test 0.0\n",
      " 4: average errors: pre-test 0.3898412698412698, post-test 0.3555555555555555\n",
      " 5: average errors: pre-test 0.3003174603174603, post-test 0.16698412698412696\n",
      " 6: average errors: pre-test 0.30984126984126986, post-test 0.14984126984126983\n",
      " 7: average errors: pre-test 0.04, post-test None\n",
      " 8: average errors: pre-test 0.9257142857142858, post-test 0.1034920634920635\n",
      " 9: average errors: pre-test 0.013333333333333332, post-test 0.009523809523809523\n"
     ]
    }
   ],
   "source": [
    "def compute_average_error(df, test_name, total_count):\n",
    "    \"\"\"Compute average error for a test.\"\"\"\n",
    "    total_error = 0\n",
    "    count = 0\n",
    "    valid_count = 0\n",
    "    for index, row in df.iterrows():\n",
    "        error = row['error']\n",
    "        if test_name in row['activity']:\n",
    "            count = count + 1\n",
    "            # Not computing the error for submissions that are not feasible/spanning.\n",
    "            if not math.isnan(error):\n",
    "                valid_count = valid_count + 1\n",
    "                total_error = total_error + error\n",
    "\n",
    "    # Validity check.\n",
    "    if count != total_count:\n",
    "        print('Log of {} does not match with the number of items in {}'.format(\n",
    "            participant, test_name))\n",
    "        print(count, total_count)\n",
    "        raise ValueError\n",
    "\n",
    "    # Compute average, handling if no valid responses.\n",
    "    if valid_count > 0:\n",
    "        average_error = total_error / total_count\n",
    "    else:\n",
    "        average_error = None\n",
    "    return average_error\n",
    "\n",
    "\n",
    "for participant, df in submissions.items():\n",
    "    print('{:2.0f}: average errors: pre-test {}, post-test {}'.format(\n",
    "        participant,\n",
    "        compute_average_error(df, 'pretest', test_item_counts['pretest']),\n",
    "        compute_average_error(df, 'posttest', test_item_counts['posttest'])))"
   ]
  },
  {
   "cell_type": "markdown",
   "metadata": {},
   "source": [
    "### Make a learning outcomes table."
   ]
  },
  {
   "cell_type": "code",
   "execution_count": 10,
   "metadata": {},
   "outputs": [
    {
     "data": {
      "text/html": [
       "<div>\n",
       "<style scoped>\n",
       "    .dataframe tbody tr th:only-of-type {\n",
       "        vertical-align: middle;\n",
       "    }\n",
       "\n",
       "    .dataframe tbody tr th {\n",
       "        vertical-align: top;\n",
       "    }\n",
       "\n",
       "    .dataframe thead th {\n",
       "        text-align: right;\n",
       "    }\n",
       "</style>\n",
       "<table border=\"1\" class=\"dataframe\">\n",
       "  <thead>\n",
       "    <tr style=\"text-align: right;\">\n",
       "      <th></th>\n",
       "      <th>pretest_feasible</th>\n",
       "      <th>posttest_feasible</th>\n",
       "      <th>pretest_optimal</th>\n",
       "      <th>posttest_optimal</th>\n",
       "      <th>pretest_error</th>\n",
       "      <th>posttest_error</th>\n",
       "    </tr>\n",
       "    <tr>\n",
       "      <th>participant</th>\n",
       "      <th></th>\n",
       "      <th></th>\n",
       "      <th></th>\n",
       "      <th></th>\n",
       "      <th></th>\n",
       "      <th></th>\n",
       "    </tr>\n",
       "  </thead>\n",
       "  <tbody>\n",
       "    <tr>\n",
       "      <th>1</th>\n",
       "      <td>1.0</td>\n",
       "      <td>1.0</td>\n",
       "      <td>0.4</td>\n",
       "      <td>0.8</td>\n",
       "      <td>0.169524</td>\n",
       "      <td>0.013333</td>\n",
       "    </tr>\n",
       "    <tr>\n",
       "      <th>2</th>\n",
       "      <td>0.8</td>\n",
       "      <td>1.0</td>\n",
       "      <td>0.0</td>\n",
       "      <td>0.8</td>\n",
       "      <td>0.310476</td>\n",
       "      <td>0.009524</td>\n",
       "    </tr>\n",
       "    <tr>\n",
       "      <th>3</th>\n",
       "      <td>1.0</td>\n",
       "      <td>1.0</td>\n",
       "      <td>0.2</td>\n",
       "      <td>1.0</td>\n",
       "      <td>0.040635</td>\n",
       "      <td>0.000000</td>\n",
       "    </tr>\n",
       "    <tr>\n",
       "      <th>4</th>\n",
       "      <td>0.8</td>\n",
       "      <td>1.0</td>\n",
       "      <td>0.0</td>\n",
       "      <td>0.0</td>\n",
       "      <td>0.389841</td>\n",
       "      <td>0.355556</td>\n",
       "    </tr>\n",
       "    <tr>\n",
       "      <th>5</th>\n",
       "      <td>1.0</td>\n",
       "      <td>0.8</td>\n",
       "      <td>0.0</td>\n",
       "      <td>0.0</td>\n",
       "      <td>0.300317</td>\n",
       "      <td>0.166984</td>\n",
       "    </tr>\n",
       "    <tr>\n",
       "      <th>6</th>\n",
       "      <td>1.0</td>\n",
       "      <td>0.8</td>\n",
       "      <td>0.0</td>\n",
       "      <td>0.0</td>\n",
       "      <td>0.309841</td>\n",
       "      <td>0.149841</td>\n",
       "    </tr>\n",
       "    <tr>\n",
       "      <th>7</th>\n",
       "      <td>0.4</td>\n",
       "      <td>0.0</td>\n",
       "      <td>0.2</td>\n",
       "      <td>0.0</td>\n",
       "      <td>0.040000</td>\n",
       "      <td>NaN</td>\n",
       "    </tr>\n",
       "    <tr>\n",
       "      <th>8</th>\n",
       "      <td>1.0</td>\n",
       "      <td>1.0</td>\n",
       "      <td>0.0</td>\n",
       "      <td>0.0</td>\n",
       "      <td>0.925714</td>\n",
       "      <td>0.103492</td>\n",
       "    </tr>\n",
       "    <tr>\n",
       "      <th>9</th>\n",
       "      <td>1.0</td>\n",
       "      <td>1.0</td>\n",
       "      <td>0.8</td>\n",
       "      <td>0.8</td>\n",
       "      <td>0.013333</td>\n",
       "      <td>0.009524</td>\n",
       "    </tr>\n",
       "  </tbody>\n",
       "</table>\n",
       "</div>"
      ],
      "text/plain": [
       "             pretest_feasible  posttest_feasible  pretest_optimal  \\\n",
       "participant                                                         \n",
       "1                         1.0                1.0              0.4   \n",
       "2                         0.8                1.0              0.0   \n",
       "3                         1.0                1.0              0.2   \n",
       "4                         0.8                1.0              0.0   \n",
       "5                         1.0                0.8              0.0   \n",
       "6                         1.0                0.8              0.0   \n",
       "7                         0.4                0.0              0.2   \n",
       "8                         1.0                1.0              0.0   \n",
       "9                         1.0                1.0              0.8   \n",
       "\n",
       "             posttest_optimal  pretest_error  posttest_error  \n",
       "participant                                                   \n",
       "1                         0.8       0.169524        0.013333  \n",
       "2                         0.8       0.310476        0.009524  \n",
       "3                         1.0       0.040635        0.000000  \n",
       "4                         0.0       0.389841        0.355556  \n",
       "5                         0.0       0.300317        0.166984  \n",
       "6                         0.0       0.309841        0.149841  \n",
       "7                         0.0       0.040000             NaN  \n",
       "8                         0.0       0.925714        0.103492  \n",
       "9                         0.8       0.013333        0.009524  "
      ]
     },
     "execution_count": 10,
     "metadata": {},
     "output_type": "execute_result"
    }
   ],
   "source": [
    "participants = sorted(submissions.keys())\n",
    "tests = ['pretest', 'posttest']\n",
    "\n",
    "learning_df = pd.DataFrame(index=participants)\n",
    "learning_df.index.name = 'participant'\n",
    "for test in tests:\n",
    "    count = test_item_counts[test]\n",
    "    learning_df['{}_feasible'.format(test)] = \\\n",
    "        [score_feasible(submissions[p], test, count)\n",
    "         for p in learning_df.index]\n",
    "\n",
    "for test in tests:\n",
    "    count = test_item_counts[test]\n",
    "    learning_df['{}_optimal'.format(test)] = \\\n",
    "        [score_optimal(submissions[p], test, count)\n",
    "         for p in learning_df.index]\n",
    "\n",
    "for test in tests:\n",
    "    count = test_item_counts[test]\n",
    "    learning_df['{}_error'.format(test)] = \\\n",
    "        [compute_average_error(submissions[p], test, count)\n",
    "         for p in learning_df.index]\n",
    "\n",
    "learning_df"
   ]
  },
  {
   "cell_type": "markdown",
   "metadata": {},
   "source": [
    "### Visualize feasible solutions in the tests."
   ]
  },
  {
   "cell_type": "code",
   "execution_count": 11,
   "metadata": {},
   "outputs": [
    {
     "data": {
      "text/plain": [
       "{1: (0.9450980392156862, 0.2980392156862745, 0.7568627450980392),\n",
       " 2: (0.10196078431372549, 0.788235294117647, 0.2196078431372549),\n",
       " 3: (1.0, 0.48627450980392156, 0.0),\n",
       " 4: (0.9098039215686274, 0.0, 0.043137254901960784),\n",
       " 5: (0.5450980392156862, 0.16862745098039217, 0.8862745098039215),\n",
       " 6: (1.0, 0.7686274509803922, 0.0),\n",
       " 7: (0.6235294117647059, 0.2823529411764706, 0.0),\n",
       " 8: (0.0, 0.8431372549019608, 1.0),\n",
       " 9: (0.00784313725490196, 0.24313725490196078, 1.0)}"
      ]
     },
     "execution_count": 11,
     "metadata": {},
     "output_type": "execute_result"
    }
   ],
   "source": [
    "# palette = sns.color_palette('colorblind')\n",
    "palette = sns.color_palette('bright')\n",
    "color_list = list(palette)\n",
    "\n",
    "colors = {p: color_list[p-1] for p in participants}\n",
    "# Swaps for opposite colors for better visuals.\n",
    "colors[8] = color_list[9]\n",
    "colors[9], colors[1] = colors[1], colors[9]\n",
    "colors[3], colors[1] = colors[1], colors[3]\n",
    "colors[2], colors[6] = colors[6], colors[2]\n",
    "colors[2], colors[1] = colors[1], colors[2]\n",
    "colors[3], colors[6] = colors[6], colors[3]\n",
    "colors[7], colors[1] = colors[1], colors[7]\n",
    "    \n",
    "colors"
   ]
  },
  {
   "cell_type": "code",
   "execution_count": 12,
   "metadata": {
    "scrolled": false
   },
   "outputs": [
    {
     "name": "stdout",
     "output_type": "stream",
     "text": [
      "7 (0.4, 0.0) 0.4 0.0\n",
      "1 (1.0, 1.0) 1.0 1.0\n",
      "3 (1.0, 1.0) 0.99 0.99\n",
      "8 (1.0, 1.0) 0.98 0.98\n",
      "9 (1.0, 1.0) 0.97 0.97\n",
      "2 (0.8, 1.0) 0.8 0.96\n",
      "4 (0.8, 1.0) 0.79 0.95\n",
      "5 (1.0, 0.8) 0.96 0.8\n",
      "6 (1.0, 0.8) 0.95 0.79\n",
      "../figures/learning_outcomes_is_feasible.pdf\n"
     ]
    },
    {
     "data": {
      "image/png": "[encoded data removed]",
      "text/plain": [
       "<Figure size 360x504 with 1 Axes>"
      ]
     },
     "metadata": {},
     "output_type": "display_data"
    }
   ],
   "source": [
    "def plot_pretest_posttest(\n",
    "        learning_df, getter,\n",
    "        participants=None,\n",
    "        fig=None, ax=None, offset=0.01,\n",
    "        zero_offset=0,\n",
    "        ylabel='', title='',\n",
    "        filename=None,\n",
    "        ylim=(-0.05, 1.05),\n",
    "        ygrid=False, save=True,\n",
    "        yticks=False, verbose=False):\n",
    "    \"\"\"Graph the pre-test versus post-test scores.\"\"\"\n",
    "    if participants is None:\n",
    "        participants = sorted(learning_df.index)\n",
    "    if ax is None:\n",
    "        fig, ax = plt.subplots(1, figsize=(5, 7))\n",
    "\n",
    "    # Positions.\n",
    "    prelist = list()\n",
    "    postlist = list()\n",
    "    positions = dict()\n",
    "    for participant in participants:\n",
    "        row = learning_df.loc[participant]\n",
    "        values = getter(row)\n",
    "\n",
    "        # Compute offset to prevent overlapping lines.\n",
    "        p0 = values[0] - prelist.count(round(values[0], 2)) * offset\n",
    "        p1 = values[1] - postlist.count(round(values[1], 2)) * offset\n",
    "        if zero_offset is not None:\n",
    "            if values[0] == 0:\n",
    "                p0 = p0 + zero_offset\n",
    "            if values[1] == 0:\n",
    "                p1 = p1 + zero_offset\n",
    "\n",
    "        prelist.append(values[0])\n",
    "        postlist.append(values[1])\n",
    "        if verbose:\n",
    "            print(participant, values, p0, p1)\n",
    "        positions[participant] = (p0, p1)\n",
    "\n",
    "    # Plot.\n",
    "    for participant in sorted(participants):\n",
    "        position = positions[participant]\n",
    "        # marker = 'o'\n",
    "        if math.isnan(position[0]) or math.isnan(position[1]):\n",
    "            marker = 'X'\n",
    "            ms = 14\n",
    "        else:\n",
    "            marker = 'o'\n",
    "            ms = 8\n",
    "            \n",
    "        # Plot a line segment for the participant.\n",
    "        sns.lineplot(\n",
    "            x=['pre-test', 'post-test'], y=position,\n",
    "            marker=marker, ms=ms,\n",
    "            color=colors[participant],\n",
    "            label=str(participant),\n",
    "            legend=False, ax=ax)\n",
    "\n",
    "    ax.set_ylabel(ylabel)\n",
    "    ax.yaxis.set_major_formatter(mtick.PercentFormatter(1.0))\n",
    "    if ylim:\n",
    "        ax.set_ylim(ylim[0], ylim[1])\n",
    "\n",
    "    # Turn on/off grid on the left Axis.\n",
    "    ax.grid(ygrid)\n",
    "\n",
    "    ax.set_title(title)\n",
    "\n",
    "    leg = plt.legend(sorted(participants), loc='upper left', frameon=True)\n",
    "    # Get the bounding box of the original legend.\n",
    "    bb = leg.get_bbox_to_anchor().inverse_transformed(ax.transAxes)\n",
    "    # Change to location of the legend.\n",
    "    xOffset = 1.05\n",
    "    bb.x0 += xOffset\n",
    "    bb.x1 += xOffset\n",
    "    leg.set_bbox_to_anchor(bb, transform=ax.transAxes)\n",
    "\n",
    "    if filename is not None and save:\n",
    "        export_file = figs_dir.joinpath(filename)\n",
    "        plt.savefig(export_file, bbox_inches='tight')\n",
    "        print(export_file)\n",
    "\n",
    "\n",
    "def plot_feasible(learning_df, ax=None, save=True, verbose=False):\n",
    "    # Order participants to have aligned offsets of repeating values.\n",
    "    participants = [7, 1, 3, 8, 9, 2, 4, 5, 6]\n",
    "\n",
    "    # Define function to retrieve and plot the feasible scores.\n",
    "    def get_values_from_row(row):\n",
    "        return (row.pretest_feasible, row.posttest_feasible)\n",
    "\n",
    "    # Plot the changes from pre-test to post-test.\n",
    "    plot_pretest_posttest(\n",
    "        learning_df,\n",
    "        participants=participants,\n",
    "        ylabel='%  feasible solutions',\n",
    "        title='% Valid in Tests',\n",
    "        filename='learning_outcomes_is_feasible.pdf',\n",
    "        getter=get_values_from_row,\n",
    "        ax=ax, save=save, verbose=verbose)\n",
    "\n",
    "\n",
    "plot_feasible(learning_df, verbose=True)"
   ]
  },
  {
   "cell_type": "markdown",
   "metadata": {},
   "source": [
    "### Visualize optimal solutions by count in the tests."
   ]
  },
  {
   "cell_type": "code",
   "execution_count": 13,
   "metadata": {
    "code_folding": []
   },
   "outputs": [
    {
     "name": "stdout",
     "output_type": "stream",
     "text": [
      "../figures/learning_outcomes_is_optimal.pdf\n"
     ]
    },
    {
     "data": {
      "image/png": "[encoded data removed]",
      "text/plain": [
       "<Figure size 360x504 with 1 Axes>"
      ]
     },
     "metadata": {},
     "output_type": "display_data"
    }
   ],
   "source": [
    "def plot_optimal(learning_df, ax=None, save=True, verbose=False):\n",
    "    # Order participants to have aligned offsets of repeating values.\n",
    "    participants = [9, 1, 2, 3, 7, 4, 5, 6, 8]\n",
    "\n",
    "    # Define function to retrieve and plot the optimal scores.\n",
    "    def get_values_from_row(row):\n",
    "        return (row.pretest_optimal, row.posttest_optimal)\n",
    "\n",
    "    # Plot the changes from pre-test to post-test.\n",
    "    plot_pretest_posttest(\n",
    "        learning_df,\n",
    "        participants=participants,\n",
    "        ylabel='% optimal solutions',\n",
    "        title='% Correct in Tests',\n",
    "        filename='learning_outcomes_is_optimal.pdf',\n",
    "        getter=get_values_from_row,\n",
    "        ax=ax, save=save, zero_offset=+0.025)\n",
    "\n",
    "\n",
    "plot_optimal(learning_df, verbose=True)"
   ]
  },
  {
   "cell_type": "markdown",
   "metadata": {},
   "source": [
    "### Visualize optimal solutions by error in the tests."
   ]
  },
  {
   "cell_type": "code",
   "execution_count": 14,
   "metadata": {},
   "outputs": [
    {
     "data": {
      "text/plain": [
       "False"
      ]
     },
     "execution_count": 14,
     "metadata": {},
     "output_type": "execute_result"
    }
   ],
   "source": [
    "# Define function to retrieve and plot the average errors.\n",
    "def get_values_from_row(row):\n",
    "    return (row.pretest_error, row.posttest_error)\n",
    "\n",
    "row = learning_df.loc[7]\n",
    "position = get_values_from_row(row)\n",
    "position\n",
    "math.isnan(position[0]) or math.isnan(position[0])"
   ]
  },
  {
   "cell_type": "code",
   "execution_count": 15,
   "metadata": {},
   "outputs": [
    {
     "name": "stdout",
     "output_type": "stream",
     "text": [
      "2 (0.31047619047619046, 0.009523809523809523) 0.31047619047619046 0.009523809523809523\n",
      "6 (0.30984126984126986, 0.14984126984126983) 0.30984126984126986 0.14984126984126983\n",
      "5 (0.3003174603174603, 0.16698412698412696) 0.3003174603174603 0.16698412698412696\n",
      "7 (0.04, nan) 0.04 nan\n",
      "4 (0.3898412698412698, 0.3555555555555555) 0.3898412698412698 0.3555555555555555\n",
      "8 (0.9257142857142858, 0.1034920634920635) 0.9257142857142858 0.1034920634920635\n",
      "3 (0.040634920634920635, 0.0) 0.05063492063492064 0.0\n",
      "1 (0.16952380952380955, 0.013333333333333332) 0.16952380952380955 0.013333333333333332\n",
      "9 (0.013333333333333332, 0.009523809523809523) 0.013333333333333332 0.009523809523809523\n",
      "../figures/learning_outcomes_error.pdf\n"
     ]
    },
    {
     "data": {
      "image/png": "[encoded data removed]",
      "text/plain": [
       "<Figure size 360x504 with 1 Axes>"
      ]
     },
     "metadata": {},
     "output_type": "display_data"
    }
   ],
   "source": [
    "def plot_error(learning_df, ax=None, save=True, verbose=False):\n",
    "    # Order participants to have aligned offsets of repeating values.\n",
    "    participants = [2, 6, 5, 7, 4, 8, 3, 1, 9]\n",
    "\n",
    "    # Define function to retrieve and plot the average errors.\n",
    "    def get_values_from_row(row):\n",
    "        return (row.pretest_error, row.posttest_error)\n",
    "\n",
    "    # Plot the changes from pre-test to post-test.\n",
    "    plot_pretest_posttest(\n",
    "        learning_df, participants=participants,\n",
    "        ylabel='average error', title='Error in Tests',\n",
    "        filename='learning_outcomes_error.pdf',\n",
    "        yticks=True, offset=-0.01, ygrid=True, verbose=verbose,\n",
    "        getter=get_values_from_row, ax=ax, save=save)\n",
    "\n",
    "\n",
    "plot_error(learning_df, verbose=True)"
   ]
  },
  {
   "cell_type": "markdown",
   "metadata": {},
   "source": [
    "### Visualize all in one figure."
   ]
  },
  {
   "cell_type": "code",
   "execution_count": 16,
   "metadata": {
    "code_folding": []
   },
   "outputs": [
    {
     "name": "stdout",
     "output_type": "stream",
     "text": [
      "../figures/learning_outcomes_all.pdf\n"
     ]
    },
    {
     "data": {
      "image/png": "[encoded data removed]",
      "text/plain": [
       "<Figure size 1080x432 with 3 Axes>"
      ]
     },
     "metadata": {},
     "output_type": "display_data"
    }
   ],
   "source": [
    "fig, axes = plt.subplots(1, 3, figsize=(15, 6))\n",
    "\n",
    "plot_feasible(learning_df, ax=axes[0], save=False)\n",
    "plot_optimal(learning_df, ax=axes[1], save=False)\n",
    "plot_error(learning_df, ax=axes[2], save=False)\n",
    "\n",
    "fig.tight_layout(pad=-0.1)\n",
    "export_file = figs_dir.joinpath('learning_outcomes_all.pdf')\n",
    "plt.savefig(export_file, bbox_inches='tight')\n",
    "\n",
    "print(export_file)"
   ]
  },
  {
   "cell_type": "markdown",
   "metadata": {},
   "source": [
    "### Perform Wilcoxon signed-rank tests and compute the effect size (estimated by Cliff's delta)."
   ]
  },
  {
   "cell_type": "code",
   "execution_count": 17,
   "metadata": {},
   "outputs": [
    {
     "data": {
      "text/html": [
       "<div>\n",
       "<style scoped>\n",
       "    .dataframe tbody tr th:only-of-type {\n",
       "        vertical-align: middle;\n",
       "    }\n",
       "\n",
       "    .dataframe tbody tr th {\n",
       "        vertical-align: top;\n",
       "    }\n",
       "\n",
       "    .dataframe thead th {\n",
       "        text-align: right;\n",
       "    }\n",
       "</style>\n",
       "<table border=\"1\" class=\"dataframe\">\n",
       "  <thead>\n",
       "    <tr style=\"text-align: right;\">\n",
       "      <th></th>\n",
       "      <th>pretest_feasible</th>\n",
       "      <th>posttest_feasible</th>\n",
       "      <th>pretest_optimal</th>\n",
       "      <th>posttest_optimal</th>\n",
       "      <th>pretest_error</th>\n",
       "      <th>posttest_error</th>\n",
       "    </tr>\n",
       "    <tr>\n",
       "      <th>participant</th>\n",
       "      <th></th>\n",
       "      <th></th>\n",
       "      <th></th>\n",
       "      <th></th>\n",
       "      <th></th>\n",
       "      <th></th>\n",
       "    </tr>\n",
       "  </thead>\n",
       "  <tbody>\n",
       "    <tr>\n",
       "      <th>1</th>\n",
       "      <td>1.0</td>\n",
       "      <td>1.0</td>\n",
       "      <td>0.4</td>\n",
       "      <td>0.8</td>\n",
       "      <td>0.169524</td>\n",
       "      <td>0.013333</td>\n",
       "    </tr>\n",
       "    <tr>\n",
       "      <th>2</th>\n",
       "      <td>0.8</td>\n",
       "      <td>1.0</td>\n",
       "      <td>0.0</td>\n",
       "      <td>0.8</td>\n",
       "      <td>0.310476</td>\n",
       "      <td>0.009524</td>\n",
       "    </tr>\n",
       "    <tr>\n",
       "      <th>3</th>\n",
       "      <td>1.0</td>\n",
       "      <td>1.0</td>\n",
       "      <td>0.2</td>\n",
       "      <td>1.0</td>\n",
       "      <td>0.040635</td>\n",
       "      <td>0.000000</td>\n",
       "    </tr>\n",
       "    <tr>\n",
       "      <th>4</th>\n",
       "      <td>0.8</td>\n",
       "      <td>1.0</td>\n",
       "      <td>0.0</td>\n",
       "      <td>0.0</td>\n",
       "      <td>0.389841</td>\n",
       "      <td>0.355556</td>\n",
       "    </tr>\n",
       "    <tr>\n",
       "      <th>5</th>\n",
       "      <td>1.0</td>\n",
       "      <td>0.8</td>\n",
       "      <td>0.0</td>\n",
       "      <td>0.0</td>\n",
       "      <td>0.300317</td>\n",
       "      <td>0.166984</td>\n",
       "    </tr>\n",
       "    <tr>\n",
       "      <th>6</th>\n",
       "      <td>1.0</td>\n",
       "      <td>0.8</td>\n",
       "      <td>0.0</td>\n",
       "      <td>0.0</td>\n",
       "      <td>0.309841</td>\n",
       "      <td>0.149841</td>\n",
       "    </tr>\n",
       "    <tr>\n",
       "      <th>7</th>\n",
       "      <td>0.4</td>\n",
       "      <td>0.0</td>\n",
       "      <td>0.2</td>\n",
       "      <td>0.0</td>\n",
       "      <td>0.040000</td>\n",
       "      <td>NaN</td>\n",
       "    </tr>\n",
       "    <tr>\n",
       "      <th>8</th>\n",
       "      <td>1.0</td>\n",
       "      <td>1.0</td>\n",
       "      <td>0.0</td>\n",
       "      <td>0.0</td>\n",
       "      <td>0.925714</td>\n",
       "      <td>0.103492</td>\n",
       "    </tr>\n",
       "    <tr>\n",
       "      <th>9</th>\n",
       "      <td>1.0</td>\n",
       "      <td>1.0</td>\n",
       "      <td>0.8</td>\n",
       "      <td>0.8</td>\n",
       "      <td>0.013333</td>\n",
       "      <td>0.009524</td>\n",
       "    </tr>\n",
       "  </tbody>\n",
       "</table>\n",
       "</div>"
      ],
      "text/plain": [
       "             pretest_feasible  posttest_feasible  pretest_optimal  \\\n",
       "participant                                                         \n",
       "1                         1.0                1.0              0.4   \n",
       "2                         0.8                1.0              0.0   \n",
       "3                         1.0                1.0              0.2   \n",
       "4                         0.8                1.0              0.0   \n",
       "5                         1.0                0.8              0.0   \n",
       "6                         1.0                0.8              0.0   \n",
       "7                         0.4                0.0              0.2   \n",
       "8                         1.0                1.0              0.0   \n",
       "9                         1.0                1.0              0.8   \n",
       "\n",
       "             posttest_optimal  pretest_error  posttest_error  \n",
       "participant                                                   \n",
       "1                         0.8       0.169524        0.013333  \n",
       "2                         0.8       0.310476        0.009524  \n",
       "3                         1.0       0.040635        0.000000  \n",
       "4                         0.0       0.389841        0.355556  \n",
       "5                         0.0       0.300317        0.166984  \n",
       "6                         0.0       0.309841        0.149841  \n",
       "7                         0.0       0.040000             NaN  \n",
       "8                         0.0       0.925714        0.103492  \n",
       "9                         0.8       0.013333        0.009524  "
      ]
     },
     "execution_count": 17,
     "metadata": {},
     "output_type": "execute_result"
    }
   ],
   "source": [
    "learning_df"
   ]
  },
  {
   "cell_type": "code",
   "execution_count": 18,
   "metadata": {
    "scrolled": true
   },
   "outputs": [
    {
     "name": "stdout",
     "output_type": "stream",
     "text": [
      "error\n",
      "r: ['0.170', '0.310', '0.041', '0.390', '0.300', '0.310', '0.926', '0.013']\n",
      "o: ['0.013', '0.010', '0.000', '0.356', '0.167', '0.150', '0.103', '0.010']\n",
      "Shapiro: ShapiroResult(statistic=0.8358798623085022, pvalue=0.0683099776506424) ShapiroResult(statistic=0.817490816116333, pvalue=0.043910637497901917)\n",
      "Exact: W=0.0, p=0.0078125\n",
      "Cliff's delta = -0.609375\n"
     ]
    }
   ],
   "source": [
    "# categories = ['feasible', 'optimal', 'error']\n",
    "categories = ['error']\n",
    "\n",
    "df = learning_df.dropna().copy()\n",
    "\n",
    "for category in categories:\n",
    "    \n",
    "    r = list(df['pretest_{}'.format(category)])\n",
    "    o = list(df['posttest_{}'.format(category)])\n",
    "\n",
    "    print(category)\n",
    "    print('r:', ['{:.3f}'.format(val) for val in r])\n",
    "    print('o:', ['{:.3f}'.format(val) for val in o])\n",
    "    \n",
    "    print('Shapiro:', shapiro(r), shapiro(o))\n",
    "    # # Can not do t-test: assumption for normality are not held.\n",
    "    # t, p = ttest_rel(r, o)\n",
    "    # print('Exact: t={}, p={}'.format(t, p))\n",
    "    \n",
    "    w, p = wilcoxon(r, o, mode=\"exact\")\n",
    "    \n",
    "    # Null hypothesis says they are the same:\n",
    "    # if p val less than threshold, reject hypothesis. \n",
    "    # conclude that post and pre are different.\n",
    "    print('Exact: W={}, p={}'.format(w, p))\n",
    "    \n",
    "    # a, b = wilcoxon(r, o, mode=\"exact\", alternative=\"greater\")\n",
    "    # print('Greater: W={}, p={}'.format(a, b))\n",
    "\n",
    "    # Estimate effect size by Cliff's Delta.\n",
    "    d = two_group_difference(control=r, test=o, effect_size='cliffs_delta')\n",
    "    print(\"Cliff's delta = {}\".format(d))"
   ]
  },
  {
   "cell_type": "markdown",
   "metadata": {},
   "source": [
    "### Merge the submission tables."
   ]
  },
  {
   "cell_type": "code",
   "execution_count": 19,
   "metadata": {},
   "outputs": [
    {
     "data": {
      "text/html": [
       "<div>\n",
       "<style scoped>\n",
       "    .dataframe tbody tr th:only-of-type {\n",
       "        vertical-align: middle;\n",
       "    }\n",
       "\n",
       "    .dataframe tbody tr th {\n",
       "        vertical-align: top;\n",
       "    }\n",
       "\n",
       "    .dataframe thead th {\n",
       "        text-align: right;\n",
       "    }\n",
       "</style>\n",
       "<table border=\"1\" class=\"dataframe\">\n",
       "  <thead>\n",
       "    <tr style=\"text-align: right;\">\n",
       "      <th></th>\n",
       "      <th>participant</th>\n",
       "      <th>time</th>\n",
       "      <th>activity</th>\n",
       "      <th>state</th>\n",
       "      <th>next_state</th>\n",
       "      <th>action</th>\n",
       "      <th>attempt_no</th>\n",
       "      <th>cost</th>\n",
       "      <th>opt_cost</th>\n",
       "      <th>error</th>\n",
       "      <th>is_mst</th>\n",
       "      <th>is_spanning</th>\n",
       "    </tr>\n",
       "  </thead>\n",
       "  <tbody>\n",
       "    <tr>\n",
       "      <th>0</th>\n",
       "      <td>1</td>\n",
       "      <td>161.277439</td>\n",
       "      <td>pretest-1</td>\n",
       "      <td>EnvironmentState(NetworkState(e:7+0,c:23|n:7,e...</td>\n",
       "      <td>EnvironmentState(NetworkState(e:7+0,c:23|n:7,e...</td>\n",
       "      <td>Action(submit,Human)</td>\n",
       "      <td>1</td>\n",
       "      <td>23</td>\n",
       "      <td>15</td>\n",
       "      <td>0.533333</td>\n",
       "      <td>False</td>\n",
       "      <td>True</td>\n",
       "    </tr>\n",
       "    <tr>\n",
       "      <th>1</th>\n",
       "      <td>1</td>\n",
       "      <td>251.009743</td>\n",
       "      <td>pretest-2</td>\n",
       "      <td>EnvironmentState(NetworkState(e:7+0,c:38|n:7,e...</td>\n",
       "      <td>EnvironmentState(NetworkState(e:7+0,c:38|n:7,e...</td>\n",
       "      <td>Action(submit,Human)</td>\n",
       "      <td>1</td>\n",
       "      <td>38</td>\n",
       "      <td>30</td>\n",
       "      <td>0.266667</td>\n",
       "      <td>False</td>\n",
       "      <td>True</td>\n",
       "    </tr>\n",
       "    <tr>\n",
       "      <th>2</th>\n",
       "      <td>1</td>\n",
       "      <td>319.224974</td>\n",
       "      <td>pretest-3</td>\n",
       "      <td>EnvironmentState(NetworkState(e:6+0,c:22|n:7,e...</td>\n",
       "      <td>EnvironmentState(NetworkState(e:6+0,c:22|n:7,e...</td>\n",
       "      <td>Action(submit,Human)</td>\n",
       "      <td>1</td>\n",
       "      <td>22</td>\n",
       "      <td>21</td>\n",
       "      <td>0.047619</td>\n",
       "      <td>False</td>\n",
       "      <td>True</td>\n",
       "    </tr>\n",
       "    <tr>\n",
       "      <th>3</th>\n",
       "      <td>1</td>\n",
       "      <td>386.282414</td>\n",
       "      <td>pretest-4</td>\n",
       "      <td>EnvironmentState(NetworkState(e:6+0,c:45|n:7,e...</td>\n",
       "      <td>EnvironmentState(NetworkState(e:6+0,c:45|n:7,e...</td>\n",
       "      <td>Action(submit,Human)</td>\n",
       "      <td>1</td>\n",
       "      <td>45</td>\n",
       "      <td>45</td>\n",
       "      <td>0.000000</td>\n",
       "      <td>True</td>\n",
       "      <td>True</td>\n",
       "    </tr>\n",
       "    <tr>\n",
       "      <th>4</th>\n",
       "      <td>1</td>\n",
       "      <td>435.368411</td>\n",
       "      <td>pretest-5</td>\n",
       "      <td>EnvironmentState(NetworkState(e:6+0,c:15|n:7,e...</td>\n",
       "      <td>EnvironmentState(NetworkState(e:6+0,c:15|n:7,e...</td>\n",
       "      <td>Action(submit,Human)</td>\n",
       "      <td>1</td>\n",
       "      <td>15</td>\n",
       "      <td>15</td>\n",
       "      <td>0.000000</td>\n",
       "      <td>True</td>\n",
       "      <td>True</td>\n",
       "    </tr>\n",
       "  </tbody>\n",
       "</table>\n",
       "</div>"
      ],
      "text/plain": [
       "   participant        time   activity  \\\n",
       "0            1  161.277439  pretest-1   \n",
       "1            1  251.009743  pretest-2   \n",
       "2            1  319.224974  pretest-3   \n",
       "3            1  386.282414  pretest-4   \n",
       "4            1  435.368411  pretest-5   \n",
       "\n",
       "                                               state  \\\n",
       "0  EnvironmentState(NetworkState(e:7+0,c:23|n:7,e...   \n",
       "1  EnvironmentState(NetworkState(e:7+0,c:38|n:7,e...   \n",
       "2  EnvironmentState(NetworkState(e:6+0,c:22|n:7,e...   \n",
       "3  EnvironmentState(NetworkState(e:6+0,c:45|n:7,e...   \n",
       "4  EnvironmentState(NetworkState(e:6+0,c:15|n:7,e...   \n",
       "\n",
       "                                          next_state                action  \\\n",
       "0  EnvironmentState(NetworkState(e:7+0,c:23|n:7,e...  Action(submit,Human)   \n",
       "1  EnvironmentState(NetworkState(e:7+0,c:38|n:7,e...  Action(submit,Human)   \n",
       "2  EnvironmentState(NetworkState(e:6+0,c:22|n:7,e...  Action(submit,Human)   \n",
       "3  EnvironmentState(NetworkState(e:6+0,c:45|n:7,e...  Action(submit,Human)   \n",
       "4  EnvironmentState(NetworkState(e:6+0,c:15|n:7,e...  Action(submit,Human)   \n",
       "\n",
       "   attempt_no  cost  opt_cost     error  is_mst  is_spanning  \n",
       "0           1    23        15  0.533333   False         True  \n",
       "1           1    38        30  0.266667   False         True  \n",
       "2           1    22        21  0.047619   False         True  \n",
       "3           1    45        45  0.000000    True         True  \n",
       "4           1    15        15  0.000000    True         True  "
      ]
     },
     "execution_count": 19,
     "metadata": {},
     "output_type": "execute_result"
    }
   ],
   "source": [
    "table_list = list()\n",
    "for participant in sorted(submissions):\n",
    "    df = submissions[participant].copy()\n",
    "    table_list.append(df)\n",
    "    \n",
    "all_submissions_df = pd.concat(table_list)\n",
    "all_submissions_df.reset_index(drop=True, inplace=True)\n",
    "all_submissions_df.drop(columns=['is_submission'], inplace=True)\n",
    "\n",
    "all_submissions_df.head()"
   ]
  },
  {
   "cell_type": "markdown",
   "metadata": {},
   "source": [
    "### Export the submissions tables in pickle format."
   ]
  },
  {
   "cell_type": "code",
   "execution_count": 20,
   "metadata": {},
   "outputs": [
    {
     "name": "stdout",
     "output_type": "stream",
     "text": [
      "Saved the submission tables to ../processed_data/justhink21_submissions.pickle\n"
     ]
    }
   ],
   "source": [
    "with submissions_pickle_file.open('wb') as handle:\n",
    "    pickle.dump(submissions, handle, protocol=pickle.HIGHEST_PROTOCOL)\n",
    "\n",
    "print('Saved the submission tables to {}'.format(submissions_pickle_file))"
   ]
  },
  {
   "cell_type": "markdown",
   "metadata": {},
   "source": [
    "### Export the merged submissions table in CSV data format."
   ]
  },
  {
   "cell_type": "code",
   "execution_count": 21,
   "metadata": {
    "scrolled": true
   },
   "outputs": [
    {
     "name": "stdout",
     "output_type": "stream",
     "text": [
      "Saved all submissions table to ../processed_data/justhink21_submissions.csv\n"
     ]
    }
   ],
   "source": [
    "all_submissions_df.to_csv(all_submissions_file, index=False)\n",
    "print('Saved all submissions table to {}'.format(all_submissions_file))"
   ]
  },
  {
   "cell_type": "markdown",
   "metadata": {},
   "source": [
    "### Export the learning outcomes table in CSV data format."
   ]
  },
  {
   "cell_type": "code",
   "execution_count": 22,
   "metadata": {},
   "outputs": [
    {
     "name": "stdout",
     "output_type": "stream",
     "text": [
      "Saved learning outcomes table to ../processed_data/justhink21_learning_outcomes.csv\n"
     ]
    }
   ],
   "source": [
    "learning_df.to_csv(learning_file)\n",
    "print('Saved learning outcomes table to {}'.format(learning_file))"
   ]
  }
 ],
 "metadata": {
  "kernelspec": {
   "display_name": "justhink-analysis-venv",
   "language": "python",
   "name": "justhink-analysis-venv"
  },
  "language_info": {
   "codemirror_mode": {
    "name": "ipython",
    "version": 3
   },
   "file_extension": ".py",
   "mimetype": "text/x-python",
   "name": "python",
   "nbconvert_exporter": "python",
   "pygments_lexer": "ipython3",
   "version": "3.8.10"
  },
  "toc": {
   "base_numbering": 1,
   "nav_menu": {},
   "number_sections": false,
   "sideBar": true,
   "skip_h1_title": false,
   "title_cell": "Table of Contents",
   "title_sidebar": "Contents",
   "toc_cell": false,
   "toc_position": {
    "height": "calc(100% - 180px)",
    "left": "10px",
    "top": "150px",
    "width": "254px"
   },
   "toc_section_display": true,
   "toc_window_display": true
  }
 },
 "nbformat": 4,
 "nbformat_minor": 5
}
