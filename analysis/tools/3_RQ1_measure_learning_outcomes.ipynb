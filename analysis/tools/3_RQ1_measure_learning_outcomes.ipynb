{
 "cells": [
  {
   "cell_type": "markdown",
   "metadata": {},
   "source": [
    "This notebook computes the learning outcomes from the pre-test and post-test responses.\n",
    "\n",
    "We consider two learning goals:\n",
    "* LG1: identify a (feasible) solution to the problem\n",
    "* LG2: construct a correct (i.e. optimal) solution.\n",
    "    \n",
    "For LG1, we check connectedness, i.e. if solutions are spanning or not\n",
    "out.\n",
    "\n",
    "For LG2, we check optimality, i.e. how close was the solution to the correct solution, quantified by the error."
   ]
  },
  {
   "cell_type": "code",
   "execution_count": 1,
   "metadata": {},
   "outputs": [],
   "source": [
    "import math\n",
    "import copy\n",
    "import pickle\n",
    "\n",
    "import pathlib as pl\n",
    "import pandas as pd\n",
    "\n",
    "import matplotlib.pyplot as plt\n",
    "import matplotlib.ticker as mtick\n",
    "import seaborn as sns\n",
    "\n",
    "from scipy.stats import wilcoxon, shapiro, ttest_rel\n",
    "from effsize.effsize import two_group_difference"
   ]
  },
  {
   "cell_type": "code",
   "execution_count": 2,
   "metadata": {},
   "outputs": [],
   "source": [
    "sns.set_context('paper', font_scale=1.5)"
   ]
  },
  {
   "cell_type": "markdown",
   "metadata": {},
   "source": [
    "### Define paths."
   ]
  },
  {
   "cell_type": "code",
   "execution_count": 3,
   "metadata": {},
   "outputs": [],
   "source": [
    "transition_tables_pickle_file = pl.Path(\n",
    "    '../processed_data/justhink_spring21_transition_tables.pickle')\n",
    "\n",
    "learning_pickle_file = pl.Path(\n",
    "    '../processed_data/learning_table.pickle')\n",
    "\n",
    "figs_dir = pl.Path('../figures')"
   ]
  },
  {
   "cell_type": "code",
   "execution_count": 4,
   "metadata": {},
   "outputs": [],
   "source": [
    "test_item_counts = {\n",
    "    'pretest': 5,\n",
    "    'posttest': 5,\n",
    "}"
   ]
  },
  {
   "cell_type": "markdown",
   "metadata": {},
   "source": [
    "### Load transition tables."
   ]
  },
  {
   "cell_type": "code",
   "execution_count": 5,
   "metadata": {},
   "outputs": [],
   "source": [
    "with transition_tables_pickle_file.open('rb') as handle:\n",
    "    transition_tables = pickle.load(handle)\n",
    "    \n",
    "# transition_tables.keys()\n",
    "# pd.options.display.max_rows = None\n",
    "# transition_tables[10]"
   ]
  },
  {
   "cell_type": "markdown",
   "metadata": {},
   "source": [
    "<!-- ### Cleaning tables. -->"
   ]
  },
  {
   "cell_type": "markdown",
   "metadata": {},
   "source": [
    "### Fiter for the submissions."
   ]
  },
  {
   "cell_type": "code",
   "execution_count": 6,
   "metadata": {
    "scrolled": true
   },
   "outputs": [
    {
     "name": "stdout",
     "output_type": "stream",
     "text": [
      "Filtering submissions for 1...\n",
      "Filtering submissions for 2...\n",
      "Filtering submissions for 3...\n",
      "Filtering submissions for 4...\n",
      "Filtering submissions for 5...\n",
      "Filtering submissions for 6...\n",
      "Filtering submissions for 7...\n",
      "Filtering submissions for 8...\n",
      "Filtering submissions for 9...\n",
      "Done!\n"
     ]
    }
   ],
   "source": [
    "def filter_submissions(transition_tables, verbose=False):\n",
    "    \"\"\"Get the submission states only, and drop the duplicates, \n",
    "    unused columns, keep state, activity, imported info.\"\"\"\n",
    "    tables = {}\n",
    "\n",
    "    for participant in sorted(transition_tables):\n",
    "        print('Filtering submissions for {}...'.format(participant))\n",
    "\n",
    "        df = transition_tables[participant].copy()\n",
    "\n",
    "        # Filter for the submission rows.\n",
    "        df = df[df['is_submission']]\n",
    "\n",
    "        # Remove duplicate rows from submission log and keeping the last submission\n",
    "        df.drop_duplicates(subset='activity', keep='last', inplace=True)\n",
    "\n",
    "        tables[participant] = df\n",
    "\n",
    "        if verbose:\n",
    "            display(df)\n",
    "\n",
    "    print('Done!')\n",
    "\n",
    "    return tables\n",
    "\n",
    "\n",
    "submission_tables = filter_submissions(transition_tables)\n",
    "\n",
    "# submission_tables[8]"
   ]
  },
  {
   "cell_type": "markdown",
   "metadata": {},
   "source": [
    "### Count feasible and optimal solutions in the tests."
   ]
  },
  {
   "cell_type": "code",
   "execution_count": 7,
   "metadata": {},
   "outputs": [
    {
     "name": "stdout",
     "output_type": "stream",
     "text": [
      " 1: feasible scores: pre-test 1.0, post-test 1.0\n",
      " 2: feasible scores: pre-test 0.8, post-test 1.0\n",
      " 3: feasible scores: pre-test 1.0, post-test 1.0\n",
      " 4: feasible scores: pre-test 0.8, post-test 1.0\n",
      " 5: feasible scores: pre-test 1.0, post-test 0.8\n",
      " 6: feasible scores: pre-test 1.0, post-test 0.8\n",
      " 7: feasible scores: pre-test 0.4, post-test 0.0\n",
      " 8: feasible scores: pre-test 1.0, post-test 1.0\n",
      " 9: feasible scores: pre-test 1.0, post-test 1.0\n"
     ]
    }
   ],
   "source": [
    "def count_feasible(df, test_name):\n",
    "    \"\"\"Count the number of feasible solutions given to a \n",
    "    pre-test or post-test.\"\"\"\n",
    "    count = 0\n",
    "    for index, row in df.iterrows():\n",
    "        if test_name in row['activity']:\n",
    "            if row['is_spanning']:\n",
    "                count = count + 1\n",
    "    return count\n",
    "\n",
    "\n",
    "def score_feasible(df, test_name, total_count):\n",
    "    return count_feasible(df, test_name) / total_count\n",
    "\n",
    "\n",
    "for participant, df in submission_tables.items():\n",
    "    print('{:2.0f}: feasible scores: pre-test {}, post-test {}'.format(\n",
    "        participant,\n",
    "        score_feasible(df, 'pretest', test_item_counts['pretest']),\n",
    "        score_feasible(df, 'posttest', test_item_counts['posttest'])))"
   ]
  },
  {
   "cell_type": "code",
   "execution_count": 8,
   "metadata": {},
   "outputs": [
    {
     "name": "stdout",
     "output_type": "stream",
     "text": [
      " 1: optimal scores: pre-test 0.4, post-test 0.8\n",
      " 2: optimal scores: pre-test 0.0, post-test 0.8\n",
      " 3: optimal scores: pre-test 0.2, post-test 1.0\n",
      " 4: optimal scores: pre-test 0.0, post-test 0.0\n",
      " 5: optimal scores: pre-test 0.0, post-test 0.0\n",
      " 6: optimal scores: pre-test 0.0, post-test 0.0\n",
      " 7: optimal scores: pre-test 0.2, post-test 0.0\n",
      " 8: optimal scores: pre-test 0.0, post-test 0.0\n",
      " 9: optimal scores: pre-test 0.8, post-test 0.8\n"
     ]
    }
   ],
   "source": [
    "def count_optimal(df, test_name):\n",
    "    \"\"\"Count the number of optimal solutions given to a \n",
    "    pre-test or post-test.\"\"\"\n",
    "    count = 0\n",
    "    for index, row in df.iterrows():\n",
    "        if test_name in row['activity']:\n",
    "            if row['is_mst']:\n",
    "                count = count + 1\n",
    "    return count\n",
    "\n",
    "\n",
    "def score_optimal(df, test_name, total_count):\n",
    "    return count_optimal(df, test_name) / total_count\n",
    "\n",
    "\n",
    "for participant, df in submission_tables.items():\n",
    "    print('{:2.0f}: optimal scores: pre-test {}, post-test {}'.format(\n",
    "        participant,\n",
    "        score_optimal(df, 'pretest', test_item_counts['pretest']),\n",
    "        score_optimal(df, 'posttest', test_item_counts['posttest'])))"
   ]
  },
  {
   "cell_type": "markdown",
   "metadata": {},
   "source": [
    "### Compute average error in the tests."
   ]
  },
  {
   "cell_type": "code",
   "execution_count": 9,
   "metadata": {},
   "outputs": [
    {
     "name": "stdout",
     "output_type": "stream",
     "text": [
      " 1: average errors: pre-test 0.16952380952380955, post-test 0.013333333333333332\n",
      " 2: average errors: pre-test 0.31047619047619046, post-test 0.009523809523809523\n",
      " 3: average errors: pre-test 0.040634920634920635, post-test 0.0\n",
      " 4: average errors: pre-test 0.3898412698412698, post-test 0.3555555555555555\n",
      " 5: average errors: pre-test 0.3003174603174603, post-test 0.16698412698412696\n",
      " 6: average errors: pre-test 0.30984126984126986, post-test 0.14984126984126983\n",
      " 7: average errors: pre-test 0.04, post-test 0.0\n",
      " 8: average errors: pre-test 0.9257142857142858, post-test 0.1034920634920635\n",
      " 9: average errors: pre-test 0.013333333333333332, post-test 0.009523809523809523\n"
     ]
    }
   ],
   "source": [
    "def compute_average_error(df, test_name, total_count):\n",
    "    \"\"\"Compute average error for a test.\"\"\"\n",
    "    total_error = 0\n",
    "    count = 0\n",
    "    for index, row in df.iterrows():\n",
    "        error = row['error']\n",
    "        if test_name in row['activity']:\n",
    "            # not computing the error for submissions that are not feasible/spanning\n",
    "            count = count + 1\n",
    "            if not math.isnan(error):\n",
    "                total_error = total_error + error\n",
    "\n",
    "    # Validity check.\n",
    "    if count != total_count:\n",
    "        print('Log of {} does not match with the number of items in {}'.format(\n",
    "            participant, test_name))\n",
    "        print(count, total_count)\n",
    "        raise ValueError\n",
    "\n",
    "    # compute averages while handling zero division\n",
    "    if count != 0:\n",
    "        average_error = total_error / total_count\n",
    "    else:\n",
    "        average_error = None\n",
    "    return average_error\n",
    "\n",
    "\n",
    "for participant, df in submission_tables.items():\n",
    "    print('{:2.0f}: average errors: pre-test {}, post-test {}'.format(\n",
    "        participant,\n",
    "        compute_average_error(df, 'pretest', test_item_counts['pretest']),\n",
    "        compute_average_error(df, 'posttest', test_item_counts['posttest'])))"
   ]
  },
  {
   "cell_type": "markdown",
   "metadata": {},
   "source": [
    "### Make a learning outcomes table."
   ]
  },
  {
   "cell_type": "code",
   "execution_count": 10,
   "metadata": {},
   "outputs": [
    {
     "data": {
      "text/html": [
       "<div>\n",
       "<style scoped>\n",
       "    .dataframe tbody tr th:only-of-type {\n",
       "        vertical-align: middle;\n",
       "    }\n",
       "\n",
       "    .dataframe tbody tr th {\n",
       "        vertical-align: top;\n",
       "    }\n",
       "\n",
       "    .dataframe thead th {\n",
       "        text-align: right;\n",
       "    }\n",
       "</style>\n",
       "<table border=\"1\" class=\"dataframe\">\n",
       "  <thead>\n",
       "    <tr style=\"text-align: right;\">\n",
       "      <th></th>\n",
       "      <th>pretest_feasible</th>\n",
       "      <th>pretest_optimal</th>\n",
       "      <th>pretest_error</th>\n",
       "      <th>posttest_feasible</th>\n",
       "      <th>posttest_optimal</th>\n",
       "      <th>posttest_error</th>\n",
       "    </tr>\n",
       "    <tr>\n",
       "      <th>participant</th>\n",
       "      <th></th>\n",
       "      <th></th>\n",
       "      <th></th>\n",
       "      <th></th>\n",
       "      <th></th>\n",
       "      <th></th>\n",
       "    </tr>\n",
       "  </thead>\n",
       "  <tbody>\n",
       "    <tr>\n",
       "      <th>1</th>\n",
       "      <td>1.0</td>\n",
       "      <td>0.4</td>\n",
       "      <td>0.169524</td>\n",
       "      <td>1.0</td>\n",
       "      <td>0.8</td>\n",
       "      <td>0.013333</td>\n",
       "    </tr>\n",
       "    <tr>\n",
       "      <th>2</th>\n",
       "      <td>0.8</td>\n",
       "      <td>0.0</td>\n",
       "      <td>0.310476</td>\n",
       "      <td>1.0</td>\n",
       "      <td>0.8</td>\n",
       "      <td>0.009524</td>\n",
       "    </tr>\n",
       "    <tr>\n",
       "      <th>3</th>\n",
       "      <td>1.0</td>\n",
       "      <td>0.2</td>\n",
       "      <td>0.040635</td>\n",
       "      <td>1.0</td>\n",
       "      <td>1.0</td>\n",
       "      <td>0.000000</td>\n",
       "    </tr>\n",
       "    <tr>\n",
       "      <th>4</th>\n",
       "      <td>0.8</td>\n",
       "      <td>0.0</td>\n",
       "      <td>0.389841</td>\n",
       "      <td>1.0</td>\n",
       "      <td>0.0</td>\n",
       "      <td>0.355556</td>\n",
       "    </tr>\n",
       "    <tr>\n",
       "      <th>5</th>\n",
       "      <td>1.0</td>\n",
       "      <td>0.0</td>\n",
       "      <td>0.300317</td>\n",
       "      <td>0.8</td>\n",
       "      <td>0.0</td>\n",
       "      <td>0.166984</td>\n",
       "    </tr>\n",
       "    <tr>\n",
       "      <th>6</th>\n",
       "      <td>1.0</td>\n",
       "      <td>0.0</td>\n",
       "      <td>0.309841</td>\n",
       "      <td>0.8</td>\n",
       "      <td>0.0</td>\n",
       "      <td>0.149841</td>\n",
       "    </tr>\n",
       "    <tr>\n",
       "      <th>7</th>\n",
       "      <td>0.4</td>\n",
       "      <td>0.2</td>\n",
       "      <td>0.040000</td>\n",
       "      <td>0.0</td>\n",
       "      <td>0.0</td>\n",
       "      <td>0.000000</td>\n",
       "    </tr>\n",
       "    <tr>\n",
       "      <th>8</th>\n",
       "      <td>1.0</td>\n",
       "      <td>0.0</td>\n",
       "      <td>0.925714</td>\n",
       "      <td>1.0</td>\n",
       "      <td>0.0</td>\n",
       "      <td>0.103492</td>\n",
       "    </tr>\n",
       "    <tr>\n",
       "      <th>9</th>\n",
       "      <td>1.0</td>\n",
       "      <td>0.8</td>\n",
       "      <td>0.013333</td>\n",
       "      <td>1.0</td>\n",
       "      <td>0.8</td>\n",
       "      <td>0.009524</td>\n",
       "    </tr>\n",
       "  </tbody>\n",
       "</table>\n",
       "</div>"
      ],
      "text/plain": [
       "             pretest_feasible  pretest_optimal  pretest_error  \\\n",
       "participant                                                     \n",
       "1                         1.0              0.4       0.169524   \n",
       "2                         0.8              0.0       0.310476   \n",
       "3                         1.0              0.2       0.040635   \n",
       "4                         0.8              0.0       0.389841   \n",
       "5                         1.0              0.0       0.300317   \n",
       "6                         1.0              0.0       0.309841   \n",
       "7                         0.4              0.2       0.040000   \n",
       "8                         1.0              0.0       0.925714   \n",
       "9                         1.0              0.8       0.013333   \n",
       "\n",
       "             posttest_feasible  posttest_optimal  posttest_error  \n",
       "participant                                                       \n",
       "1                          1.0               0.8        0.013333  \n",
       "2                          1.0               0.8        0.009524  \n",
       "3                          1.0               1.0        0.000000  \n",
       "4                          1.0               0.0        0.355556  \n",
       "5                          0.8               0.0        0.166984  \n",
       "6                          0.8               0.0        0.149841  \n",
       "7                          0.0               0.0        0.000000  \n",
       "8                          1.0               0.0        0.103492  \n",
       "9                          1.0               0.8        0.009524  "
      ]
     },
     "execution_count": 10,
     "metadata": {},
     "output_type": "execute_result"
    }
   ],
   "source": [
    "participants = list(submission_tables.keys())\n",
    "\n",
    "learn_df = pd.DataFrame(index=participants)\n",
    "learn_df.index.name = 'participant'\n",
    "for test in ['pretest', 'posttest']:\n",
    "    count = test_item_counts[test]\n",
    "    learn_df['{}_feasible'.format(test)] = \\\n",
    "        [score_feasible(submission_tables[p], test,count ) for p in participants]\n",
    "    learn_df['{}_optimal'.format(test)] = \\\n",
    "        [score_optimal(submission_tables[p], test, count) for p in participants]\n",
    "    learn_df['{}_error'.format(test)] = \\\n",
    "        [compute_average_error(submission_tables[p], test, count) for p in participants]\n",
    "    \n",
    "learn_df"
   ]
  },
  {
   "cell_type": "code",
   "execution_count": 11,
   "metadata": {
    "code_folding": [
     0
    ],
    "scrolled": false
   },
   "outputs": [],
   "source": [
    "# ### Reshape learng for visualization.\n",
    "# # reformatting is_spanning and is_mst dataframes for visualization\n",
    "# span_learning_df = learn_df[['participant', 'pretest_span', 'posttest_span']]\n",
    "# mst_learning_df = learn_df[['participant', 'pretest_mst', 'posttest_mst']]\n",
    "# error_learning_df = learn_df[['participant', 'pre_error', 'post_error']]\n",
    "\n",
    "# spandf = pd.DataFrame(np.repeat(span_learning_df.values, 2, axis=0))\n",
    "# spandf.columns = span_learning_df.columns\n",
    "\n",
    "# mstdf = pd.DataFrame(np.repeat(mst_learning_df.values, 2, axis=0))\n",
    "# mstdf.columns = mst_learning_df.columns\n",
    "\n",
    "# errordf = pd.DataFrame(np.repeat(error_learning_df.values, 2, axis=0))\n",
    "# errordf.columns = error_learning_df.columns\n",
    "\n",
    "# # reformatting spanning dataframe\n",
    "# p_type = list()\n",
    "# value = list()\n",
    "# for index, row in spandf.iterrows():\n",
    "#     if index % 2 == 0:\n",
    "#         p_type.append('pretest')\n",
    "#         value.append(row['pretest_span'])\n",
    "#     else:\n",
    "#         p_type.append('posttest')\n",
    "#         value.append(row['posttest_span'])\n",
    "# spandf['p_type'] = p_type\n",
    "# spandf['value'] = value\n",
    "\n",
    "# # reformatting mst dataframe\n",
    "# mst_value = list()\n",
    "# for index, row in mstdf.iterrows():\n",
    "#     if index % 2 == 0:\n",
    "#         mst_value.append(row['pretest_mst'])\n",
    "#     else:\n",
    "#         mst_value.append(row['posttest_mst'])\n",
    "# mstdf['p_type'] = p_type\n",
    "# mstdf['value'] = mst_value\n",
    "\n",
    "# # reformatting error dataframe\n",
    "# error_value = list()\n",
    "# for index, row in errordf.iterrows():\n",
    "#     if index % 2 == 0:\n",
    "#         error_value.append(row['pre_error'])\n",
    "#     else:\n",
    "#         error_value.append(row['post_error'])\n",
    "# errordf['p_type'] = p_type\n",
    "# errordf['value'] = error_value\n",
    "\n",
    "\n",
    "# spandf.drop(columns=['pretest_span', 'posttest_span'], inplace=True)\n",
    "# mstdf.drop(columns=['pretest_mst', 'posttest_mst'], inplace=True)\n",
    "# errordf.drop(columns=['pre_error', 'post_error'], inplace=True)\n",
    "\n",
    "# display(spandf)\n",
    "# display(mstdf)\n",
    "# display(errordf)"
   ]
  },
  {
   "cell_type": "code",
   "execution_count": 12,
   "metadata": {
    "code_folding": [
     0
    ],
    "scrolled": false
   },
   "outputs": [],
   "source": [
    "# ### Reshape collaborative activity table.\n",
    "# # formatting dataframe for collab activities\n",
    "# cdf = pd.DataFrame()\n",
    "\n",
    "# for key, mdf in all_tables.items():\n",
    "#     collab_df = mdf.loc[mdf['header.frame_id'].isin(\n",
    "#         ['collab-activity', 'collab-activity-2'])].copy()\n",
    "#     collab_df['participant'] = key\n",
    "#     collab_df.drop(columns=['action.agent_name', 'state', 'is_submission',\n",
    "#                    'cost', 'mst_cost', 'spanning', 'error'], inplace=True)\n",
    "#     collab_df.rename(columns={\"header.frame_id\": \"activity\"}, inplace=True)\n",
    "#     cdf = cdf.append(collab_df)\n",
    "\n",
    "# cdf.sort_values(by=['participant'], inplace=True)\n",
    "# values = list()\n",
    "# for index, row in cdf.iterrows():\n",
    "#     if row['is_mst'] == True:\n",
    "#         values.append(1)\n",
    "#     else:\n",
    "#         values.append(0)\n",
    "# cdf['is_mst'] = values\n",
    "# cdf"
   ]
  },
  {
   "cell_type": "code",
   "execution_count": 13,
   "metadata": {
    "code_folding": [
     0
    ]
   },
   "outputs": [],
   "source": [
    "# ### Visualize collaborative activity performance.\n",
    "\n",
    "# participants = [1, 2, 3, 4, 5, 6, 7, 9, 10]\n",
    "# separation = 0.01\n",
    "\n",
    "# # graphing the pretest versus posttest is_spanning scores\n",
    "# fig, ax = plt.subplots(1, figsize=(5, 5))\n",
    "\n",
    "# prelist = list()\n",
    "# postlist = list()\n",
    "# for i in participants:\n",
    "#     temp = cdf[cdf['participant'] == i]\n",
    "#     values = list(temp.is_mst)\n",
    "#     #computing offset between overlapping lines\n",
    "#     p0 = values[0] + prelist.count(values[0])*separation\n",
    "#     p1 = values[1] + prelist.count(values[1])*separation\n",
    "#     prelist.append(values[0])\n",
    "#     postlist.append(values[1])\n",
    "#     #plotting\n",
    "#     plt.plot(temp.activity, [p0,p1], marker='o', markersize=5)\n",
    "# plt.ylabel('Score')\n",
    "# plt.title('Collab Activity Success\\n', loc='center', fontsize=20)\n",
    "\n",
    "# leg = plt.legend(participants, loc='upper left', frameon=True)\n",
    "# # get the bounding box of the original legend\n",
    "# bb = leg.get_bbox_to_anchor().inverse_transformed(ax.transAxes)\n",
    "# # change to location of the legend\n",
    "# xOffset = 1.1\n",
    "# bb.x0 += xOffset\n",
    "# bb.x1 += xOffset\n",
    "# leg.set_bbox_to_anchor(bb, transform=ax.transAxes)\n",
    "\n",
    "# # set y axis ticks to percentages\n",
    "# yticks = plt.yticks()[0]\n",
    "# plt.yticks(np.arange(0, 2, step=1), ['Fail','Success'])\n",
    "# plt.show()"
   ]
  },
  {
   "cell_type": "markdown",
   "metadata": {},
   "source": [
    "### Visualize feasible solutions in the tests."
   ]
  },
  {
   "cell_type": "code",
   "execution_count": 56,
   "metadata": {
    "scrolled": false
   },
   "outputs": [
    {
     "name": "stdout",
     "output_type": "stream",
     "text": [
      "2 (0.8, 1.0) 0.78 0.98\n",
      "4 (0.8, 1.0) 0.79 0.99\n",
      "5 (1.0, 0.8) 0.98 0.78\n",
      "6 (1.0, 0.8) 0.99 0.79\n",
      "7 (0.4, 0.0) 0.38 -0.02\n",
      "1 (1.0, 1.0) 1.0 1.0\n",
      "3 (1.0, 1.0) 1.01 1.01\n",
      "8 (1.0, 1.0) 1.02 1.02\n",
      "9 (1.0, 1.0) 1.03 1.03\n",
      "../figures/learning_outcomes_feasible.pdf\n"
     ]
    },
    {
     "data": {
      "image/png": "[encoded data removed]",
      "text/plain": [
       "<Figure size 360x504 with 1 Axes>"
      ]
     },
     "metadata": {
      "needs_background": "light"
     },
     "output_type": "display_data"
    }
   ],
   "source": [
    "# participants = [1, 2, 3, 4, 5, 6, 7, 9, 10]\n",
    "separation = 0.01\n",
    "participants = learn_df.index\n",
    "\n",
    "# graphing the pretest versus posttest is_spanning scores\n",
    "fig, ax = plt.subplots(1, figsize=(5, 7))\n",
    "\n",
    "participants = [2, 4, 5, 6, 7, 1, 3, 8, 9]\n",
    "# Positions.\n",
    "prelist = list()\n",
    "postlist = list()\n",
    "positions = dict()\n",
    "for participant in participants:  # participants:  #reversed():\n",
    "    temp = learn_df.loc[participant]  # learn_df[learn_df['participant'] == i]\n",
    "    values = temp.pretest_feasible, temp.posttest_feasible\n",
    "    # Compute offset to prevent overlapping lines.\n",
    "    p0 = values[0] + (prelist.count(values[0])-2)*separation\n",
    "    p1 = values[1] + (postlist.count(values[1])-2)*separation\n",
    "    prelist.append(values[0])\n",
    "    postlist.append(values[1])\n",
    "    print(participant, values, p0, p1)\n",
    "    positions[participant] = (p0, p1)\n",
    "\n",
    "# Plot.\n",
    "for participant in sorted(participants):\n",
    "    position = positions[participant]\n",
    "    # Plot a line segment for the participant.\n",
    "    sns.lineplot(\n",
    "        x=['pre-test', 'post-test'], y=position,\n",
    "        marker='o', label=str(participant),\n",
    "        legend=False, ax=ax)\n",
    "\n",
    "ax.set_ylabel('feasible solutions')\n",
    "ax.yaxis.set_major_formatter(mtick.PercentFormatter(1.0))\n",
    "# ax.xaxis.tick_params(length=0)\n",
    "ax.tick_params(axis='y', which='both', length=0)\n",
    "\n",
    "ax.set_title('Learning Outcomes on Feasibility')\n",
    "\n",
    "# fig.legend(borderpad=0.2)\n",
    "leg = plt.legend(participants, loc='upper left', frameon=True)\n",
    "# get the bounding box of the original legend\n",
    "bb = leg.get_bbox_to_anchor().inverse_transformed(ax.transAxes)\n",
    "# change to location of the legend\n",
    "xOffset = 1.05  # 1.1\n",
    "bb.x0 += xOffset\n",
    "bb.x1 += xOffset\n",
    "leg.set_bbox_to_anchor(bb, transform=ax.transAxes)\n",
    "\n",
    "export_file = figs_dir.joinpath('learning_outcomes_feasible.pdf')\n",
    "fig.savefig(export_file, bbox_inches='tight')\n",
    "print(export_file)"
   ]
  },
  {
   "cell_type": "markdown",
   "metadata": {},
   "source": [
    "### Visualize feasible solutions in the tests."
   ]
  },
  {
   "cell_type": "code",
   "execution_count": null,
   "metadata": {},
   "outputs": [],
   "source": []
  },
  {
   "cell_type": "code",
   "execution_count": null,
   "metadata": {},
   "outputs": [],
   "source": []
  },
  {
   "cell_type": "code",
   "execution_count": 57,
   "metadata": {
    "code_folding": [
     0
    ]
   },
   "outputs": [],
   "source": [
    "# # graphing the pretest versus posttest is_mst scores\n",
    "# fig, ax = plt.subplots(1, figsize=(5, 7))\n",
    "\n",
    "# prelist = list()\n",
    "# postlist = list()\n",
    "# for i in participants:\n",
    "#     temp = mstdf[mstdf['participant'] == i]\n",
    "#     values = list(temp.value)\n",
    "#     #computing offset between overlapping lines\n",
    "#     p0 = values[0] + prelist.count(values[0])*separation\n",
    "#     p1 = values[1] + prelist.count(values[1])*separation\n",
    "#     prelist.append(values[0])\n",
    "#     postlist.append(values[1])\n",
    "#     #plotting\n",
    "#     plt.plot(temp.p_type, [p0,p1], marker='o', markersize=5)\n",
    "# plt.ylabel('Score')\n",
    "# plt.title('Optimal Solution\\n', loc='center', fontsize=20)\n",
    "\n",
    "# leg = plt.legend(participants, loc='upper left', frameon=True)\n",
    "# # get the bounding box of the original legend\n",
    "# bb = leg.get_bbox_to_anchor().inverse_transformed(ax.transAxes)\n",
    "# # change to location of the legend\n",
    "# xOffset = 1.1\n",
    "# bb.x0 += xOffset\n",
    "# bb.x1 += xOffset\n",
    "# leg.set_bbox_to_anchor(bb, transform=ax.transAxes)\n",
    "\n",
    "# # set y axis ticks to percentages\n",
    "# yticks = plt.yticks()[0]\n",
    "# plt.yticks(yticks[1:-1], [str(round((i/5)*100)) + '%' for i in yticks[1:-1]])\n",
    "# plt.show()\n",
    "\n",
    "# # graphing the pretest versus posttest spanning scores\n",
    "# fig, ax = plt.subplots(1, figsize=(5, 7))\n",
    "# for i in participants:\n",
    "#     temp = errordf[errordf['participant'] == i]\n",
    "#     plt.plot(temp.p_type, temp.value, marker='o', markersize=5)\n",
    "# plt.ylabel('Score')\n",
    "# plt.title('Error Average\\n', loc='center', fontsize=20)\n",
    "\n",
    "# leg = plt.legend(participants, loc='upper left', frameon=True)\n",
    "# # get the bounding box of the original legend\n",
    "# bb = leg.get_bbox_to_anchor().inverse_transformed(ax.transAxes)\n",
    "# # change to location of the legend\n",
    "# xOffset = 1.1\n",
    "# bb.x0 += xOffset\n",
    "# bb.x1 += xOffset\n",
    "# leg.set_bbox_to_anchor(bb, transform=ax.transAxes)\n",
    "\n",
    "# # set y axis ticks to percentages\n",
    "# yticks = plt.yticks()[0]\n",
    "# plt.yticks(yticks[1:-1], [str(round(i*100)) + '%' for i in yticks[1:-1]])\n",
    "# plt.show()"
   ]
  },
  {
   "cell_type": "markdown",
   "metadata": {},
   "source": [
    "### Perform Wilcoxon signed-rank test."
   ]
  },
  {
   "cell_type": "code",
   "execution_count": null,
   "metadata": {
    "scrolled": true
   },
   "outputs": [],
   "source": [
    "df = learning_df.copy()\n",
    "df.rename(columns={\"pre_error\": \"pretest_error\", \"post_error\":\"posttest_error\"}, inplace=True)\n",
    "display(df)\n",
    "df.dropna(inplace=True)\n",
    "\n",
    "categories = ['span','mst', 'error']\n",
    "\n",
    "for name in categories:\n",
    "    r = list(df['pretest_' + name])\n",
    "    o = list(df['posttest_' + name])\n",
    "    print(name)\n",
    "    w, p = wilcoxon(r,o,mode=\"exact\") \n",
    "    #null hypotehsis says they are the same, p val less than threshold, reject hyp, conclude that post is larger than pretest\n",
    "    print('Exact:','W=',w,'pvalue=',p)\n",
    "    a,b = wilcoxon(r,o,mode=\"exact\", alternative=\"greater\")\n",
    "    print('Greater:','W=',a,'pvalue=',b)\n",
    "\n",
    "# display(learning_df)"
   ]
  },
  {
   "cell_type": "code",
   "execution_count": null,
   "metadata": {},
   "outputs": [],
   "source": [
    "with learning_pickle_file.open('wb') as handle:\n",
    "    pickle.dump(learn_df, handle, protocol=pickle.HIGHEST_PROTOCOL)\n",
    "\n",
    "print('Saved learning table to {}'.format(learning_pickle_file))"
   ]
  },
  {
   "cell_type": "markdown",
   "metadata": {},
   "source": [
    "### Compute the effect size (estimated by Cliff's delta)."
   ]
  },
  {
   "cell_type": "code",
   "execution_count": null,
   "metadata": {},
   "outputs": [],
   "source": [
    "categories = ['span', 'mst', 'error']\n",
    "\n",
    "for name in categories:\n",
    "    r = list(df['pretest_{}'.format(name)])\n",
    "    o = list(df['posttest_{}'.format(name)])\n",
    "    print(name)\n",
    "    \n",
    "    # Estimate effect size by Cliff's Delta.\n",
    "    d = two_group_difference(control=r, test=o, effect_size='cliffs_delta')\n",
    "    print(\"For categury {} Cliff's delta = {}\".format(name, d)"
   ]
  }
 ],
 "metadata": {
  "kernelspec": {
   "display_name": "justhink-analysis-venv",
   "language": "python",
   "name": "justhink-analysis-venv"
  },
  "language_info": {
   "codemirror_mode": {
    "name": "ipython",
    "version": 3
   },
   "file_extension": ".py",
   "mimetype": "text/x-python",
   "name": "python",
   "nbconvert_exporter": "python",
   "pygments_lexer": "ipython3",
   "version": "3.8.10"
  },
  "toc": {
   "base_numbering": 1,
   "nav_menu": {},
   "number_sections": false,
   "sideBar": true,
   "skip_h1_title": false,
   "title_cell": "Table of Contents",
   "title_sidebar": "Contents",
   "toc_cell": false,
   "toc_position": {
    "height": "calc(100% - 180px)",
    "left": "10px",
    "top": "150px",
    "width": "201px"
   },
   "toc_section_display": true,
   "toc_window_display": true
  }
 },
 "nbformat": 4,
 "nbformat_minor": 5
}
