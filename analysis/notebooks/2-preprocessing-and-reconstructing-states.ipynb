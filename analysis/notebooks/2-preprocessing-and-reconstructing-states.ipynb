{
 "cells": [
  {
   "cell_type": "code",
   "execution_count": 1,
   "id": "3d384509",
   "metadata": {
    "code_folding": []
   },
   "outputs": [],
   "source": [
    "from justhink_problem.problem import init_problem, reset_problem\n",
    "from justhink_problem.domain.state import WorldState\n",
    "import pathlib as pl\n",
    "import pickle\n",
    "import pandas as pd\n",
    "import copy"
   ]
  },
  {
   "cell_type": "code",
   "execution_count": 2,
   "id": "753519bb",
   "metadata": {},
   "outputs": [],
   "source": [
    "pd.set_option('display.max_rows', 500)\n",
    "\n",
    "action_type_dict = {\n",
    "    'TYPE_SUGGEST_PICK': 0,\n",
    "    'TYPE_PICK': 1,\n",
    "    'TYPE_UNPICK': 2,\n",
    "    'TYPE_SUBMIT': 3,\n",
    "    'TYPE_SUGGEST_SUBMIT': 4,\n",
    "    'TYPE_CLEAR_SUGGEST_SUBMIT': 5,\n",
    "    'TYPE_AGREE': 6,\n",
    "    'TYPE_DISAGREE': 7,\n",
    "    'TYPE_CLEAR': 8,\n",
    "    'TYPE_GUESS': 9}"
   ]
  },
  {
   "cell_type": "markdown",
   "id": "58a6b383",
   "metadata": {},
   "source": [
    "# Define paths."
   ]
  },
  {
   "cell_type": "code",
   "execution_count": 3,
   "id": "d86935f7",
   "metadata": {},
   "outputs": [],
   "source": [
    "resources_dir = pl.Path('resources')\n",
    "networks_dir = resources_dir.joinpath('networks')\n",
    "tables_dir = pl.Path('../processed_data/log_tables')\n",
    "processed_tables_pickle_file = pl.Path(\n",
    "    '../processed_data/processed_tables.pickle')"
   ]
  },
  {
   "cell_type": "markdown",
   "id": "715707d5",
   "metadata": {},
   "source": [
    "### Making activity network files."
   ]
  },
  {
   "cell_type": "code",
   "execution_count": 4,
   "id": "412f0108",
   "metadata": {
    "code_folding": []
   },
   "outputs": [],
   "source": [
    "# making network files for an activity\n",
    "def make_network_files(name, networks_dir):\n",
    "    network_file = networks_dir.joinpath('{}_edgelist.txt'.format(name))\n",
    "    layout_file = networks_dir.joinpath('{}_layout.json'.format(name))\n",
    "    return {'network_file': network_file, 'layout_file': layout_file}"
   ]
  },
  {
   "cell_type": "markdown",
   "id": "00b5f665",
   "metadata": {},
   "source": [
    "# Initializing Problems."
   ]
  },
  {
   "cell_type": "code",
   "execution_count": 5,
   "id": "94f1d6a0",
   "metadata": {},
   "outputs": [],
   "source": [
    "test_submit_mode = 'once'\n",
    "problems = {}\n",
    "\n",
    "test_actions = ['pick', 'unpick', 'suggest-submit']\n",
    "activity_actions = ['suggest-pick', 'submit']\n",
    "\n",
    "for test in ['pretest', 'posttest']:\n",
    "    for i in range(1, 6):\n",
    "        name = '{}-{}'.format(test, i)\n",
    "\n",
    "        problems[name] = init_problem(\n",
    "            **make_network_files(name, networks_dir),\n",
    "            action_types=test_actions,\n",
    "            submit_mode=test_submit_mode)\n",
    "\n",
    " # Initialise the main collaborative activity problem.\n",
    "name = 'collab-activity'\n",
    "problems[name] = init_problem(\n",
    "    **make_network_files(name, networks_dir),\n",
    "    action_types=activity_actions)\n",
    "name = 'collab-activity-2'\n",
    "problems[name] = init_problem(\n",
    "    **make_network_files(name, networks_dir),\n",
    "    action_types=activity_actions)\n",
    "name = 'indiv-illustrate'\n",
    "problems[name] = init_problem(\n",
    "    **make_network_files(name, networks_dir))"
   ]
  },
  {
   "cell_type": "code",
   "execution_count": 6,
   "id": "616f0a53",
   "metadata": {},
   "outputs": [
    {
     "data": {
      "text/plain": [
       "EdgeDataView([(3, 1, {'cost': 3}), (3, 0, {'cost': 3}), (3, 2, {'cost': 3}), (3, 5, {'cost': 4}), (3, 7, {'cost': 5}), (1, 9, {'cost': 3}), (1, 2, {'cost': 2}), (1, 5, {'cost': 4}), (1, 4, {'cost': 3}), (0, 2, {'cost': 5}), (0, 7, {'cost': 4}), (2, 9, {'cost': 4}), (2, 8, {'cost': 3}), (5, 4, {'cost': 2}), (5, 7, {'cost': 3}), (5, 6, {'cost': 4}), (7, 6, {'cost': 2}), (9, 4, {'cost': 3}), (9, 8, {'cost': 2}), (4, 6, {'cost': 2})])"
      ]
     },
     "execution_count": 6,
     "metadata": {},
     "output_type": "execute_result"
    }
   ],
   "source": [
    "name = 'pretest-1'\n",
    "name = 'collab-activity'\n",
    "\n",
    "problems[name].env.state.graph.edges(data=True)\n",
    "# help(problems[name].env.state)"
   ]
  },
  {
   "cell_type": "markdown",
   "id": "c7106282",
   "metadata": {},
   "source": [
    "# Make dictionaries for dataframe traversal."
   ]
  },
  {
   "cell_type": "code",
   "execution_count": 7,
   "id": "579bab5d",
   "metadata": {},
   "outputs": [],
   "source": [
    "# dictionary for file path, key is student id\n",
    "file_list = tables_dir.glob(\n",
    "    'justhink20_log_*/justhink_app-state_transition.csv')\n",
    "files = {}\n",
    "\n",
    "for f in file_list:\n",
    "    i = int(str(f.parent).split('_')[-1])\n",
    "    files[i] = f\n",
    "\n",
    "# dictionary for the state transition tables, key is student id\n",
    "tables = {}\n",
    "\n",
    "for student in files:\n",
    "    df = pd.read_csv(files[student])\n",
    "    tables[student] = df"
   ]
  },
  {
   "cell_type": "markdown",
   "id": "2a0658e0",
   "metadata": {},
   "source": [
    "# Reconstruct a State."
   ]
  },
  {
   "cell_type": "code",
   "execution_count": 8,
   "id": "ce0ca638",
   "metadata": {},
   "outputs": [],
   "source": [
    "# reconstructing the state of the input row\n",
    "def reconstruct_state(full_row, graph, verbose=False):\n",
    "    # row_index refers to table row +2\n",
    "    row = full_row[3:9]\n",
    "    # print(row)\n",
    "\n",
    "    # reconstructs edge list from string\n",
    "    edge_list_text = str(row[0])\n",
    "    edge_list = edge_list_text.strip('[').strip(']').split(',')\n",
    "    edges = list()\n",
    "    for edge_text in edge_list:\n",
    "        # if the edge list is empty\n",
    "        if edge_list[0] == '':\n",
    "            break\n",
    "        l = edge_text.split()\n",
    "        edge = (int(l[1]), int(l[3]))\n",
    "        edges.append(edge)\n",
    "    edges = frozenset(edges)\n",
    "\n",
    "    suggested = (int(row[1]), int(row[2]))\n",
    "    terminal = bool(row[3])\n",
    "    submit_suggested = bool(row[4])\n",
    "\n",
    "    state = WorldState(graph, edges, suggested, submit_suggested, terminal)\n",
    "\n",
    "    if verbose:\n",
    "        print(state)\n",
    "    return state\n"
   ]
  },
  {
   "cell_type": "code",
   "execution_count": 9,
   "id": "d2ecf59a",
   "metadata": {},
   "outputs": [
    {
     "name": "stdout",
     "output_type": "stream",
     "text": [
      "WorldState(n:7,e:12|e:6,c:19,s:False,t:False)\n"
     ]
    },
    {
     "data": {
      "text/plain": [
       "WorldState(n:7,e:12|e:6,c:19,s:False,t:False)"
      ]
     },
     "execution_count": 9,
     "metadata": {},
     "output_type": "execute_result"
    }
   ],
   "source": [
    "problem = problems['pretest-1']\n",
    "df = tables[1].copy()\n",
    "row_index = 10\n",
    "reconstruct_state(df.iloc[row_index], problem.env.state.graph, verbose=True)"
   ]
  },
  {
   "cell_type": "markdown",
   "id": "56d4a6b7",
   "metadata": {},
   "source": [
    "# Reconstruct all States.\n",
    "\n",
    "Appending world_state, is_submission, cost, and is_mst columns to the table."
   ]
  },
  {
   "cell_type": "code",
   "execution_count": 10,
   "id": "b49c46d7",
   "metadata": {
    "scrolled": true
   },
   "outputs": [],
   "source": [
    "# reconstruct the state for every row in the table\n",
    "def reconstruct_problem_state(df, verbose=False):\n",
    "    state_list = []\n",
    "    is_submission = []\n",
    "    cost = []\n",
    "    is_mst = []\n",
    "\n",
    "    for i, row in df.iterrows():\n",
    "        problem_name = row['header.frame_id']\n",
    "        problem = problems[problem_name]\n",
    "        state = reconstruct_state(row, problem.env.state.graph)\n",
    "\n",
    "        state_list.append(state)\n",
    "\n",
    "        submission = identify_submission_state(row)\n",
    "        is_submission.append(submission)\n",
    "        if verbose and submission:\n",
    "            print('Submitted', problem_name, state)\n",
    "\n",
    "        cost.append(state.get_cost())\n",
    "        is_mst.append(state.is_mst())\n",
    "\n",
    "    # append worldstate column\n",
    "    df['world_state'] = state_list\n",
    "    # append is submission column\n",
    "    df['is_submission'] = is_submission\n",
    "    # append cost column\n",
    "    df['cost'] = cost\n",
    "    # append is_mst column\n",
    "    df['is_mst'] = is_mst\n",
    "\n",
    "    return df"
   ]
  },
  {
   "cell_type": "markdown",
   "id": "963563bc",
   "metadata": {},
   "source": [
    "### Identifying submission state."
   ]
  },
  {
   "cell_type": "code",
   "execution_count": 11,
   "id": "0877712e",
   "metadata": {},
   "outputs": [],
   "source": [
    "# identifies which problem state has been submitted\n",
    "def identify_submission_state(row):\n",
    "    # check if the last state's action type is submit type 3 or 4\n",
    "    problem_name = row['header.frame_id']\n",
    "    action_type = row['action.type']\n",
    "\n",
    "    if 'test' in problem_name:\n",
    "        return action_type == 4\n",
    "\n",
    "    # for collaborative activities check for 3 only\n",
    "    elif \"collab\" in problem_name:\n",
    "        return action_type == 3\n",
    "\n",
    "    else:\n",
    "        return False\n"
   ]
  },
  {
   "cell_type": "code",
   "execution_count": 12,
   "id": "654f5e2f",
   "metadata": {},
   "outputs": [
    {
     "name": "stdout",
     "output_type": "stream",
     "text": [
      "Submitted pretest-1 WorldState(n:7,e:12|e:7,c:23,s:True,t:False)\n",
      "Submitted pretest-1 WorldState(n:7,e:12|e:7,c:23,s:True,t:False)\n",
      "Submitted pretest-2 WorldState(n:7,e:12|e:7,c:38,s:True,t:False)\n",
      "Submitted pretest-2 WorldState(n:7,e:12|e:7,c:38,s:True,t:False)\n",
      "Submitted pretest-3 WorldState(n:7,e:12|e:6,c:22,s:True,t:False)\n",
      "Submitted pretest-3 WorldState(n:7,e:12|e:6,c:22,s:True,t:False)\n",
      "Submitted pretest-4 WorldState(n:7,e:12|e:6,c:45,s:True,t:False)\n",
      "Submitted pretest-4 WorldState(n:7,e:12|e:6,c:45,s:True,t:False)\n",
      "Submitted pretest-5 WorldState(n:7,e:12|e:6,c:15,s:True,t:False)\n",
      "Submitted pretest-5 WorldState(n:7,e:12|e:6,c:15,s:True,t:False)\n",
      "Submitted collab-activity WorldState(n:10,e:20|e:14,c:38,s:True,t:False)\n",
      "Submitted collab-activity WorldState(n:10,e:20|e:11,c:29,s:True,t:False)\n",
      "Submitted collab-activity WorldState(n:10,e:20|e:11,c:29,s:True,t:False)\n",
      "Submitted collab-activity WorldState(n:10,e:20|e:12,c:32,s:True,t:False)\n",
      "Submitted collab-activity-2 WorldState(n:10,e:20|e:11,c:47,s:False,t:False)\n",
      "Submitted collab-activity-2 WorldState(n:10,e:20|e:11,c:47,s:True,t:False)\n",
      "Submitted collab-activity-2 WorldState(n:10,e:20|e:9,c:35,s:True,t:False)\n",
      "Submitted posttest-1 WorldState(n:7,e:12|e:6,c:15,s:True,t:False)\n",
      "Submitted posttest-1 WorldState(n:7,e:12|e:6,c:15,s:True,t:False)\n",
      "Submitted posttest-2 WorldState(n:7,e:12|e:6,c:30,s:True,t:False)\n",
      "Submitted posttest-2 WorldState(n:7,e:12|e:6,c:30,s:True,t:False)\n",
      "Submitted posttest-3 WorldState(n:7,e:12|e:6,c:21,s:True,t:False)\n",
      "Submitted posttest-3 WorldState(n:7,e:12|e:6,c:21,s:True,t:False)\n",
      "Submitted posttest-4 WorldState(n:7,e:12|e:6,c:45,s:True,t:False)\n",
      "Submitted posttest-4 WorldState(n:7,e:12|e:6,c:45,s:True,t:False)\n",
      "Submitted posttest-5 WorldState(n:7,e:12|e:6,c:16,s:True,t:False)\n",
      "Submitted posttest-5 WorldState(n:7,e:12|e:6,c:16,s:True,t:False)\n"
     ]
    }
   ],
   "source": [
    "problem_name = 'collab-activity'\n",
    "problem_name = 'pretest-1'\n",
    "df = tables[1].copy()\n",
    "df = reconstruct_problem_state(df, verbose=True)"
   ]
  },
  {
   "cell_type": "markdown",
   "id": "50720694",
   "metadata": {},
   "source": [
    "# Storing processed tables into a dictionary"
   ]
  },
  {
   "cell_type": "code",
   "execution_count": 13,
   "id": "aec09fdf",
   "metadata": {
    "scrolled": true
   },
   "outputs": [
    {
     "name": "stdout",
     "output_type": "stream",
     "text": [
      "Processed 6\n",
      "Processed 1\n",
      "Processed 9\n",
      "Processed 7\n",
      "Processed 2\n",
      "Processed 5\n",
      "Processed 4\n",
      "Processed 3\n",
      "Processed 10\n"
     ]
    }
   ],
   "source": [
    "processed_tables = {}\n",
    "for key, df in tables.items():\n",
    "    df = df.copy()\n",
    "    df = reconstruct_problem_state(df)\n",
    "    processed_tables[key] = df\n",
    "    print('Processed', key)"
   ]
  },
  {
   "cell_type": "markdown",
   "id": "8c53bf0c",
   "metadata": {},
   "source": [
    "# Pickling processed tables"
   ]
  },
  {
   "cell_type": "code",
   "execution_count": 14,
   "id": "fbd7c9a5",
   "metadata": {},
   "outputs": [
    {
     "name": "stdout",
     "output_type": "stream",
     "text": [
      "Saved processed tables to ../processed_data/processed_tables.pickle\n"
     ]
    }
   ],
   "source": [
    "with processed_tables_pickle_file.open('wb') as handle:\n",
    "    pickle.dump(processed_tables, handle, protocol=pickle.HIGHEST_PROTOCOL)\n",
    "\n",
    "print('Saved processed tables to {}'.format(processed_tables_pickle_file))"
   ]
  }
 ],
 "metadata": {
  "kernelspec": {
   "display_name": "venv",
   "language": "python",
   "name": "venv"
  },
  "language_info": {
   "codemirror_mode": {
    "name": "ipython",
    "version": 3
   },
   "file_extension": ".py",
   "mimetype": "text/x-python",
   "name": "python",
   "nbconvert_exporter": "python",
   "pygments_lexer": "ipython3",
   "version": "3.7.7"
  },
  "toc": {
   "base_numbering": 1,
   "nav_menu": {},
   "number_sections": false,
   "sideBar": true,
   "skip_h1_title": false,
   "title_cell": "Table of Contents",
   "title_sidebar": "Contents",
   "toc_cell": false,
   "toc_position": {},
   "toc_section_display": true,
   "toc_window_display": true
  }
 },
 "nbformat": 4,
 "nbformat_minor": 5
}
