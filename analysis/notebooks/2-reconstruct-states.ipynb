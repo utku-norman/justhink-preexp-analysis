{
 "cells": [
  {
   "cell_type": "code",
   "execution_count": 1,
   "id": "dc6caf5d",
   "metadata": {},
   "outputs": [],
   "source": [
    "from justhink_problem.problem import init_problem, reset_problem\n",
    "import pathlib as pl\n",
    "\n",
    "import copy"
   ]
  },
  {
   "cell_type": "code",
   "execution_count": 2,
   "id": "ba76a3e3",
   "metadata": {},
   "outputs": [],
   "source": [
    "def make_network_files(name, networks_dir):\n",
    "    network_file = networks_dir.joinpath('{}_edgelist.txt'.format(name))\n",
    "    layout_file = networks_dir.joinpath('{}_layout.json'.format(name))\n",
    "    return {'network_file': network_file, 'layout_file': layout_file}\n"
   ]
  },
  {
   "cell_type": "code",
   "execution_count": 3,
   "id": "b56d4bde",
   "metadata": {},
   "outputs": [],
   "source": [
    "test_submit_mode = 'once'\n",
    "problems = {}\n",
    "\n",
    "test_actions = ['pick', 'unpick', 'suggest-submit']  # 'submit',\n",
    "# activity_actions = ['suggest-pick', 'suggest-submit']\n",
    "activity_actions = ['suggest-pick', 'submit']\n",
    "\n",
    "resources_dir = pl.Path('resources')\n",
    "networks_dir = resources_dir.joinpath('networks')\n",
    "        \n",
    "        \n",
    "for test in ['pretest', 'posttest']:\n",
    "    for i in range(1, 6):\n",
    "        name = '{}-{}'.format(test, i)\n",
    "\n",
    "        problems[name] = init_problem(\n",
    "            **make_network_files(name, networks_dir),\n",
    "            action_types=test_actions,\n",
    "            submit_mode=test_submit_mode)\n",
    "        \n",
    " # Initialise the main collaborative activity problem.\n",
    "name = 'collab-activity'\n",
    "problems[name] = init_problem(\n",
    "    **make_network_files(name, networks_dir),\n",
    "    action_types=activity_actions)\n",
    "name = 'collab-activity-2'\n",
    "problems[name] = init_problem(\n",
    "    **make_network_files(name, networks_dir),\n",
    "    action_types=activity_actions)"
   ]
  },
  {
   "cell_type": "code",
   "execution_count": 4,
   "id": "43ca212f",
   "metadata": {},
   "outputs": [
    {
     "name": "stdout",
     "output_type": "stream",
     "text": [
      "Help on WorldState in module justhink_problem.domain.state object:\n",
      "\n",
      "class WorldState(pomdp_py.framework.basics.State)\n",
      " |  WorldState(graph, edges=frozenset(), terminal=False)\n",
      " |  \n",
      " |  The State class. State must be `hashable`.\n",
      " |  \n",
      " |  Method resolution order:\n",
      " |      WorldState\n",
      " |      pomdp_py.framework.basics.State\n",
      " |      builtins.object\n",
      " |  \n",
      " |  Methods defined here:\n",
      " |  \n",
      " |  __eq__(self, other)\n",
      " |      Return self==value.\n",
      " |  \n",
      " |  __hash__(self)\n",
      " |      Return hash(self).\n",
      " |  \n",
      " |  __init__(self, graph, edges=frozenset(), terminal=False)\n",
      " |      Initialize self.  See help(type(self)) for accurate signature.\n",
      " |  \n",
      " |  __repr__(self)\n",
      " |      Return repr(self).\n",
      " |  \n",
      " |  __str__(self)\n",
      " |      Return str(self).\n",
      " |  \n",
      " |  clear_selection(self)\n",
      " |  \n",
      " |  get_cost(self)\n",
      " |  \n",
      " |  is_mst(self)\n",
      " |  \n",
      " |  is_spanning(self)\n",
      " |  \n",
      " |  ----------------------------------------------------------------------\n",
      " |  Data descriptors defined here:\n",
      " |  \n",
      " |  __dict__\n",
      " |      dictionary for instance variables (if defined)\n",
      " |  \n",
      " |  __weakref__\n",
      " |      list of weak references to the object (if defined)\n",
      " |  \n",
      " |  ----------------------------------------------------------------------\n",
      " |  Methods inherited from pomdp_py.framework.basics.State:\n",
      " |  \n",
      " |  __ge__(self, value, /)\n",
      " |      Return self>=value.\n",
      " |  \n",
      " |  __gt__(self, value, /)\n",
      " |      Return self>value.\n",
      " |  \n",
      " |  __le__(self, value, /)\n",
      " |      Return self<=value.\n",
      " |  \n",
      " |  __lt__(self, value, /)\n",
      " |      Return self<value.\n",
      " |  \n",
      " |  __ne__(self, value, /)\n",
      " |      Return self!=value.\n",
      " |  \n",
      " |  __reduce__ = __reduce_cython__(...)\n",
      " |  \n",
      " |  __setstate__ = __setstate_cython__(...)\n",
      " |  \n",
      " |  ----------------------------------------------------------------------\n",
      " |  Static methods inherited from pomdp_py.framework.basics.State:\n",
      " |  \n",
      " |  __new__(*args, **kwargs) from builtins.type\n",
      " |      Create and return a new object.  See help(type) for accurate signature.\n",
      "\n"
     ]
    }
   ],
   "source": [
    "name = 'pretest-1'\n",
    "name = 'collab-activity'\n",
    "\n",
    "\n",
    "problems[name].env.state.is_mst()\n",
    "\n",
    "problems[name].env.state.graph.edges(data=True)\n",
    "\n",
    "help(problems[name].env.state)"
   ]
  },
  {
   "cell_type": "code",
   "execution_count": 5,
   "id": "466d4985",
   "metadata": {},
   "outputs": [
    {
     "ename": "NameError",
     "evalue": "name 'df' is not defined",
     "output_type": "error",
     "traceback": [
      "\u001b[0;31m---------------------------------------------------------------------------\u001b[0m",
      "\u001b[0;31mNameError\u001b[0m                                 Traceback (most recent call last)",
      "\u001b[0;32m<ipython-input-5-b6d43b38b65e>\u001b[0m in \u001b[0;36m<module>\u001b[0;34m\u001b[0m\n\u001b[1;32m     10\u001b[0m \u001b[0;34m\u001b[0m\u001b[0m\n\u001b[1;32m     11\u001b[0m \u001b[0;34m\u001b[0m\u001b[0m\n\u001b[0;32m---> 12\u001b[0;31m \u001b[0mstate_df\u001b[0m \u001b[0;34m=\u001b[0m \u001b[0mdf\u001b[0m\u001b[0;34m.\u001b[0m\u001b[0miloc\u001b[0m\u001b[0;34m[\u001b[0m\u001b[0;36m9\u001b[0m\u001b[0;34m,\u001b[0m\u001b[0;36m5\u001b[0m\u001b[0;34m:\u001b[0m\u001b[0;36m10\u001b[0m\u001b[0;34m]\u001b[0m \u001b[0;31m#\u001b[0m\u001b[0;34m\u001b[0m\u001b[0;34m\u001b[0m\u001b[0m\n\u001b[0m\u001b[1;32m     13\u001b[0m \u001b[0;34m\u001b[0m\u001b[0m\n\u001b[1;32m     14\u001b[0m \u001b[0;34m\u001b[0m\u001b[0m\n",
      "\u001b[0;31mNameError\u001b[0m: name 'df' is not defined"
     ]
    }
   ],
   "source": [
    "import pandas as pd\n",
    "\n",
    "from os import listdir\n",
    "from os.path import isfile, join\n",
    "\n",
    "#discover files in \n",
    "\n",
    "data_dir = 'venue_1'\n",
    "log_df = pd.read_csv('../../data/venue_1/1_2021-06-01_09-58-54/justhink_app-state_transition.csv') \n"
   ]
  },
  {
   "cell_type": "code",
   "execution_count": null,
   "id": "50b8e24b",
   "metadata": {},
   "outputs": [],
   "source": [
    "#update problem by state, paramters: problem, row of table return updated problem\n",
    "\n",
    "def update_state(problem, df, row_index, verbose=False, inplace=True):\n",
    "    if not inplace:\n",
    "        problem = copy.deepcopy(problem)\n",
    "        \n",
    "    row = df.iloc[row_index,5:10]\n",
    "    \n",
    "    #reconstructs edge list from string\n",
    "    edge_list_text = row[0]\n",
    "    edge_list = edge_list_text.strip('[').strip(']').split(',')\n",
    "    edges = list()\n",
    "    for edge_text in edge_list:\n",
    "        l = edge_text.split()\n",
    "        edge = (int(l[1]), int(l[3]))\n",
    "        edges.append(edge)\n",
    "    edges = frozenset(edges)\n",
    "    problem.env.state.edges = edges\n",
    "\n",
    "    \n",
    "    problem.env.state.suggested = (int(row[1]), int(row[2]))\n",
    "    problem.env.state.terminal = bool(row[3])\n",
    "    problem.env.state.submit_suggested = bool(row[4])\n",
    "        \n",
    "    if verbose:\n",
    "        print(problem.env.state)\n",
    "    return problem\n",
    "        \n",
    "        \n",
    "problem = problems['pretest-1']\n",
    "df = log_df.copy()\n",
    "row_index = 8\n",
    "update_state(problem, df, row_index, verbose=True, inplace=False);\n",
    "\n",
    "\n",
    "#try pickle it"
   ]
  },
  {
   "cell_type": "code",
   "execution_count": null,
   "id": "0b7418af",
   "metadata": {},
   "outputs": [],
   "source": [
    "\n",
    "edges = state_df[0]\n",
    "for e in state.edges:\n",
    "    edges.append((e.u, e.v))\n",
    "    edges = frozenset(edges)\n",
    "    problem.env.state.edges = edges\n",
    "    problem.env.state.suggested = (\n",
    "        state_df[1], state_df[2])\n",
    "    problem.env.state.terminal = state_df[3]\n",
    "    problem.env.state.submit_suggested = state_df[4]\n"
   ]
  },
  {
   "cell_type": "code",
   "execution_count": null,
   "id": "a18d16cf",
   "metadata": {},
   "outputs": [],
   "source": [
    "problems['pretest-1'].env.state.edges = state_df[0]\n",
    "problems['pretest-1'].env.state.edges"
   ]
  },
  {
   "cell_type": "code",
   "execution_count": null,
   "id": "e5372147",
   "metadata": {},
   "outputs": [],
   "source": [
    "if action type is 4 or 3 then print that there was the submission of the activity"
   ]
  }
 ],
 "metadata": {
  "kernelspec": {
   "display_name": "venv",
   "language": "python",
   "name": "venv"
  },
  "language_info": {
   "codemirror_mode": {
    "name": "ipython",
    "version": 3
   },
   "file_extension": ".py",
   "mimetype": "text/x-python",
   "name": "python",
   "nbconvert_exporter": "python",
   "pygments_lexer": "ipython3",
   "version": "3.7.7"
  }
 },
 "nbformat": 4,
 "nbformat_minor": 5
}
