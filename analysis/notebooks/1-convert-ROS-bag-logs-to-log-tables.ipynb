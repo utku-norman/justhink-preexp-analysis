{
 "cells": [
  {
   "cell_type": "markdown",
   "metadata": {},
   "source": [
    "This notebook converts the the logs in [ROS bag format](http://wiki.ros.org/rosbag), that were used to log the events in the application and robot actions, to tables in CSV data format.\n",
    "\n",
    "Tables are organised as per event type (i.e. per ROS topic) and per participant and exported to CSV files."
   ]
  },
  {
   "cell_type": "code",
   "execution_count": 1,
   "metadata": {},
   "outputs": [],
   "source": [
    "import os\n",
    "import shutil\n",
    "\n",
    "import pandas as pd\n",
    "import pathlib as pl\n",
    "import bagpy"
   ]
  },
  {
   "cell_type": "markdown",
   "metadata": {},
   "source": [
    "### Define paths."
   ]
  },
  {
   "cell_type": "code",
   "execution_count": 2,
   "metadata": {},
   "outputs": [],
   "source": [
    "data_dir = pl.Path('../../data/venue_2')\n",
    "processed_dir = pl.Path('../processed_data/log_tables')\n",
    "\n",
    "# Create output directories if they do not exist.\n",
    "for folder in [processed_dir]:\n",
    "    if not folder.exists():\n",
    "        folder.mkdir(parents=True)"
   ]
  },
  {
   "cell_type": "markdown",
   "metadata": {},
   "source": [
    "### Make a temporary copy of the bag files.\n",
    "The bagpy module creates tables at the place of the bag file. Therefore, we make a temporary copy of each bag file, then delete them not to modify the original data folder."
   ]
  },
  {
   "cell_type": "code",
   "execution_count": 3,
   "metadata": {},
   "outputs": [
    {
     "name": "stdout",
     "output_type": "stream",
     "text": [
      "10 bag files found:\n",
      "../../data/venue_2/10_2021-06-11_14-31-27.bag\n",
      "../../data/venue_2/1_2021-06-07_08-50-35.bag\n",
      "../../data/venue_2/2_2021-06-07_10-23-50.bag\n",
      "../../data/venue_2/3_2021-06-07_12-42-01.bag\n",
      "../../data/venue_2/4_2021-06-07_14-27-51.bag\n",
      "../../data/venue_2/5_2021-06-09_08-41-13.bag\n",
      "../../data/venue_2/6_2021-06-09_10-10-24.bag\n",
      "../../data/venue_2/7_2021-06-09_12-43-33.bag\n",
      "../../data/venue_2/8_2021-06-09_14-30-38.bag\n",
      "../../data/venue_2/9_2021-06-11_12-41-21.bag\n",
      "Copying ../../data/venue_2/10_2021-06-11_14-31-27.bag to ../processed_data/log_tables/justhink21_log_10.bag\n",
      "Copying ../../data/venue_2/1_2021-06-07_08-50-35.bag to ../processed_data/log_tables/justhink21_log_01.bag\n",
      "Copying ../../data/venue_2/2_2021-06-07_10-23-50.bag to ../processed_data/log_tables/justhink21_log_02.bag\n",
      "Copying ../../data/venue_2/3_2021-06-07_12-42-01.bag to ../processed_data/log_tables/justhink21_log_03.bag\n",
      "Copying ../../data/venue_2/4_2021-06-07_14-27-51.bag to ../processed_data/log_tables/justhink21_log_04.bag\n",
      "Copying ../../data/venue_2/5_2021-06-09_08-41-13.bag to ../processed_data/log_tables/justhink21_log_05.bag\n",
      "Copying ../../data/venue_2/6_2021-06-09_10-10-24.bag to ../processed_data/log_tables/justhink21_log_06.bag\n",
      "Copying ../../data/venue_2/7_2021-06-09_12-43-33.bag to ../processed_data/log_tables/justhink21_log_07.bag\n",
      "Copying ../../data/venue_2/8_2021-06-09_14-30-38.bag to ../processed_data/log_tables/justhink21_log_08.bag\n",
      "Copying ../../data/venue_2/9_2021-06-11_12-41-21.bag to ../processed_data/log_tables/justhink21_log_09.bag\n"
     ]
    }
   ],
   "source": [
    "# List of all bag files in the data directory.\n",
    "bag_files = sorted(data_dir.glob('*.bag'))\n",
    "print('{} bag files found:'.format(len(bag_files)))\n",
    "for file in sorted(bag_files):\n",
    "    print(file)\n",
    "\n",
    "# Make a map for the temporary copies.\n",
    "temp_map = {}\n",
    "for f in sorted(bag_files):\n",
    "    index = f.name.split('_')[0]\n",
    "    new_name = 'justhink21_log_{:02d}.bag'.format(int(index))\n",
    "    temp_map[f] = processed_dir.joinpath(new_name)   \n",
    "\n",
    "# Copy each file to its temporary position.\n",
    "for original in sorted(temp_map):\n",
    "    temp = temp_map[original]\n",
    "    print('Copying {} to {}'.format(original, temp))\n",
    "    shutil.copy(original, temp)"
   ]
  },
  {
   "cell_type": "markdown",
   "metadata": {},
   "source": [
    "### Convert bag files to csv files per topic and per participant."
   ]
  },
  {
   "cell_type": "code",
   "execution_count": 4,
   "metadata": {
    "scrolled": false
   },
   "outputs": [
    {
     "name": "stdout",
     "output_type": "stream",
     "text": [
      "Reading ../processed_data/log_tables/justhink21_log_01.bag\n",
      "[INFO]  Successfully created the data folder ../processed_data/log_tables/justhink21_log_01.\n",
      "Written participant log to ../processed_data/log_tables/justhink21_log_01.csv\n",
      "Reading ../processed_data/log_tables/justhink21_log_02.bag\n",
      "[INFO]  Successfully created the data folder ../processed_data/log_tables/justhink21_log_02.\n",
      "Written participant log to ../processed_data/log_tables/justhink21_log_02.csv\n",
      "Reading ../processed_data/log_tables/justhink21_log_03.bag\n",
      "[INFO]  Successfully created the data folder ../processed_data/log_tables/justhink21_log_03.\n",
      "Written participant log to ../processed_data/log_tables/justhink21_log_03.csv\n",
      "Reading ../processed_data/log_tables/justhink21_log_04.bag\n",
      "[INFO]  Successfully created the data folder ../processed_data/log_tables/justhink21_log_04.\n",
      "Written participant log to ../processed_data/log_tables/justhink21_log_04.csv\n",
      "Reading ../processed_data/log_tables/justhink21_log_05.bag\n",
      "[INFO]  Successfully created the data folder ../processed_data/log_tables/justhink21_log_05.\n",
      "Written participant log to ../processed_data/log_tables/justhink21_log_05.csv\n",
      "Reading ../processed_data/log_tables/justhink21_log_06.bag\n",
      "[INFO]  Successfully created the data folder ../processed_data/log_tables/justhink21_log_06.\n",
      "Written participant log to ../processed_data/log_tables/justhink21_log_06.csv\n",
      "Reading ../processed_data/log_tables/justhink21_log_07.bag\n",
      "[INFO]  Successfully created the data folder ../processed_data/log_tables/justhink21_log_07.\n",
      "Written participant log to ../processed_data/log_tables/justhink21_log_07.csv\n",
      "Reading ../processed_data/log_tables/justhink21_log_08.bag\n",
      "[INFO]  Successfully created the data folder ../processed_data/log_tables/justhink21_log_08.\n",
      "Written participant log to ../processed_data/log_tables/justhink21_log_08.csv\n",
      "Reading ../processed_data/log_tables/justhink21_log_09.bag\n",
      "[INFO]  Successfully created the data folder ../processed_data/log_tables/justhink21_log_09.\n",
      "Written participant log to ../processed_data/log_tables/justhink21_log_09.csv\n",
      "Reading ../processed_data/log_tables/justhink21_log_10.bag\n",
      "[INFO]  Successfully created the data folder ../processed_data/log_tables/justhink21_log_10.\n",
      "Written participant log to ../processed_data/log_tables/justhink21_log_10.csv\n"
     ]
    }
   ],
   "source": [
    "# For each temporary bag file.\n",
    "for temp_bag_file in sorted(temp_map.values()):\n",
    "    participant_file = temp_bag_file.with_suffix('.csv')\n",
    "    print('Reading', str(temp_bag_file))\n",
    "\n",
    "    # Create a reader for the bag.\n",
    "    bag = bagpy.bagreader(str(temp_bag_file), verbose=True)\n",
    "\n",
    "    # Make a csv file for every topic in the bag:\n",
    "    # bagreader implicitly writes to csv files in a folder.\n",
    "    csvfiles = []\n",
    "    for topic in bag.topics:\n",
    "        file = bag.message_by_topic(topic)\n",
    "        csvfiles.append(file)\n",
    "\n",
    "    # Put all the logs of a participant into one table.\n",
    "    participant_df = pd.DataFrame()\n",
    "    # For each topic\n",
    "    for file in csvfiles:\n",
    "        # Construct a shorter name.\n",
    "        topic_name = str(file.split('/')[-1].split('.')[0])\n",
    "\n",
    "        participant_df = participant_df.append(pd.DataFrame(\n",
    "            [[topic_name], []], columns=[\"Topic\"]))\n",
    "        df = pd.read_csv(file)\n",
    "\n",
    "        # Reset time to have duration in the time column.\n",
    "        df['Time'] -= df.iloc[0]['Time']\n",
    "\n",
    "        # Drop the header time columns.\n",
    "        l = ['header.stamp.secs', 'header.stamp.nsecs']\n",
    "        for col in l:\n",
    "            if col in df.columns:\n",
    "                df.drop(col, axis=1, inplace=True)\n",
    "\n",
    "        # Append the table from each topic into one table.\n",
    "        participant_df = participant_df.append(df)\n",
    "\n",
    "    # Make a csv file for the participant (all topics).\n",
    "    participant_df.to_csv(participant_file, index=False)\n",
    "    print('Written participant log to {}'.format(participant_file))"
   ]
  },
  {
   "cell_type": "markdown",
   "metadata": {},
   "source": [
    "### Delete the temporary bag files."
   ]
  },
  {
   "cell_type": "code",
   "execution_count": 5,
   "metadata": {
    "scrolled": false
   },
   "outputs": [
    {
     "name": "stdout",
     "output_type": "stream",
     "text": [
      "Removed temporary bag file ../processed_data/log_tables/justhink21_log_01.bag\n",
      "Removed temporary bag file ../processed_data/log_tables/justhink21_log_02.bag\n",
      "Removed temporary bag file ../processed_data/log_tables/justhink21_log_03.bag\n",
      "Removed temporary bag file ../processed_data/log_tables/justhink21_log_04.bag\n",
      "Removed temporary bag file ../processed_data/log_tables/justhink21_log_05.bag\n",
      "Removed temporary bag file ../processed_data/log_tables/justhink21_log_06.bag\n",
      "Removed temporary bag file ../processed_data/log_tables/justhink21_log_07.bag\n",
      "Removed temporary bag file ../processed_data/log_tables/justhink21_log_08.bag\n",
      "Removed temporary bag file ../processed_data/log_tables/justhink21_log_09.bag\n",
      "Removed temporary bag file ../processed_data/log_tables/justhink21_log_10.bag\n"
     ]
    }
   ],
   "source": [
    "# remove bag files from log_tables dir\n",
    "for temp in sorted(temp_map.values()):\n",
    "    os.remove(str(temp))\n",
    "    print(\"Removed temporary bag file {}\".format(temp))"
   ]
  }
 ],
 "metadata": {
  "kernelspec": {
   "display_name": "justhink-analysis-venv",
   "language": "python",
   "name": "justhink-analysis-venv"
  },
  "language_info": {
   "codemirror_mode": {
    "name": "ipython",
    "version": 3
   },
   "file_extension": ".py",
   "mimetype": "text/x-python",
   "name": "python",
   "nbconvert_exporter": "python",
   "pygments_lexer": "ipython3",
   "version": "3.8.10"
  },
  "toc": {
   "base_numbering": 1,
   "nav_menu": {},
   "number_sections": false,
   "sideBar": true,
   "skip_h1_title": false,
   "title_cell": "Table of Contents",
   "title_sidebar": "Contents",
   "toc_cell": false,
   "toc_position": {},
   "toc_section_display": true,
   "toc_window_display": true
  }
 },
 "nbformat": 4,
 "nbformat_minor": 5
}
