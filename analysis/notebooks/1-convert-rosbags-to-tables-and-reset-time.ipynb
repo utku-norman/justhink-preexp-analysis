{
 "cells": [
  {
   "cell_type": "code",
   "execution_count": 1,
   "id": "52bc94ee",
   "metadata": {},
   "outputs": [],
   "source": [
    "import pandas as pd\n",
    "import bagpy\n",
    "from bagpy import bagreader\n",
    "import os\n",
    "from os import listdir\n",
    "from os.path import isfile, join\n",
    "import pathlib as pl\n",
    "import shutil"
   ]
  },
  {
   "cell_type": "markdown",
   "id": "157421ae",
   "metadata": {},
   "source": [
    "# Define paths."
   ]
  },
  {
   "cell_type": "code",
   "execution_count": 6,
   "id": "f256cd31",
   "metadata": {},
   "outputs": [],
   "source": [
    "data_dir = pl.Path('../../data/venue_2')\n",
    "processed_dir = pl.Path('../processed_data/log_tables')\n",
    "\n",
    "# Create output directories if they do not exist.\n",
    "for folder in [processed_dir]:\n",
    "    if not folder.exists():\n",
    "        folder.mkdir(parents=True)"
   ]
  },
  {
   "cell_type": "markdown",
   "id": "55a46784",
   "metadata": {},
   "source": [
    "### Mapping new file locations."
   ]
  },
  {
   "cell_type": "code",
   "execution_count": 3,
   "id": "e6fa4cb2",
   "metadata": {},
   "outputs": [
    {
     "name": "stdout",
     "output_type": "stream",
     "text": [
      "{PosixPath('../../data/venue_2/10_2021-06-11_14-31-27.bag'): PosixPath('../processed_data/log_tables/justhink20_log_10.bag'), PosixPath('../../data/venue_2/1_2021-06-07_08-50-35.bag'): PosixPath('../processed_data/log_tables/justhink20_log_01.bag'), PosixPath('../../data/venue_2/2_2021-06-07_10-23-50.bag'): PosixPath('../processed_data/log_tables/justhink20_log_02.bag'), PosixPath('../../data/venue_2/3_2021-06-07_12-42-01.bag'): PosixPath('../processed_data/log_tables/justhink20_log_03.bag'), PosixPath('../../data/venue_2/4_2021-06-07_14-27-51.bag'): PosixPath('../processed_data/log_tables/justhink20_log_04.bag'), PosixPath('../../data/venue_2/5_2021-06-09_08-41-13.bag'): PosixPath('../processed_data/log_tables/justhink20_log_05.bag'), PosixPath('../../data/venue_2/6_2021-06-09_10-10-24.bag'): PosixPath('../processed_data/log_tables/justhink20_log_06.bag'), PosixPath('../../data/venue_2/7_2021-06-09_12-43-33.bag'): PosixPath('../processed_data/log_tables/justhink20_log_07.bag'), PosixPath('../../data/venue_2/8_2021-06-09_14-30-38.bag'): PosixPath('../processed_data/log_tables/justhink20_log_08.bag'), PosixPath('../../data/venue_2/9_2021-06-11_12-41-21.bag'): PosixPath('../processed_data/log_tables/justhink20_log_09.bag')}\n"
     ]
    }
   ],
   "source": [
    "# list of all bag files in data_dir\n",
    "bag_files = sorted(data_dir.glob('*.bag'))\n",
    "\n",
    "# renaming table for moving the bag files\n",
    "temp_map = {}\n",
    "for f in bag_files:\n",
    "    index = f.name.split('_')[0]\n",
    "    new_name = 'justhink20_log_{:02d}.bag'.format(int(index))\n",
    "    temp_map[f] = processed_dir.joinpath(new_name)\n",
    "print(temp_map)\n",
    "\n",
    "for original, temp in temp_map.items():\n",
    "    shutil.copy(original, temp)"
   ]
  },
  {
   "cell_type": "markdown",
   "id": "5bc00a5b",
   "metadata": {},
   "source": [
    "# Convert .bag files to csv files."
   ]
  },
  {
   "cell_type": "code",
   "execution_count": 4,
   "id": "b94294a7",
   "metadata": {
    "scrolled": false
   },
   "outputs": [
    {
     "name": "stdout",
     "output_type": "stream",
     "text": [
      "Reading ../processed_data/log_tables/justhink20_log_10.bag\n",
      "[INFO]  Data folder ../processed_data/log_tables/justhink20_log_10 already exists. Not creating.\n",
      "Reading ../processed_data/log_tables/justhink20_log_01.bag\n",
      "[INFO]  Data folder ../processed_data/log_tables/justhink20_log_01 already exists. Not creating.\n",
      "Reading ../processed_data/log_tables/justhink20_log_02.bag\n",
      "[INFO]  Data folder ../processed_data/log_tables/justhink20_log_02 already exists. Not creating.\n",
      "Reading ../processed_data/log_tables/justhink20_log_03.bag\n",
      "[INFO]  Data folder ../processed_data/log_tables/justhink20_log_03 already exists. Not creating.\n",
      "Reading ../processed_data/log_tables/justhink20_log_04.bag\n",
      "[INFO]  Data folder ../processed_data/log_tables/justhink20_log_04 already exists. Not creating.\n",
      "Reading ../processed_data/log_tables/justhink20_log_05.bag\n",
      "[INFO]  Data folder ../processed_data/log_tables/justhink20_log_05 already exists. Not creating.\n",
      "Reading ../processed_data/log_tables/justhink20_log_06.bag\n",
      "[INFO]  Data folder ../processed_data/log_tables/justhink20_log_06 already exists. Not creating.\n",
      "Reading ../processed_data/log_tables/justhink20_log_07.bag\n",
      "[INFO]  Data folder ../processed_data/log_tables/justhink20_log_07 already exists. Not creating.\n",
      "Reading ../processed_data/log_tables/justhink20_log_08.bag\n",
      "[INFO]  Data folder ../processed_data/log_tables/justhink20_log_08 already exists. Not creating.\n",
      "Reading ../processed_data/log_tables/justhink20_log_09.bag\n",
      "[INFO]  Data folder ../processed_data/log_tables/justhink20_log_09 already exists. Not creating.\n"
     ]
    }
   ],
   "source": [
    "# converting all bag files to csv files\n",
    "for temp in temp_map.values():\n",
    "    name = temp\n",
    "    print('Reading', str(name))\n",
    "\n",
    "    b = bagreader(str(name), verbose=True)\n",
    "\n",
    "    # make a csv file for every topic in the bag\n",
    "    csvfiles = []\n",
    "    for t in b.topics:\n",
    "        data = b.message_by_topic(t)\n",
    "        csvfiles.append(data)\n",
    "\n",
    "    completeDf = pd.DataFrame()\n",
    "\n",
    "    # creating a dataframe for each topic csv\n",
    "    for index, name in enumerate(csvfiles):\n",
    "        topic_name = str(name.split('/')[-1].split('.')[0])\n",
    "\n",
    "        completeDf = completeDf.append(pd.DataFrame(\n",
    "            [[topic_name], []], columns=[\"Topic\"]))\n",
    "        dataframe = pd.read_csv(name)\n",
    "        # reset time\n",
    "        dataframe['Time'] -= dataframe.iloc[0]['Time']\n",
    "\n",
    "        l = ['header.stamp.secs', 'header.stamp.nsecs']\n",
    "        for col in l:\n",
    "            if col in dataframe.columns:\n",
    "                dataframe.drop(col, axis=1, inplace=True)\n",
    "\n",
    "        dataframe.to_csv(name, index=False)\n",
    "\n",
    "        completeDf = completeDf.append(dataframe)"
   ]
  },
  {
   "cell_type": "markdown",
   "id": "18da67bd",
   "metadata": {},
   "source": [
    "# Clearing temporary bag files."
   ]
  },
  {
   "cell_type": "code",
   "execution_count": 5,
   "id": "c5c2d672",
   "metadata": {
    "scrolled": true
   },
   "outputs": [
    {
     "name": "stdout",
     "output_type": "stream",
     "text": [
      "Removed temporary bag file ../processed_data/log_tables/justhink20_log_10.bag\n",
      "Removed temporary bag file ../processed_data/log_tables/justhink20_log_01.bag\n",
      "Removed temporary bag file ../processed_data/log_tables/justhink20_log_02.bag\n",
      "Removed temporary bag file ../processed_data/log_tables/justhink20_log_03.bag\n",
      "Removed temporary bag file ../processed_data/log_tables/justhink20_log_04.bag\n",
      "Removed temporary bag file ../processed_data/log_tables/justhink20_log_05.bag\n",
      "Removed temporary bag file ../processed_data/log_tables/justhink20_log_06.bag\n",
      "Removed temporary bag file ../processed_data/log_tables/justhink20_log_07.bag\n",
      "Removed temporary bag file ../processed_data/log_tables/justhink20_log_08.bag\n",
      "Removed temporary bag file ../processed_data/log_tables/justhink20_log_09.bag\n"
     ]
    }
   ],
   "source": [
    "# remove bag files from log_tables dir\n",
    "for original, temp in temp_map.items():\n",
    "    os.remove(str(temp))\n",
    "    print(\"Removed temporary bag file {}\".format(temp))"
   ]
  }
 ],
 "metadata": {
  "kernelspec": {
   "display_name": "venv",
   "language": "python",
   "name": "venv"
  },
  "language_info": {
   "codemirror_mode": {
    "name": "ipython",
    "version": 3
   },
   "file_extension": ".py",
   "mimetype": "text/x-python",
   "name": "python",
   "nbconvert_exporter": "python",
   "pygments_lexer": "ipython3",
   "version": "3.7.7"
  },
  "toc": {
   "base_numbering": 1,
   "nav_menu": {},
   "number_sections": false,
   "sideBar": true,
   "skip_h1_title": false,
   "title_cell": "Table of Contents",
   "title_sidebar": "Contents",
   "toc_cell": false,
   "toc_position": {},
   "toc_section_display": true,
   "toc_window_display": true
  }
 },
 "nbformat": 4,
 "nbformat_minor": 5
}
